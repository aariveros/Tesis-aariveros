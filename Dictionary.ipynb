{
 "cells": [
  {
   "cell_type": "code",
   "execution_count": 3,
   "metadata": {
    "collapsed": false
   },
   "outputs": [
    {
     "name": "stdout",
     "output_type": "stream",
     "text": [
      "Populating the interactive namespace from numpy and matplotlib\n"
     ]
    },
    {
     "name": "stderr",
     "output_type": "stream",
     "text": [
      "WARNING: pylab import has clobbered these variables: ['f', 'random']\n",
      "`%matplotlib` prevents importing * from pylab and numpy\n"
     ]
    }
   ],
   "source": [
    "from packages.display.core import *\n",
    "%pylab inline\n",
    "pylab.rcParams['figure.figsize'] = (200, 5)"
   ]
  },
  {
   "cell_type": "code",
   "execution_count": 2,
   "metadata": {
    "collapsed": true
   },
   "outputs": [],
   "source": [
    "%qtconsole"
   ]
  },
  {
   "cell_type": "code",
   "execution_count": 3,
   "metadata": {
    "collapsed": true
   },
   "outputs": [],
   "source": [
    "cube_params = {\n",
    "  'alpha'    : 0,\n",
    "  'delta'    : 0,\n",
    "  'spe_bw'   : 4000,\n",
    "  'spe_res'  : 1,\n",
    "  's_f'      : 8,\n",
    "  's_a'      : 1}"
   ]
  },
  {
   "cell_type": "code",
   "execution_count": 4,
   "metadata": {
    "collapsed": false
   },
   "outputs": [
    {
     "name": "stderr",
     "output_type": "stream",
     "text": [
      "WARNING: AstropyDeprecationWarning: The new_table function is deprecated and may be removed in a future version.\n",
      "        Use :meth:`BinTableHDU.from_columns` for new BINARY tables or :meth:`TableHDU.from_columns` for new ASCII tables instead. [astropy.utils.decorators]\n",
      "WARNING:astropy:AstropyDeprecationWarning: The new_table function is deprecated and may be removed in a future version.\n",
      "        Use :meth:`BinTableHDU.from_columns` for new BINARY tables or :meth:`TableHDU.from_columns` for new ASCII tables instead.\n"
     ]
    }
   ],
   "source": [
    "dbpath = 'ASYDO'\n",
    "dba = packages.asydopy.db.lineDB(dbpath)\n",
    "dba.connect()\n",
    "\n",
    "for f in np.arange(604000, 718000, 4000):\n",
    "    freq_init = f - 2000\n",
    "    freq_end = f + 2000\n",
    "    cube_params['freq'] = f\n",
    "    \n",
    "    select = \"SELECT * FROM Lines WHERE NOT SPECIES LIKE '%-%' AND FREQ > \" + str(freq_init) + \" AND FREQ < \" + str(freq_end)\n",
    "    all_molist_present = dba.executeSQL(select)\n",
    "    for i in range(0, len(all_molist_present)):\n",
    "        iso = all_molist_present[i][1]\n",
    "\n",
    "        if i == 0:\n",
    "            molist_present = [iso]\n",
    "        else:\n",
    "            molist_present.append(iso)\n",
    "            \n",
    "    molist_present = list(set(molist_present))\n",
    "    \n",
    "    file_path = \" \" + str(freq_init) + \" - \" + str(freq_end)\n",
    "    dictionary = gen_words(molist_present, cube_params)\n",
    "    save_dictionary(dictionary, file_path)\n",
    "    \n",
    "dba.disconnect()"
   ]
  },
  {
   "cell_type": "code",
   "execution_count": 1,
   "metadata": {
    "collapsed": false
   },
   "outputs": [
    {
     "ename": "NameError",
     "evalue": "name 'np' is not defined",
     "output_type": "error",
     "traceback": [
      "\u001b[1;31m---------------------------------------------------------------------------\u001b[0m",
      "\u001b[1;31mNameError\u001b[0m                                 Traceback (most recent call last)",
      "\u001b[1;32m<ipython-input-1-dd34d1a22347>\u001b[0m in \u001b[0;36m<module>\u001b[1;34m()\u001b[0m\n\u001b[1;32m----> 1\u001b[1;33m \u001b[1;32mfor\u001b[0m \u001b[0mf\u001b[0m \u001b[1;32min\u001b[0m \u001b[0mnp\u001b[0m\u001b[1;33m.\u001b[0m\u001b[0marange\u001b[0m\u001b[1;33m(\u001b[0m\u001b[1;36m604000\u001b[0m\u001b[1;33m,\u001b[0m \u001b[1;36m718000\u001b[0m\u001b[1;33m,\u001b[0m \u001b[1;36m4000\u001b[0m\u001b[1;33m)\u001b[0m\u001b[1;33m:\u001b[0m\u001b[1;33m\u001b[0m\u001b[0m\n\u001b[0m\u001b[0;32m      2\u001b[0m \u001b[1;33m\u001b[0m\u001b[0m\n\u001b[0;32m      3\u001b[0m     \u001b[0mfreq_init\u001b[0m \u001b[1;33m=\u001b[0m \u001b[0mf\u001b[0m \u001b[1;33m-\u001b[0m \u001b[1;36m2000\u001b[0m\u001b[1;33m\u001b[0m\u001b[0m\n\u001b[0;32m      4\u001b[0m     \u001b[0mfreq_end\u001b[0m \u001b[1;33m=\u001b[0m \u001b[0mf\u001b[0m \u001b[1;33m+\u001b[0m \u001b[1;36m2000\u001b[0m\u001b[1;33m\u001b[0m\u001b[0m\n\u001b[0;32m      5\u001b[0m     \u001b[0mfile_path\u001b[0m \u001b[1;33m=\u001b[0m \u001b[1;34m\" \"\u001b[0m \u001b[1;33m+\u001b[0m \u001b[0mstr\u001b[0m\u001b[1;33m(\u001b[0m\u001b[0mfreq_init\u001b[0m\u001b[1;33m)\u001b[0m \u001b[1;33m+\u001b[0m \u001b[1;34m\" - \"\u001b[0m \u001b[1;33m+\u001b[0m \u001b[0mstr\u001b[0m\u001b[1;33m(\u001b[0m\u001b[0mfreq_end\u001b[0m\u001b[1;33m)\u001b[0m\u001b[1;33m\u001b[0m\u001b[0m\n",
      "\u001b[1;31mNameError\u001b[0m: name 'np' is not defined"
     ]
    }
   ],
   "source": [
    "for f in np.arange(604000, 718000, 4000):\n",
    "    \n",
    "    freq_init = f - 2000\n",
    "    freq_end = f + 2000\n",
    "    file_path = \" \" + str(freq_init) + \" - \" + str(freq_end)\n",
    "    \n",
    "    dictionary = load_dictionary(file_path)\n",
    "    \n",
    "    plt.ylim(ymin = -1,ymax = 1)\n",
    "    for isotope in dictionary.columns:\n",
    "        # for idx in range(0, len(dictionary[isotope])):\n",
    "        #     if (dictionary[isotope].iloc[idx] !=0):\n",
    "        #         plt.text(idx, -0.3, isotope, size='8', rotation='vertical')\n",
    "        #         break\n",
    "        plt.plot(dictionary[isotope])\n",
    "    plt.show()"
   ]
  },
  {
   "cell_type": "code",
   "execution_count": 4,
   "metadata": {
    "collapsed": false
   },
   "outputs": [],
   "source": [
    "f = 604000\n",
    "freq_init = f - 2000\n",
    "freq_end = f + 2000\n",
    "file_path = \" \" + str(freq_init) + \" - \" + str(freq_end)\n",
    "dictionary = load_dictionary(file_path)"
   ]
  },
  {
   "cell_type": "code",
   "execution_count": 6,
   "metadata": {
    "collapsed": false
   },
   "outputs": [
    {
     "data": {
      "text/plain": [
       "Index([u'H213CO-f602083.584', u'SiC2v3=1-f602336.8272',\n",
       "       u'SiC2v3=1-f604019.3618', u'SiC2v3=1-f604801.7755',\n",
       "       u'SiC2v3=1-f604948.8596', u'SiC2v3=1-f605132.0388',\n",
       "       u'SiC2v3=1-f605216.5379', u'SiC2v3=1-f605549.2112',\n",
       "       u'H2CCO-f602565.196', u'H2CCO-f603329.579',\n",
       "       ...\n",
       "       u'Si13CC-f605293.7188', u'Si13CC-f605911.4978', u'H2C34S-f604710.9998',\n",
       "       u'H2C34S-f605200.1552', u'H2C34S-f605585.4505', u'H2C34S-f605935.8198',\n",
       "       u'SiC2v=0-f603985.2102', u'SiC2v=0-f604313.1608',\n",
       "       u'SiC2v=0-f604313.1609', u'SiC2v=0-f604685.2934'],\n",
       "      dtype='object', length=833)"
      ]
     },
     "execution_count": 6,
     "metadata": {},
     "output_type": "execute_result"
    }
   ],
   "source": [
    "dictionary.columns"
   ]
  }
 ],
 "metadata": {
  "kernelspec": {
   "display_name": "Python 2",
   "language": "python",
   "name": "python2"
  },
  "language_info": {
   "codemirror_mode": {
    "name": "ipython",
    "version": 2
   },
   "file_extension": ".py",
   "mimetype": "text/x-python",
   "name": "python",
   "nbconvert_exporter": "python",
   "pygments_lexer": "ipython2",
   "version": "2.7.12"
  }
 },
 "nbformat": 4,
 "nbformat_minor": 0
}
