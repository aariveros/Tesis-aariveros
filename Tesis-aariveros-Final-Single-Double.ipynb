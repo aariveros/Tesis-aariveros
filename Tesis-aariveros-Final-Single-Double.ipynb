{
 "cells": [
  {
   "cell_type": "code",
   "execution_count": 1,
   "metadata": {
    "collapsed": false
   },
   "outputs": [
    {
     "name": "stdout",
     "output_type": "stream",
     "text": [
      "Populating the interactive namespace from numpy and matplotlib\n"
     ]
    },
    {
     "name": "stderr",
     "output_type": "stream",
     "text": [
      "WARNING: pylab import has clobbered these variables: ['random']\n",
      "`%matplotlib` prevents importing * from pylab and numpy\n"
     ]
    }
   ],
   "source": [
    "from packages.display.core import *\n",
    "%pylab inline"
   ]
  },
  {
   "cell_type": "code",
   "execution_count": 2,
   "metadata": {
    "collapsed": true
   },
   "outputs": [],
   "source": [
    "%qtconsole"
   ]
  },
  {
   "cell_type": "markdown",
   "metadata": {},
   "source": [
    "# Testing Band 9\n",
    "\n",
    "## Creation of Data Cubes\n",
    "\n",
    "Creation of the Synthetic Data Cubes ALMA-like using ASYDO Project.\n",
    "Parameters:\n",
    "\n",
    " - isolist    : subset of the list of isotopes to generate a cube\n",
    "\n",
    " cube_params:\n",
    "\n",
    " - freq    : spectral center (frequency)\n",
    " - alpha   : right-ascension center (degrees\n",
    " - delta   : declination center (degrees\n",
    " - spe_res : spectral resolution (MHz)\n",
    " - spe_bw  : spectral bandwidth (MHz)\n",
    " - s_f, s_a : skew-normal distrib, s_f: full width at half maximum, alpha: curtosis parameter. "
   ]
  },
  {
   "cell_type": "code",
   "execution_count": 3,
   "metadata": {
    "collapsed": false
   },
   "outputs": [],
   "source": [
    "cube_params = {\n",
    "  'freq'     : 604000,\n",
    "  'alpha'    : 0,\n",
    "  'delta'    : 0,\n",
    "  'spe_bw'   : 4000,\n",
    "  'spe_res'  : 1,\n",
    "  's_f'      : 8,\n",
    "  's_a'      : 0}"
   ]
  },
  {
   "cell_type": "markdown",
   "metadata": {},
   "source": [
    "To select the isolist, the wavelength range of the cube is obtained, and a searching from theoretical catalog Splatalogue is performed. All the isotopes that have spectral lines on the range of the cube are determinated."
   ]
  },
  {
   "cell_type": "code",
   "execution_count": 4,
   "metadata": {
    "collapsed": false
   },
   "outputs": [],
   "source": [
    "# freq_init = cube_params['freq'] - cube_params['spe_bw']/2.0\n",
    "# freq_end = cube_params['freq'] + cube_params['spe_bw']/2.0\n",
    "\n",
    "# molist_present = theoretical_presence(molist, freq_init, freq_end)"
   ]
  },
  {
   "cell_type": "markdown",
   "metadata": {},
   "source": [
    "Then, we get all the possible combination sets of the previously determined isotopes."
   ]
  },
  {
   "cell_type": "code",
   "execution_count": 5,
   "metadata": {
    "collapsed": true
   },
   "outputs": [],
   "source": [
    "# all_subsets = sum(map(lambda r: list(combinations(molist_present, r)),\n",
    "#                                 range(1, len(molist_present)+1)), [])"
   ]
  },
  {
   "cell_type": "markdown",
   "metadata": {},
   "source": [
    "Finally, random sets previously determinated are selected in order to generate the data cubes."
   ]
  },
  {
   "cell_type": "code",
   "execution_count": 6,
   "metadata": {
    "collapsed": false
   },
   "outputs": [],
   "source": [
    "# random_index = np.random.randint(len(all_subsets), size=25)\n",
    "\n",
    "# isolist = []\n",
    "# for i in random_index:\n",
    "#     isolist.append(all_subsets[i])\n",
    "    \n",
    "# save_isolist(isolist)"
   ]
  },
  {
   "cell_type": "code",
   "execution_count": 7,
   "metadata": {
    "collapsed": false
   },
   "outputs": [],
   "source": [
    "# isolist = load_isolist()"
   ]
  },
  {
   "cell_type": "markdown",
   "metadata": {},
   "source": [
    "### Generate Datacubes in Band 9, Fixed Width"
   ]
  },
  {
   "cell_type": "code",
   "execution_count": 8,
   "metadata": {
    "collapsed": false,
    "scrolled": false
   },
   "outputs": [],
   "source": [
    "# log=open('data/isolist_fixed_width.log', 'w')\n",
    "# cube_n = 0\n",
    "# cube_name = 'data/cube_fixed_width_'\n",
    "# for i in range(0, 25):\n",
    "\n",
    "    # Creation of the cube\n",
    "#    gen_cube(isolist[i], cube_params, cube_name + str(cube_n))\n",
    "#    log.write(cube_name + ': ' + str(isolist[i]) + '\\n')\n",
    "#    cube_n += 1\n",
    "# log.close()"
   ]
  },
  {
   "cell_type": "markdown",
   "metadata": {},
   "source": [
    "### Generate Datacubes in Band 9, Variable (TO DO: Fix variable width in ASYDO) Width"
   ]
  },
  {
   "cell_type": "code",
   "execution_count": 9,
   "metadata": {
    "collapsed": false
   },
   "outputs": [],
   "source": [
    "# log=open('data/isolist_variable_width.log', 'w')\n",
    "# cube_n = 25\n",
    "# cube_name = 'data/cube_variable_width_'\n",
    "# for i in range(0, 25):\n",
    "\n",
    "    # Creation of the cube\n",
    "#     gen_cube_variable_width(isolist[i], cube_params, cube_name + str(cube_n))   \n",
    "#     log.write(cube_name + ': ' + str(isolist[i]) + '\\n')\n",
    "#     cube_n += 1\n",
    "# log.close()"
   ]
  },
  {
   "cell_type": "markdown",
   "metadata": {
    "collapsed": true
   },
   "source": [
    "## Creation of Dictionary\n",
    "\n",
    "We create the words necessary to fit a sparse coding model to the observed spectra in the previous created cube.\n",
    "It returns a DataFrame with a vector for each theoretical line for each isotope in molist"
   ]
  },
  {
   "cell_type": "code",
   "execution_count": 10,
   "metadata": {
    "collapsed": true
   },
   "outputs": [],
   "source": [
    "# dictionary = gen_words(molist, cube_params)\n",
    "# save_dictionary(dictionary, 'band_9')"
   ]
  },
  {
   "cell_type": "code",
   "execution_count": 11,
   "metadata": {
    "collapsed": false
   },
   "outputs": [
    {
     "name": "stderr",
     "output_type": "stream",
     "text": [
      "WARNING: AstropyDeprecationWarning: The new_table function is deprecated and may be removed in a future version.\n",
      "        Use :meth:`BinTableHDU.from_columns` for new BINARY tables or :meth:`TableHDU.from_columns` for new ASCII tables instead. [astropy.utils.decorators]\n",
      "WARNING:astropy:AstropyDeprecationWarning: The new_table function is deprecated and may be removed in a future version.\n",
      "        Use :meth:`BinTableHDU.from_columns` for new BINARY tables or :meth:`TableHDU.from_columns` for new ASCII tables instead.\n"
     ]
    }
   ],
   "source": [
    "# dictionary = gen_words(molist, cube_params, True)\n",
    "# save_dictionary(dictionary, 'band_9_dual')"
   ]
  },
  {
   "cell_type": "code",
   "execution_count": 12,
   "metadata": {
    "collapsed": false
   },
   "outputs": [],
   "source": [
    "# dictionary = load_dictionary('band_9')"
   ]
  },
  {
   "cell_type": "code",
   "execution_count": 13,
   "metadata": {
    "collapsed": true
   },
   "outputs": [],
   "source": [
    "dictionary = load_dictionary('band_9_dual')"
   ]
  },
  {
   "cell_type": "markdown",
   "metadata": {},
   "source": [
    "## Recalibration of Dictionary"
   ]
  },
  {
   "cell_type": "code",
   "execution_count": 14,
   "metadata": {
    "collapsed": true
   },
   "outputs": [],
   "source": [
    "confusion_matrix = []\n",
    "results = []"
   ]
  },
  {
   "cell_type": "code",
   "execution_count": 15,
   "metadata": {
    "collapsed": false
   },
   "outputs": [
    {
     "name": "stdout",
     "output_type": "stream",
     "text": [
      "0\n",
      "1\n",
      "2\n",
      "3\n",
      "4\n",
      "5\n",
      "6\n",
      "7\n",
      "8\n",
      "9\n",
      "10\n",
      "11\n",
      "12\n",
      "13\n",
      "14\n",
      "15\n",
      "16\n",
      "17\n",
      "18\n",
      "19\n",
      "20\n",
      "21\n",
      "22\n",
      "23\n",
      "24\n",
      "25\n",
      "26\n",
      "27\n",
      "28\n",
      "29\n",
      "30\n",
      "31\n",
      "32\n",
      "33\n",
      "34\n",
      "35\n",
      "36\n",
      "37\n",
      "38\n",
      "39\n",
      "40\n",
      "41\n",
      "42\n",
      "43\n",
      "44\n",
      "45\n",
      "46\n",
      "47\n",
      "48\n",
      "49\n"
     ]
    },
    {
     "name": "stderr",
     "output_type": "stream",
     "text": [
      "C:\\Python\\2.7\\lib\\site-packages\\spams.py:424: FutureWarning: comparison to `None` will result in an elementwise object comparison in the future.\n",
      "  if D == None:\n"
     ]
    }
   ],
   "source": [
    "for i in range(0, 50):\n",
    "    if (i == 0):\n",
    "        cube_name = 'data/cube_fixed_width_'\n",
    "    if (i == 25):\n",
    "        cube_name = 'data/cube_variable_width_'\n",
    "        \n",
    "    file_path = cube_name + str(i) + '.fits'\n",
    "    \n",
    "    train_pixel = (1, 1)\n",
    "    dictionary_recal, detected_peaks = recal_words(file_path, dictionary, cube_params, 4)\n",
    "    \n",
    "    X = get_values_filtered_normalized(file_path, train_pixel, cube_params)\n",
    "\n",
    "    y_train = get_fortran_array(np.asmatrix(X))\n",
    "    dictionary_recal_fa = np.asfortranarray(dictionary_recal,\n",
    "                                            dtype= np.double)\n",
    "    \n",
    "    lambda_param = 0\n",
    "    for idx in range(0, len(detected_peaks)):\n",
    "        if detected_peaks[idx] != 0:\n",
    "            lambda_param += 1\n",
    "    \n",
    "    param = {\n",
    "      'lambda1' : lambda_param,\n",
    "      # 'L': 1,\n",
    "      'pos' : True,\n",
    "      'mode' : 0,\n",
    "      'ols' : True,\n",
    "      'numThreads' : -1}\n",
    "    \n",
    "    alpha = spams.lasso(y_train, dictionary_recal_fa, **param).toarray()\n",
    "    total = np.inner(dictionary_recal_fa, alpha.T)\n",
    "    \n",
    "    if i == 0:\n",
    "        confusion_matrix = [get_confusion_matrix(dictionary_recal, alpha,\n",
    "                                   file_path, cube_params, True)]\n",
    "        results = [get_results(confusion_matrix[i])]\n",
    "    else:\n",
    "        confusion_matrix.append(get_confusion_matrix(dictionary_recal, alpha,\n",
    "                                               file_path, cube_params, True))\n",
    "        results.append(get_results(confusion_matrix[i]))\n",
    "    print(i)"
   ]
  },
  {
   "cell_type": "markdown",
   "metadata": {},
   "source": [
    "# Testing Band 7"
   ]
  },
  {
   "cell_type": "markdown",
   "metadata": {},
   "source": [
    "### Generate Datacubes in Band 7, Fixed Width"
   ]
  },
  {
   "cell_type": "code",
   "execution_count": 16,
   "metadata": {
    "collapsed": true
   },
   "outputs": [],
   "source": [
    "cube_params['freq'] = 277000"
   ]
  },
  {
   "cell_type": "code",
   "execution_count": 17,
   "metadata": {
    "collapsed": false
   },
   "outputs": [],
   "source": [
    "# log=open('data/isolist_fixed_width.log', 'w')\n",
    "# cube_n = 50\n",
    "# cube_name = 'data/cube_fixed_width_'\n",
    "# for i in range(0, 25):\n",
    "#     # Creation of the cube\n",
    "#     gen_cube(isolist[i], cube_params, cube_name + str(cube_n))\n",
    "#     log.write(cube_name + ': ' + str(isolist[i]) + '\\n')\n",
    "#     cube_n += 1\n",
    "# log.close()"
   ]
  },
  {
   "cell_type": "markdown",
   "metadata": {},
   "source": [
    "### Generate Datacubes in Band 7, Variable (TO DO: Fix variable width in ASYDO) Width"
   ]
  },
  {
   "cell_type": "code",
   "execution_count": 18,
   "metadata": {
    "collapsed": false
   },
   "outputs": [],
   "source": [
    "# log=open('data/isolist_fixed_width.log', 'w')\n",
    "# cube_n = 75\n",
    "# cube_name = 'data/cube_variable_width_'\n",
    "# for i in range(0, 25):\n",
    "    # Creation of the cube\n",
    "#     gen_cube_variable_width(isolist[i], cube_params, cube_name + str(cube_n))\n",
    "#     log.write(cube_name + ': ' + str(isolist[i]) + '\\n')\n",
    "#     cube_n += 1\n",
    "# log.close()"
   ]
  },
  {
   "cell_type": "markdown",
   "metadata": {},
   "source": [
    "## Creation of Dictionary"
   ]
  },
  {
   "cell_type": "code",
   "execution_count": 19,
   "metadata": {
    "collapsed": true
   },
   "outputs": [],
   "source": [
    "# dictionary = gen_words(molist, cube_params)\n",
    "# save_dictionary(dictionary, 'band_7')"
   ]
  },
  {
   "cell_type": "code",
   "execution_count": 20,
   "metadata": {
    "collapsed": false
   },
   "outputs": [],
   "source": [
    "dictionary = gen_words(molist, cube_params, True)\n",
    "save_dictionary(dictionary, 'band_7_dual')"
   ]
  },
  {
   "cell_type": "code",
   "execution_count": 21,
   "metadata": {
    "collapsed": true
   },
   "outputs": [],
   "source": [
    "# dictionary = load_dictionary('band_7')"
   ]
  },
  {
   "cell_type": "code",
   "execution_count": 22,
   "metadata": {
    "collapsed": true
   },
   "outputs": [],
   "source": [
    "# dictionary = load_dictionary('band_7_dual')"
   ]
  },
  {
   "cell_type": "markdown",
   "metadata": {},
   "source": [
    "### Training"
   ]
  },
  {
   "cell_type": "markdown",
   "metadata": {},
   "source": [
    "### Recalibration of the Dictionary"
   ]
  },
  {
   "cell_type": "code",
   "execution_count": 23,
   "metadata": {
    "collapsed": false
   },
   "outputs": [
    {
     "name": "stdout",
     "output_type": "stream",
     "text": [
      "50\n",
      "51\n",
      "52\n",
      "53\n",
      "54\n",
      "55\n",
      "56\n",
      "57\n",
      "58\n",
      "59\n",
      "60\n",
      "61\n",
      "62\n",
      "63\n",
      "64\n",
      "65\n",
      "66\n",
      "67\n",
      "68\n",
      "69\n",
      "70\n",
      "71\n",
      "72\n",
      "73\n",
      "74\n",
      "75\n",
      "76\n",
      "77\n",
      "78\n",
      "79\n",
      "80\n",
      "81\n",
      "82\n",
      "83\n",
      "84\n",
      "85\n",
      "86\n",
      "87\n",
      "88\n",
      "89\n",
      "90\n",
      "91\n",
      "92\n",
      "93\n",
      "94\n",
      "95\n",
      "96\n",
      "97\n",
      "98\n",
      "99\n"
     ]
    }
   ],
   "source": [
    "for i in range(50, 100):\n",
    "    if (i == 50):\n",
    "        cube_name = 'data/cube_fixed_width_'\n",
    "    if (i == 75):\n",
    "        cube_name = 'data/cube_variable_width_'\n",
    "        \n",
    "    file_path = cube_name + str(i) + '.fits'\n",
    "    \n",
    "    train_pixel = (1, 1)\n",
    "    dictionary_recal, detected_peaks = recal_words(file_path, dictionary, cube_params, 4)\n",
    "    \n",
    "    X = get_values_filtered_normalized(file_path, train_pixel, cube_params)\n",
    "\n",
    "    y_train = get_fortran_array(np.asmatrix(X))\n",
    "    dictionary_recal_fa = np.asfortranarray(dictionary_recal,\n",
    "                                            dtype= np.double)\n",
    "    \n",
    "    lambda_param = 0\n",
    "    for idx in range(0, len(detected_peaks)):\n",
    "        if detected_peaks[idx] != 0:\n",
    "            lambda_param += 1\n",
    "    \n",
    "    param = {\n",
    "      'lambda1' : lambda_param,\n",
    "      # 'L': 1,\n",
    "      'pos' : True,\n",
    "      'mode' : 0,\n",
    "      'ols' : True,\n",
    "      'numThreads' : -1}\n",
    "    \n",
    "    alpha = spams.lasso(y_train, dictionary_recal_fa, **param).toarray()\n",
    "    total = np.inner(dictionary_recal_fa, alpha.T)\n",
    "    \n",
    "  \n",
    "    confusion_matrix.append(get_confusion_matrix(dictionary_recal, alpha,\n",
    "                                           file_path, cube_params, True))\n",
    "    results.append(get_results(confusion_matrix[i]))\n",
    "    print(i)"
   ]
  },
  {
   "cell_type": "markdown",
   "metadata": {},
   "source": [
    "### Testing"
   ]
  },
  {
   "cell_type": "code",
   "execution_count": 39,
   "metadata": {
    "collapsed": false
   },
   "outputs": [
    {
     "data": {
      "image/png": "[encoded data removed]",
      "text/plain": [
       "<matplotlib.figure.Figure at 0x1ea4aeb8>"
      ]
     },
     "metadata": {},
     "output_type": "display_data"
    },
    {
     "data": {
      "image/png": "[encoded data removed]",
      "text/plain": [
       "<matplotlib.figure.Figure at 0x186356d8>"
      ]
     },
     "metadata": {},
     "output_type": "display_data"
    },
    {
     "data": {
      "image/png": "[encoded data removed]",
      "text/plain": [
       "<matplotlib.figure.Figure at 0x1ea7a8d0>"
      ]
     },
     "metadata": {},
     "output_type": "display_data"
    }
   ],
   "source": [
    "plt.title(\"Precision of Predictions for Fixed Width\")\n",
    "plt.xlabel(\"Precision\")\n",
    "plt.ylabel(\"Amount\")\n",
    "plt.legend()\n",
    "plt.hist([np.mean(means[\"Precision\"]) for means in results[:25]], 25, normed=True, color='b', alpha=1, label='Band 9')\n",
    "plt.hist([np.mean(means[\"Precision\"]) for means in results[50:75]], 25, normed=True, color='r', alpha=0.5, label='Band 7')\n",
    "plt.show()\n",
    "\n",
    "plt.title(\"Recall of Predictions for Fixed Width\")\n",
    "plt.xlabel(\"Recall\")\n",
    "plt.ylabel(\"Amount\")\n",
    "plt.legend()\n",
    "plt.hist([np.mean(means[\"Recall\"]) for means in results[:25]], 25, normed=True, color='b', alpha=1, label='Band 9')\n",
    "plt.hist([np.mean(means[\"Recall\"]) for means in results[50:75]], 25, normed=True, color='r', alpha=0.5, label='Band 7')\n",
    "plt.show()\n",
    "\n",
    "plt.title(\"F-Score of Predictions for Fixed Width\")\n",
    "plt.xlabel(\"F-Score\")\n",
    "plt.ylabel(\"Amount\")\n",
    "plt.legend()\n",
    "plt.hist([np.mean(means[\"F-Score\"]) for means in results[:25]], 25, normed=True, color='b', alpha=1, label='Band 9')\n",
    "plt.hist([np.mean(means[\"F-Score\"]) for means in results[50:75]], 25, normed=True, color='r', alpha=0.5, label='Band 7')\n",
    "plt.show()"
   ]
  },
  {
   "cell_type": "code",
   "execution_count": 40,
   "metadata": {
    "collapsed": false
   },
   "outputs": [
    {
     "data": {
      "image/png": "[encoded data removed]",
      "text/plain": [
       "<matplotlib.figure.Figure at 0x186cbc18>"
      ]
     },
     "metadata": {},
     "output_type": "display_data"
    },
    {
     "data": {
      "image/png": "[encoded data removed]",
      "text/plain": [
       "<matplotlib.figure.Figure at 0x1e9d2588>"
      ]
     },
     "metadata": {},
     "output_type": "display_data"
    },
    {
     "data": {
      "image/png": "[encoded data removed]",
      "text/plain": [
       "<matplotlib.figure.Figure at 0x18db9e48>"
      ]
     },
     "metadata": {},
     "output_type": "display_data"
    }
   ],
   "source": [
    "plt.title(\"Precision of Predictions for Variable Width\")\n",
    "plt.xlabel(\"Precision\")\n",
    "plt.ylabel(\"Amount\")\n",
    "plt.legend()\n",
    "plt.hist([np.mean(means[\"Precision\"]) for means in results[25:50]], 25, normed=True, color='g', alpha=1, label='Band 9')\n",
    "plt.hist([np.mean(means[\"Precision\"]) for means in results[75:]], 25, normed=True, color='y', alpha=0.5, label='Band 7')\n",
    "plt.show()\n",
    "\n",
    "plt.title(\"Recall of Predictions for Variable Width\")\n",
    "plt.xlabel(\"Recall\")\n",
    "plt.ylabel(\"Amount\")\n",
    "plt.legend()\n",
    "plt.hist([np.mean(means[\"Recall\"]) for means in results[25:50]], 25, normed=True, color='g', alpha=1, label='Band 9')\n",
    "plt.hist([np.mean(means[\"Recall\"]) for means in results[75:]], 25, normed=True, color='y', alpha=0.5, label='Band 7')\n",
    "plt.show()\n",
    "\n",
    "plt.title(\"F-Score of Predictions for Variable Width\")\n",
    "plt.xlabel(\"F-Score\")\n",
    "plt.ylabel(\"Amount\")\n",
    "plt.legend()\n",
    "plt.hist([np.mean(means[\"F-Score\"]) for means in results[25:50]], 25, normed=True, color='g', alpha=1, label='Band 9')\n",
    "plt.hist([np.mean(means[\"F-Score\"]) for means in results[75:]], 25, normed=True, color='y', alpha=0.5, label='Band 7')\n",
    "plt.show()"
   ]
  },
  {
   "cell_type": "markdown",
   "metadata": {},
   "source": [
    "Blending case"
   ]
  },
  {
   "cell_type": "code",
   "execution_count": 41,
   "metadata": {
    "collapsed": false
   },
   "outputs": [
    {
     "data": {
      "image/png": "[encoded data removed]",
      "text/plain": [
       "<matplotlib.figure.Figure at 0x1ea4a518>"
      ]
     },
     "metadata": {},
     "output_type": "display_data"
    }
   ],
   "source": [
    "file_path = \"data/cube_fixed_width_6.fits\"\n",
    "train_pixel = (1, 1)\n",
    "x = get_freq_index_from_params(cube_params)\n",
    "y = get_values_filtered_normalized(file_path, train_pixel, cube_params)\n",
    "plt.plot(x, y)\n",
    "plt.legend(loc='upper right')\n",
    "plt.xlim(xmin = 605075, xmax = 605275)\n",
    "plt.ylim(ymin = -1,ymax = 1)\n",
    "\n",
    "lines = get_lines_from_fits(file_path)\n",
    "current_isotopes = [\"\"]\n",
    "for line in lines:\n",
    "    isotope_frequency = int(line[1])\n",
    "    isotope_name = line[0] + \"-f\" + str(line[1])\n",
    "    if isotope_frequency in range(605075, 605275) \\\n",
    "    and line[0] not in current_isotopes:\n",
    "        # Shows lines really present\n",
    "        plt.axvline(x=isotope_frequency, ymin=0, ymax= 3, color='g', linewidth=2, label='Present Line')\n",
    "        plt.text(isotope_frequency, -0.3, isotope_name, size='8', rotation='vertical')\n",
    "        current_isotopes.append(line[0])\n",
    "\n",
    "plt.title(\"Blending case\")\n",
    "plt.xlabel(\"Frequency [MHz]\")\n",
    "ax = plt.gca()\n",
    "ax.get_xaxis().get_major_formatter().set_useOffset(False)\n",
    "plt.ylabel(\"Normalized Temperature\")\n",
    "plt.legend()\n",
    "plt.show()"
   ]
  },
  {
   "cell_type": "markdown",
   "metadata": {},
   "source": [
    "Hyperfine lines case"
   ]
  },
  {
   "cell_type": "code",
   "execution_count": 42,
   "metadata": {
    "collapsed": false
   },
   "outputs": [
    {
     "data": {
      "image/png": "[encoded data removed]",
      "text/plain": [
       "<matplotlib.figure.Figure at 0x1f67cd68>"
      ]
     },
     "metadata": {},
     "output_type": "display_data"
    }
   ],
   "source": [
    "file_path = \"data/cube_fixed_width_6.fits\"\n",
    "train_pixel = (1, 1)\n",
    "x = get_freq_index_from_params(cube_params)\n",
    "y = get_values_filtered_normalized(file_path, train_pixel, cube_params)\n",
    "plt.plot(x, y)\n",
    "plt.legend(loc='upper right')\n",
    "plt.xlim(xmin = 605335, xmax = 605410)\n",
    "plt.ylim(ymin = -1,ymax = 1)\n",
    "\n",
    "lines = get_lines_from_fits(file_path)\n",
    "for line in lines:\n",
    "    isotope_frequency = int(line[1])\n",
    "    isotope_name = line[0] + \"-f\" + str(line[1])\n",
    "    if isotope_frequency in range(605335, 605410):\n",
    "        # Shows lines really present\n",
    "        plt.axvline(x=isotope_frequency, ymin=0, ymax= 3, color='g', linewidth=2, label='Present Line')\n",
    "        plt.text(isotope_frequency, -0.3, isotope_name, size='8', rotation='vertical')\n",
    "\n",
    "plt.title(\"Hyperfine lines case\")\n",
    "plt.xlabel(\"Frequency [MHz]\")\n",
    "ax = plt.gca()\n",
    "ax.get_xaxis().get_major_formatter().set_useOffset(False)\n",
    "plt.ylabel(\"Normalized Temperature\")\n",
    "plt.legend()\n",
    "plt.show()"
   ]
  },
  {
   "cell_type": "markdown",
   "metadata": {},
   "source": [
    "Double peaks for single Line"
   ]
  },
  {
   "cell_type": "code",
   "execution_count": 43,
   "metadata": {
    "collapsed": false
   },
   "outputs": [
    {
     "data": {
      "image/png": "[encoded data removed]",
      "text/plain": [
       "<matplotlib.figure.Figure at 0x1f194b00>"
      ]
     },
     "metadata": {},
     "output_type": "display_data"
    }
   ],
   "source": [
    "file_path = \"data/cube_fixed_width_13.fits\"\n",
    "train_pixel = (1, 1)\n",
    "x = get_freq_index_from_params(cube_params)\n",
    "y = get_values_filtered_normalized(file_path, train_pixel, cube_params)\n",
    "plt.plot(x, y)\n",
    "plt.legend(loc='upper right')\n",
    "plt.xlim(xmin = 605850, xmax = 606000)\n",
    "plt.ylim(ymin = -1,ymax = 1)\n",
    "\n",
    "lines = get_lines_from_fits(file_path)\n",
    "for line in lines:\n",
    "    isotope_frequency = int(line[1])\n",
    "    isotope_name = line[0] + \"-f\" + str(line[1])\n",
    "    if isotope_frequency in range(605850, 606000):\n",
    "        # Shows lines really present\n",
    "        plt.axvline(x=isotope_frequency, ymin=0, ymax= 3, color='g', linewidth=2, label='Present Line')\n",
    "        plt.text(isotope_frequency, -0.3, isotope_name, size='8', rotation='vertical')\n",
    "\n",
    "plt.title(\"Double peaks for single Line\")\n",
    "plt.xlabel(\"Frequency [MHz]\")\n",
    "ax = plt.gca()\n",
    "ax.get_xaxis().get_major_formatter().set_useOffset(False)\n",
    "plt.ylabel(\"Normalized Temperature\")\n",
    "plt.legend()\n",
    "plt.show()"
   ]
  },
  {
   "cell_type": "code",
   "execution_count": 38,
   "metadata": {
    "collapsed": false
   },
   "outputs": [
    {
     "data": {
      "text/plain": [
       "0.82219482662876719"
      ]
     },
     "execution_count": 38,
     "metadata": {},
     "output_type": "execute_result"
    }
   ],
   "source": [
    "np.mean([np.mean(means[\"F-Score\"]) for means in results])"
   ]
  },
  {
   "cell_type": "code",
   "execution_count": 30,
   "metadata": {
    "collapsed": false,
    "scrolled": true
   },
   "outputs": [],
   "source": [
    "# result9 = results.pop(9)"
   ]
  },
  {
   "cell_type": "code",
   "execution_count": 44,
   "metadata": {
    "collapsed": false
   },
   "outputs": [],
   "source": [
    "min_distance_req_list = pd.DataFrame([])\n",
    "for i in range(0, 100):\n",
    "    if (i == 0 or i == 50):\n",
    "        cube_name = 'data/cube_fixed_width_'\n",
    "    if (i == 25 or i == 75):\n",
    "        cube_name = 'data/cube_variable_width_'\n",
    "        \n",
    "    file_path = cube_name + str(i) + '.fits'\n",
    "    lines = get_lines_from_fits(file_path)\n",
    "       \n",
    "    sorted_lines = sorted([lines[idx][1] for idx in range(0, len(lines) )])\n",
    "    min_distance_req = True\n",
    "    \n",
    "    last_freq = float(sorted_lines[0])\n",
    "    for idx in  range(1, len(sorted_lines)):\n",
    "        distance = float(sorted_lines[idx]) - last_freq\n",
    "                \n",
    "        if(distance < 2):\n",
    "            min_distance_req = False\n",
    "            break\n",
    "        last_freq = float(sorted_lines[idx])\n",
    "    \n",
    "    if len(min_distance_req_list) == 0:\n",
    "        if (min_distance_req):\n",
    "            min_distance_req_list = [i]\n",
    "    else:\n",
    "        if (min_distance_req):\n",
    "            min_distance_req_list.append(i)"
   ]
  },
  {
   "cell_type": "code",
   "execution_count": 45,
   "metadata": {
    "collapsed": false
   },
   "outputs": [
    {
     "data": {
      "text/plain": [
       "[0,\n",
       " 1,\n",
       " 3,\n",
       " 5,\n",
       " 7,\n",
       " 11,\n",
       " 12,\n",
       " 14,\n",
       " 16,\n",
       " 17,\n",
       " 18,\n",
       " 20,\n",
       " 21,\n",
       " 30,\n",
       " 32,\n",
       " 33,\n",
       " 35,\n",
       " 36,\n",
       " 37,\n",
       " 39,\n",
       " 41,\n",
       " 42,\n",
       " 43,\n",
       " 45,\n",
       " 46,\n",
       " 47,\n",
       " 49,\n",
       " 50,\n",
       " 54,\n",
       " 55,\n",
       " 61,\n",
       " 62,\n",
       " 64,\n",
       " 66,\n",
       " 67,\n",
       " 68,\n",
       " 70,\n",
       " 75,\n",
       " 79,\n",
       " 80,\n",
       " 86,\n",
       " 87,\n",
       " 89,\n",
       " 91,\n",
       " 92,\n",
       " 95]"
      ]
     },
     "execution_count": 45,
     "metadata": {},
     "output_type": "execute_result"
    }
   ],
   "source": [
    "min_distance_req_list\n"
   ]
  },
  {
   "cell_type": "code",
   "execution_count": 46,
   "metadata": {
    "collapsed": false
   },
   "outputs": [],
   "source": [
    "results_filtered = [results[min_distance_req_list[0]]]\n",
    "for ix in min_distance_req_list[1:]:\n",
    "    results_filtered.append(results[ix])"
   ]
  },
  {
   "cell_type": "code",
   "execution_count": 47,
   "metadata": {
    "collapsed": false
   },
   "outputs": [
    {
     "data": {
      "text/plain": [
       "0.82993776163759247"
      ]
     },
     "execution_count": 47,
     "metadata": {},
     "output_type": "execute_result"
    }
   ],
   "source": [
    "np.mean([np.mean(means[\"F-Score\"]) for means in results_filtered])"
   ]
  },
  {
   "cell_type": "code",
   "execution_count": 50,
   "metadata": {
    "collapsed": true
   },
   "outputs": [],
   "source": [
    "cf_filtered = [confusion_matrix[min_distance_req_list[0]]]\n",
    "for ix in min_distance_req_list[1:]:\n",
    "    cf_filtered.append(confusion_matrix[ix])"
   ]
  },
  {
   "cell_type": "code",
   "execution_count": 52,
   "metadata": {
    "collapsed": false
   },
   "outputs": [
    {
     "data": {
      "text/html": [
       "<div style=\"max-height:1000px;max-width:1500px;overflow:auto;\">\n",
       "<table border=\"1\" class=\"dataframe\">\n",
       "  <thead>\n",
       "    <tr style=\"text-align: right;\">\n",
       "      <th></th>\n",
       "      <th>H2C18O-f603231.51</th>\n",
       "      <th>34SO2v=0-f602815.8891</th>\n",
       "      <th>34SO2v=0-f604080.004</th>\n",
       "      <th>34SO2v=0-f604376.563</th>\n",
       "      <th>34SO2v=0-f605499.8855</th>\n",
       "      <th>34SO2v=0-f605924.403</th>\n",
       "      <th>CH3OHvt=0-f602233.197</th>\n",
       "      <th>HC15Nv=0-f602274.1332</th>\n",
       "      <th>SO2v=0-f604367.4364</th>\n",
       "      <th>SO2v=0-f604406.5377</th>\n",
       "      <th>SO2v=0-f605532.5228</th>\n",
       "    </tr>\n",
       "  </thead>\n",
       "  <tbody>\n",
       "    <tr>\n",
       "      <th>CH3OHvt=0-f602233.197</th>\n",
       "      <td>0</td>\n",
       "      <td>0</td>\n",
       "      <td>0</td>\n",
       "      <td>0.000000</td>\n",
       "      <td>0</td>\n",
       "      <td>0</td>\n",
       "      <td>1</td>\n",
       "      <td>0.000000</td>\n",
       "      <td>0.000000</td>\n",
       "      <td>0.000000</td>\n",
       "      <td>0</td>\n",
       "    </tr>\n",
       "    <tr>\n",
       "      <th>SO2v=0-f604367.4364</th>\n",
       "      <td>0</td>\n",
       "      <td>0</td>\n",
       "      <td>0</td>\n",
       "      <td>0.817113</td>\n",
       "      <td>0</td>\n",
       "      <td>0</td>\n",
       "      <td>0</td>\n",
       "      <td>0.000000</td>\n",
       "      <td>0.817113</td>\n",
       "      <td>0.000000</td>\n",
       "      <td>0</td>\n",
       "    </tr>\n",
       "    <tr>\n",
       "      <th>SO2v=0-f604406.5377</th>\n",
       "      <td>0</td>\n",
       "      <td>0</td>\n",
       "      <td>0</td>\n",
       "      <td>0.000000</td>\n",
       "      <td>0</td>\n",
       "      <td>0</td>\n",
       "      <td>0</td>\n",
       "      <td>0.000000</td>\n",
       "      <td>0.000000</td>\n",
       "      <td>0.994844</td>\n",
       "      <td>0</td>\n",
       "    </tr>\n",
       "    <tr>\n",
       "      <th>SO2v=0-f605532.5228</th>\n",
       "      <td>0</td>\n",
       "      <td>0</td>\n",
       "      <td>0</td>\n",
       "      <td>0.000000</td>\n",
       "      <td>0</td>\n",
       "      <td>0</td>\n",
       "      <td>0</td>\n",
       "      <td>0.000000</td>\n",
       "      <td>0.000000</td>\n",
       "      <td>0.000000</td>\n",
       "      <td>1</td>\n",
       "    </tr>\n",
       "    <tr>\n",
       "      <th>34SO2v=0-f602815.8891</th>\n",
       "      <td>0</td>\n",
       "      <td>1</td>\n",
       "      <td>0</td>\n",
       "      <td>0.000000</td>\n",
       "      <td>0</td>\n",
       "      <td>0</td>\n",
       "      <td>0</td>\n",
       "      <td>0.000000</td>\n",
       "      <td>0.000000</td>\n",
       "      <td>0.000000</td>\n",
       "      <td>0</td>\n",
       "    </tr>\n",
       "    <tr>\n",
       "      <th>34SO2v=0-f604080.004</th>\n",
       "      <td>0</td>\n",
       "      <td>0</td>\n",
       "      <td>1</td>\n",
       "      <td>0.000000</td>\n",
       "      <td>0</td>\n",
       "      <td>0</td>\n",
       "      <td>0</td>\n",
       "      <td>0.000000</td>\n",
       "      <td>0.000000</td>\n",
       "      <td>0.000000</td>\n",
       "      <td>0</td>\n",
       "    </tr>\n",
       "    <tr>\n",
       "      <th>34SO2v=0-f604376.563</th>\n",
       "      <td>0</td>\n",
       "      <td>0</td>\n",
       "      <td>0</td>\n",
       "      <td>0.182887</td>\n",
       "      <td>0</td>\n",
       "      <td>0</td>\n",
       "      <td>0</td>\n",
       "      <td>0.000000</td>\n",
       "      <td>0.182887</td>\n",
       "      <td>0.000000</td>\n",
       "      <td>0</td>\n",
       "    </tr>\n",
       "    <tr>\n",
       "      <th>34SO2v=0-f605499.8855</th>\n",
       "      <td>0</td>\n",
       "      <td>0</td>\n",
       "      <td>0</td>\n",
       "      <td>0.000000</td>\n",
       "      <td>1</td>\n",
       "      <td>0</td>\n",
       "      <td>0</td>\n",
       "      <td>0.000000</td>\n",
       "      <td>0.000000</td>\n",
       "      <td>0.000000</td>\n",
       "      <td>0</td>\n",
       "    </tr>\n",
       "    <tr>\n",
       "      <th>34SO2v=0-f605924.403</th>\n",
       "      <td>0</td>\n",
       "      <td>0</td>\n",
       "      <td>0</td>\n",
       "      <td>0.000000</td>\n",
       "      <td>0</td>\n",
       "      <td>1</td>\n",
       "      <td>0</td>\n",
       "      <td>0.000000</td>\n",
       "      <td>0.000000</td>\n",
       "      <td>0.000000</td>\n",
       "      <td>0</td>\n",
       "    </tr>\n",
       "    <tr>\n",
       "      <th>SO2v2=1-f604398.1207</th>\n",
       "      <td>0</td>\n",
       "      <td>0</td>\n",
       "      <td>0</td>\n",
       "      <td>0.000000</td>\n",
       "      <td>0</td>\n",
       "      <td>0</td>\n",
       "      <td>0</td>\n",
       "      <td>0.000000</td>\n",
       "      <td>0.000000</td>\n",
       "      <td>0.005156</td>\n",
       "      <td>0</td>\n",
       "    </tr>\n",
       "    <tr>\n",
       "      <th>OS18O-f602281.8842&amp;&amp;f602281.8842</th>\n",
       "      <td>0</td>\n",
       "      <td>0</td>\n",
       "      <td>0</td>\n",
       "      <td>0.000000</td>\n",
       "      <td>0</td>\n",
       "      <td>0</td>\n",
       "      <td>0</td>\n",
       "      <td>0.422514</td>\n",
       "      <td>0.000000</td>\n",
       "      <td>0.000000</td>\n",
       "      <td>0</td>\n",
       "    </tr>\n",
       "    <tr>\n",
       "      <th>OS18O-f602841.4703</th>\n",
       "      <td>0</td>\n",
       "      <td>0</td>\n",
       "      <td>0</td>\n",
       "      <td>0.000000</td>\n",
       "      <td>0</td>\n",
       "      <td>0</td>\n",
       "      <td>0</td>\n",
       "      <td>0.000000</td>\n",
       "      <td>0.000000</td>\n",
       "      <td>0.000000</td>\n",
       "      <td>0</td>\n",
       "    </tr>\n",
       "    <tr>\n",
       "      <th>HC15Nv=0-f602274.1332</th>\n",
       "      <td>0</td>\n",
       "      <td>0</td>\n",
       "      <td>0</td>\n",
       "      <td>0.000000</td>\n",
       "      <td>0</td>\n",
       "      <td>0</td>\n",
       "      <td>0</td>\n",
       "      <td>0.577486</td>\n",
       "      <td>0.000000</td>\n",
       "      <td>0.000000</td>\n",
       "      <td>0</td>\n",
       "    </tr>\n",
       "    <tr>\n",
       "      <th>H2C18O-f603231.51</th>\n",
       "      <td>1</td>\n",
       "      <td>0</td>\n",
       "      <td>0</td>\n",
       "      <td>0.000000</td>\n",
       "      <td>0</td>\n",
       "      <td>0</td>\n",
       "      <td>0</td>\n",
       "      <td>0.000000</td>\n",
       "      <td>0.000000</td>\n",
       "      <td>0.000000</td>\n",
       "      <td>0</td>\n",
       "    </tr>\n",
       "  </tbody>\n",
       "</table>\n",
       "</div>"
      ],
      "text/plain": [
       "                                  H2C18O-f603231.51  34SO2v=0-f602815.8891  \\\n",
       "CH3OHvt=0-f602233.197                             0                      0   \n",
       "SO2v=0-f604367.4364                               0                      0   \n",
       "SO2v=0-f604406.5377                               0                      0   \n",
       "SO2v=0-f605532.5228                               0                      0   \n",
       "34SO2v=0-f602815.8891                             0                      1   \n",
       "34SO2v=0-f604080.004                              0                      0   \n",
       "34SO2v=0-f604376.563                              0                      0   \n",
       "34SO2v=0-f605499.8855                             0                      0   \n",
       "34SO2v=0-f605924.403                              0                      0   \n",
       "SO2v2=1-f604398.1207                              0                      0   \n",
       "OS18O-f602281.8842&&f602281.8842                  0                      0   \n",
       "OS18O-f602841.4703                                0                      0   \n",
       "HC15Nv=0-f602274.1332                             0                      0   \n",
       "H2C18O-f603231.51                                 1                      0   \n",
       "\n",
       "                                  34SO2v=0-f604080.004  34SO2v=0-f604376.563  \\\n",
       "CH3OHvt=0-f602233.197                                0              0.000000   \n",
       "SO2v=0-f604367.4364                                  0              0.817113   \n",
       "SO2v=0-f604406.5377                                  0              0.000000   \n",
       "SO2v=0-f605532.5228                                  0              0.000000   \n",
       "34SO2v=0-f602815.8891                                0              0.000000   \n",
       "34SO2v=0-f604080.004                                 1              0.000000   \n",
       "34SO2v=0-f604376.563                                 0              0.182887   \n",
       "34SO2v=0-f605499.8855                                0              0.000000   \n",
       "34SO2v=0-f605924.403                                 0              0.000000   \n",
       "SO2v2=1-f604398.1207                                 0              0.000000   \n",
       "OS18O-f602281.8842&&f602281.8842                     0              0.000000   \n",
       "OS18O-f602841.4703                                   0              0.000000   \n",
       "HC15Nv=0-f602274.1332                                0              0.000000   \n",
       "H2C18O-f603231.51                                    0              0.000000   \n",
       "\n",
       "                                  34SO2v=0-f605499.8855  34SO2v=0-f605924.403  \\\n",
       "CH3OHvt=0-f602233.197                                 0                     0   \n",
       "SO2v=0-f604367.4364                                   0                     0   \n",
       "SO2v=0-f604406.5377                                   0                     0   \n",
       "SO2v=0-f605532.5228                                   0                     0   \n",
       "34SO2v=0-f602815.8891                                 0                     0   \n",
       "34SO2v=0-f604080.004                                  0                     0   \n",
       "34SO2v=0-f604376.563                                  0                     0   \n",
       "34SO2v=0-f605499.8855                                 1                     0   \n",
       "34SO2v=0-f605924.403                                  0                     1   \n",
       "SO2v2=1-f604398.1207                                  0                     0   \n",
       "OS18O-f602281.8842&&f602281.8842                      0                     0   \n",
       "OS18O-f602841.4703                                    0                     0   \n",
       "HC15Nv=0-f602274.1332                                 0                     0   \n",
       "H2C18O-f603231.51                                     0                     0   \n",
       "\n",
       "                                  CH3OHvt=0-f602233.197  \\\n",
       "CH3OHvt=0-f602233.197                                 1   \n",
       "SO2v=0-f604367.4364                                   0   \n",
       "SO2v=0-f604406.5377                                   0   \n",
       "SO2v=0-f605532.5228                                   0   \n",
       "34SO2v=0-f602815.8891                                 0   \n",
       "34SO2v=0-f604080.004                                  0   \n",
       "34SO2v=0-f604376.563                                  0   \n",
       "34SO2v=0-f605499.8855                                 0   \n",
       "34SO2v=0-f605924.403                                  0   \n",
       "SO2v2=1-f604398.1207                                  0   \n",
       "OS18O-f602281.8842&&f602281.8842                      0   \n",
       "OS18O-f602841.4703                                    0   \n",
       "HC15Nv=0-f602274.1332                                 0   \n",
       "H2C18O-f603231.51                                     0   \n",
       "\n",
       "                                  HC15Nv=0-f602274.1332  SO2v=0-f604367.4364  \\\n",
       "CH3OHvt=0-f602233.197                          0.000000             0.000000   \n",
       "SO2v=0-f604367.4364                            0.000000             0.817113   \n",
       "SO2v=0-f604406.5377                            0.000000             0.000000   \n",
       "SO2v=0-f605532.5228                            0.000000             0.000000   \n",
       "34SO2v=0-f602815.8891                          0.000000             0.000000   \n",
       "34SO2v=0-f604080.004                           0.000000             0.000000   \n",
       "34SO2v=0-f604376.563                           0.000000             0.182887   \n",
       "34SO2v=0-f605499.8855                          0.000000             0.000000   \n",
       "34SO2v=0-f605924.403                           0.000000             0.000000   \n",
       "SO2v2=1-f604398.1207                           0.000000             0.000000   \n",
       "OS18O-f602281.8842&&f602281.8842               0.422514             0.000000   \n",
       "OS18O-f602841.4703                             0.000000             0.000000   \n",
       "HC15Nv=0-f602274.1332                          0.577486             0.000000   \n",
       "H2C18O-f603231.51                              0.000000             0.000000   \n",
       "\n",
       "                                  SO2v=0-f604406.5377  SO2v=0-f605532.5228  \n",
       "CH3OHvt=0-f602233.197                        0.000000                    0  \n",
       "SO2v=0-f604367.4364                          0.000000                    0  \n",
       "SO2v=0-f604406.5377                          0.994844                    0  \n",
       "SO2v=0-f605532.5228                          0.000000                    1  \n",
       "34SO2v=0-f602815.8891                        0.000000                    0  \n",
       "34SO2v=0-f604080.004                         0.000000                    0  \n",
       "34SO2v=0-f604376.563                         0.000000                    0  \n",
       "34SO2v=0-f605499.8855                        0.000000                    0  \n",
       "34SO2v=0-f605924.403                         0.000000                    0  \n",
       "SO2v2=1-f604398.1207                         0.005156                    0  \n",
       "OS18O-f602281.8842&&f602281.8842             0.000000                    0  \n",
       "OS18O-f602841.4703                           0.000000                    0  \n",
       "HC15Nv=0-f602274.1332                        0.000000                    0  \n",
       "H2C18O-f603231.51                            0.000000                    0  "
      ]
     },
     "execution_count": 52,
     "metadata": {},
     "output_type": "execute_result"
    }
   ],
   "source": [
    "cf_filtered[6]"
   ]
  },
  {
   "cell_type": "code",
   "execution_count": 53,
   "metadata": {
    "collapsed": false
   },
   "outputs": [
    {
     "data": {
      "text/plain": [
       "[0.86540861385975298,\n",
       " 1.0,\n",
       " 1.0,\n",
       " 0.79728854608396416,\n",
       " 0.7959018609838554,\n",
       " 0.8743428586110461,\n",
       " 0.64907996024110404,\n",
       " 0.67124529152904522,\n",
       " 0.87853050027910329,\n",
       " 1.0,\n",
       " 0.6105056848646484,\n",
       " 0.94664464528374159,\n",
       " 0.72955685797600467,\n",
       " 0.61825143568560859,\n",
       " 0.89999604531394761,\n",
       " 0.60433170409528081,\n",
       " 0.95258764832014664,\n",
       " 0.88275307596306818,\n",
       " 0.60635721743288173,\n",
       " 0.58324865430807649,\n",
       " 0.78492860788907759,\n",
       " 0.84347030902641151,\n",
       " 0.61240566004770991,\n",
       " 0.99323557066022694,\n",
       " 0.84349886967501086,\n",
       " 0.90154287333754224,\n",
       " 0.84682561586593175,\n",
       " 0.8274730063102399,\n",
       " 0.89475944882314817,\n",
       " 0.84025736564949427,\n",
       " 0.93137289357019759,\n",
       " 0.83510667028218843,\n",
       " 0.85831497682314406,\n",
       " 0.91037751931140642,\n",
       " 0.92096485626224867,\n",
       " 0.90604992013239549,\n",
       " 0.81197145072333232,\n",
       " 0.78836476610293438,\n",
       " 0.85997570026800174,\n",
       " 0.8600665409115984,\n",
       " 0.88330465954345516,\n",
       " 0.82900271556788641,\n",
       " 0.76651413709652394,\n",
       " 0.92089719438773343,\n",
       " 0.83150491951939265,\n",
       " 0.90892018671074704]"
      ]
     },
     "execution_count": 53,
     "metadata": {},
     "output_type": "execute_result"
    }
   ],
   "source": [
    "[np.mean(means[\"F-Score\"]) for means in results_filtered]"
   ]
  },
  {
   "cell_type": "code",
   "execution_count": 54,
   "metadata": {
    "collapsed": false
   },
   "outputs": [
    {
     "data": {
      "text/plain": [
       "[0.86540861385975298,\n",
       " 1.0,\n",
       " 0.6760003095827124,\n",
       " 1.0,\n",
       " 0.67654866182359086,\n",
       " 0.79728854608396416,\n",
       " 0.68859847468376412,\n",
       " 0.7959018609838554,\n",
       " 0.70849682448807272,\n",
       " 0.73077735523864207,\n",
       " 0.81965678337312198,\n",
       " 0.8743428586110461,\n",
       " 0.64907996024110404,\n",
       " 0.90969423511402503,\n",
       " 0.67124529152904522,\n",
       " 0.88587904035432308,\n",
       " 0.87853050027910329,\n",
       " 1.0,\n",
       " 0.6105056848646484,\n",
       " 1.0,\n",
       " 0.94664464528374159,\n",
       " 0.72955685797600467,\n",
       " 0.63793261183260563,\n",
       " 0.89421352533126208,\n",
       " 0.86732630033431601,\n",
       " 0.60840036022271404,\n",
       " 0.68220656967952942,\n",
       " 0.89787735235924004,\n",
       " 0.59036623889124051,\n",
       " 0.78170822481704061,\n",
       " 0.61825143568560859,\n",
       " 0.73345884900063008,\n",
       " 0.89999604531394761,\n",
       " 0.60433170409528081,\n",
       " 0.8842757712632664,\n",
       " 0.95258764832014664,\n",
       " 0.88275307596306818,\n",
       " 0.60635721743288173,\n",
       " 0.7884096219885236,\n",
       " 0.58324865430807649,\n",
       " 0.83060263753266295,\n",
       " 0.78492860788907759,\n",
       " 0.84347030902641151,\n",
       " 0.61240566004770991,\n",
       " 0.84476289253759285,\n",
       " 0.99323557066022694,\n",
       " 0.84349886967501086,\n",
       " 0.90154287333754224,\n",
       " 0.74083615535627778,\n",
       " 0.84682561586593175,\n",
       " 0.8274730063102399,\n",
       " 0.74818258055609888,\n",
       " 0.77848146029618093,\n",
       " 0.90097623068447708,\n",
       " 0.89475944882314817,\n",
       " 0.84025736564949427,\n",
       " 0.81824785792342136,\n",
       " 0.87343535519517967,\n",
       " 0.7495353192274512,\n",
       " 0.93966756572278776,\n",
       " 0.94084278483611572,\n",
       " 0.93137289357019759,\n",
       " 0.83510667028218843,\n",
       " 0.86035077377829172,\n",
       " 0.85831497682314406,\n",
       " 0.93071336629361767,\n",
       " 0.91037751931140642,\n",
       " 0.92096485626224867,\n",
       " 0.90604992013239549,\n",
       " 0.757365485607984,\n",
       " 0.81197145072333232,\n",
       " 0.88203819238107584,\n",
       " 0.75212947540546093,\n",
       " 0.92140262232228165,\n",
       " 0.83472988868333053,\n",
       " 0.78836476610293438,\n",
       " 0.77996817525031048,\n",
       " 0.74528716249829208,\n",
       " 0.94651612632974746,\n",
       " 0.85997570026800174,\n",
       " 0.8600665409115984,\n",
       " 0.84808461175640693,\n",
       " 0.85050267693270032,\n",
       " 0.82595793740654888,\n",
       " 0.90117647617699947,\n",
       " 0.88594799617334263,\n",
       " 0.88330465954345516,\n",
       " 0.82900271556788641,\n",
       " 0.83705515277263776,\n",
       " 0.76651413709652394,\n",
       " 0.85189213605280489,\n",
       " 0.92089719438773343,\n",
       " 0.83150491951939265,\n",
       " 0.90100577315828534,\n",
       " 0.7924315443812473,\n",
       " 0.90892018671074704,\n",
       " 0.8870067659091293,\n",
       " 0.74268245622045892,\n",
       " 0.85850805518087947]"
      ]
     },
     "execution_count": 54,
     "metadata": {},
     "output_type": "execute_result"
    }
   ],
   "source": [
    "[np.mean(means[\"F-Score\"]) for means in results]"
   ]
  }
 ],
 "metadata": {
  "kernelspec": {
   "display_name": "Python 2",
   "language": "python",
   "name": "python2"
  },
  "language_info": {
   "codemirror_mode": {
    "name": "ipython",
    "version": 2
   },
   "file_extension": ".py",
   "mimetype": "text/x-python",
   "name": "python",
   "nbconvert_exporter": "python",
   "pygments_lexer": "ipython2",
   "version": "2.7.10"
  }
 },
 "nbformat": 4,
 "nbformat_minor": 0
}
