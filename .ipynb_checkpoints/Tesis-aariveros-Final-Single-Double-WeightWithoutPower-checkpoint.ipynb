{
 "cells": [
  {
   "cell_type": "code",
   "execution_count": 1,
   "metadata": {
    "collapsed": false
   },
   "outputs": [
    {
     "name": "stdout",
     "output_type": "stream",
     "text": [
      "Populating the interactive namespace from numpy and matplotlib\n"
     ]
    },
    {
     "name": "stderr",
     "output_type": "stream",
     "text": [
      "WARNING: pylab import has clobbered these variables: ['random']\n",
      "`%matplotlib` prevents importing * from pylab and numpy\n"
     ]
    }
   ],
   "source": [
    "from packages.display.core import *\n",
    "%pylab inline\n",
    "pylab.rcParams['figure.figsize'] = (200, 5)"
   ]
  },
  {
   "cell_type": "code",
   "execution_count": 2,
   "metadata": {
    "collapsed": true
   },
   "outputs": [],
   "source": [
    "%qtconsole"
   ]
  },
  {
   "cell_type": "markdown",
   "metadata": {},
   "source": [
    "# Testing Band 9\n",
    "\n",
    "## Creation of Data Cubes\n",
    "\n",
    "Creation of the Synthetic Data Cubes ALMA-like using ASYDO Project.\n",
    "Parameters:\n",
    "\n",
    " - isolist    : subset of the list of isotopes to generate a cube\n",
    "\n",
    " cube_params:\n",
    "\n",
    " - freq    : spectral center (frequency)\n",
    " - alpha   : right-ascension center (degrees\n",
    " - delta   : declination center (degrees\n",
    " - spe_res : spectral resolution (MHz)\n",
    " - spe_bw  : spectral bandwidth (MHz)\n",
    " - s_f, s_a : skew-normal distrib, s_f: full width at half maximum, alpha: curtosis parameter. "
   ]
  },
  {
   "cell_type": "code",
   "execution_count": 3,
   "metadata": {
    "collapsed": false
   },
   "outputs": [],
   "source": [
    "cube_params = {\n",
    "  'freq'     : 604000,\n",
    "  'alpha'    : 0,\n",
    "  'delta'    : 0,\n",
    "  'spe_bw'   : 4000,\n",
    "  'spe_res'  : 1,\n",
    "  's_f'      : 8,\n",
    "  's_a'      : 0}"
   ]
  },
  {
   "cell_type": "markdown",
   "metadata": {},
   "source": [
    "To select the isolist, the wavelength range of the cube is obtained, and a searching from theoretical catalog Splatalogue is performed. All the isotopes that have spectral lines on the range of the cube are determinated."
   ]
  },
  {
   "cell_type": "code",
   "execution_count": 4,
   "metadata": {
    "collapsed": false
   },
   "outputs": [],
   "source": [
    "# freq_init = cube_params['freq'] - cube_params['spe_bw']/2.0\n",
    "# freq_end = cube_params['freq'] + cube_params['spe_bw']/2.0\n",
    "\n",
    "# molist_present = theoretical_presence(molist, freq_init, freq_end)"
   ]
  },
  {
   "cell_type": "markdown",
   "metadata": {},
   "source": [
    "Then, we get all the possible combination sets of the previously determined isotopes."
   ]
  },
  {
   "cell_type": "code",
   "execution_count": 5,
   "metadata": {
    "collapsed": true
   },
   "outputs": [],
   "source": [
    "# all_subsets = sum(map(lambda r: list(combinations(molist_present, r)),\n",
    "#                                 range(1, len(molist_present)+1)), [])"
   ]
  },
  {
   "cell_type": "markdown",
   "metadata": {},
   "source": [
    "Finally, random sets previously determinated are selected in order to generate the data cubes."
   ]
  },
  {
   "cell_type": "code",
   "execution_count": 6,
   "metadata": {
    "collapsed": false
   },
   "outputs": [],
   "source": [
    "# random_index = np.random.randint(len(all_subsets), size=25)\n",
    "\n",
    "# isolist = []\n",
    "# for i in random_index:\n",
    "#     isolist.append(all_subsets[i])\n",
    "    \n",
    "# save_isolist(isolist)"
   ]
  },
  {
   "cell_type": "code",
   "execution_count": 7,
   "metadata": {
    "collapsed": false
   },
   "outputs": [],
   "source": [
    "# isolist = load_isolist()"
   ]
  },
  {
   "cell_type": "markdown",
   "metadata": {},
   "source": [
    "### Generate Datacubes in Band 9, Fixed Width"
   ]
  },
  {
   "cell_type": "code",
   "execution_count": 8,
   "metadata": {
    "collapsed": false,
    "scrolled": false
   },
   "outputs": [],
   "source": [
    "# log=open('data/isolist_fixed_width.log', 'w')\n",
    "# cube_n = 0\n",
    "# cube_name = 'data/cube_fixed_width_'\n",
    "# for i in range(0, 25):\n",
    "\n",
    "    # Creation of the cube\n",
    "#    gen_cube(isolist[i], cube_params, cube_name + str(cube_n))\n",
    "#    log.write(cube_name + ': ' + str(isolist[i]) + '\\n')\n",
    "#    cube_n += 1\n",
    "# log.close()"
   ]
  },
  {
   "cell_type": "markdown",
   "metadata": {},
   "source": [
    "### Generate Datacubes in Band 9, Variable (TO DO: Fix variable width in ASYDO) Width"
   ]
  },
  {
   "cell_type": "code",
   "execution_count": 9,
   "metadata": {
    "collapsed": false
   },
   "outputs": [],
   "source": [
    "# log=open('data/isolist_variable_width.log', 'w')\n",
    "# cube_n = 25\n",
    "# cube_name = 'data/cube_variable_width_'\n",
    "# for i in range(0, 25):\n",
    "\n",
    "    # Creation of the cube\n",
    "#     gen_cube_variable_width(isolist[i], cube_params, cube_name + str(cube_n))   \n",
    "#     log.write(cube_name + ': ' + str(isolist[i]) + '\\n')\n",
    "#     cube_n += 1\n",
    "# log.close()"
   ]
  },
  {
   "cell_type": "markdown",
   "metadata": {
    "collapsed": true
   },
   "source": [
    "## Creation of Dictionary\n",
    "\n",
    "We create the words necessary to fit a sparse coding model to the observed spectra in the previous created cube.\n",
    "It returns a DataFrame with a vector for each theoretical line for each isotope in molist"
   ]
  },
  {
   "cell_type": "code",
   "execution_count": 10,
   "metadata": {
    "collapsed": true
   },
   "outputs": [],
   "source": [
    "# dictionary = gen_words(molist, cube_params)\n",
    "# save_dictionary(dictionary, 'band_9')"
   ]
  },
  {
   "cell_type": "code",
   "execution_count": 11,
   "metadata": {
    "collapsed": false
   },
   "outputs": [],
   "source": [
    "# dictionary = gen_words(molist, cube_params, True)\n",
    "# save_dictionary(dictionary, 'band_9_dual')"
   ]
  },
  {
   "cell_type": "code",
   "execution_count": 12,
   "metadata": {
    "collapsed": false
   },
   "outputs": [],
   "source": [
    "# dictionary = load_dictionary('band_9')"
   ]
  },
  {
   "cell_type": "code",
   "execution_count": 4,
   "metadata": {
    "collapsed": true
   },
   "outputs": [],
   "source": [
    "dictionary = load_dictionary('band_9_dual')"
   ]
  },
  {
   "cell_type": "markdown",
   "metadata": {},
   "source": [
    "## Recalibration of Dictionary"
   ]
  },
  {
   "cell_type": "code",
   "execution_count": 14,
   "metadata": {
    "collapsed": true
   },
   "outputs": [],
   "source": [
    "confusion_matrix = []\n",
    "results = []"
   ]
  },
  {
   "cell_type": "code",
   "execution_count": 15,
   "metadata": {
    "collapsed": false
   },
   "outputs": [
    {
     "name": "stdout",
     "output_type": "stream",
     "text": [
      "0\n",
      "1\n",
      "2\n",
      "3\n",
      "4\n",
      "5\n",
      "6\n",
      "7\n",
      "8\n",
      "9\n",
      "10\n",
      "11\n",
      "12\n",
      "13\n",
      "14\n",
      "15\n",
      "16\n",
      "17\n",
      "18\n",
      "19\n"
     ]
    },
    {
     "name": "stderr",
     "output_type": "stream",
     "text": [
      "C:\\Python\\2.7\\lib\\site-packages\\spams.py:424: FutureWarning: comparison to `None` will result in an elementwise object comparison in the future.\n",
      "  if D == None:\n"
     ]
    }
   ],
   "source": [
    "for i in range(0, 20):\n",
    "    if (i == 0):\n",
    "        cube_name = 'data/cube_fixed_width_'\n",
    "    if (i == 25):\n",
    "        cube_name = 'data/cube_variable_width_'\n",
    "        \n",
    "    file_path = cube_name + str(i) + '.fits'\n",
    "    \n",
    "    train_pixel = (1, 1)\n",
    "    dictionary_recal, detected_peaks = recal_words(file_path, dictionary, cube_params, 4)\n",
    "    \n",
    "    X = get_values_filtered_normalized(file_path, train_pixel, cube_params)\n",
    "\n",
    "    y_train = get_fortran_array(np.asmatrix(X))\n",
    "    dictionary_recal_fa = np.asfortranarray(dictionary_recal,\n",
    "                                            dtype= np.double)\n",
    "    \n",
    "    lambda_param = 0\n",
    "    for idx in range(0, len(detected_peaks)):\n",
    "        if detected_peaks[idx] != 0:\n",
    "            lambda_param += 1\n",
    "    \n",
    "    param = {\n",
    "      'lambda1' : lambda_param,\n",
    "      # 'L': 1,\n",
    "      'pos' : True,\n",
    "      'mode' : 0,\n",
    "      'ols' : True,\n",
    "      'numThreads' : -1}\n",
    "    \n",
    "    alpha = spams.lasso(y_train, dictionary_recal_fa, **param).toarray()\n",
    "    total = np.inner(dictionary_recal_fa, alpha.T)\n",
    "    \n",
    "    if i == 0:\n",
    "        confusion_matrix = [get_confusion_matrix(dictionary_recal, alpha,\n",
    "                                   file_path, cube_params, True)]\n",
    "        results = [get_results(confusion_matrix[i])]\n",
    "    else:\n",
    "        confusion_matrix.append(get_confusion_matrix(dictionary_recal, alpha,\n",
    "                                               file_path, cube_params, True))\n",
    "        results.append(get_results(confusion_matrix[i]))\n",
    "    print(i)"
   ]
  },
  {
   "cell_type": "markdown",
   "metadata": {},
   "source": [
    "# Testing Band 7"
   ]
  },
  {
   "cell_type": "markdown",
   "metadata": {},
   "source": [
    "### Generate Datacubes in Band 7, Fixed Width"
   ]
  },
  {
   "cell_type": "code",
   "execution_count": 16,
   "metadata": {
    "collapsed": true
   },
   "outputs": [],
   "source": [
    "cube_params['freq'] = 277000"
   ]
  },
  {
   "cell_type": "code",
   "execution_count": 17,
   "metadata": {
    "collapsed": false
   },
   "outputs": [],
   "source": [
    "# log=open('data/isolist_fixed_width.log', 'w')\n",
    "# cube_n = 50\n",
    "# cube_name = 'data/cube_fixed_width_'\n",
    "# for i in range(0, 25):\n",
    "#     # Creation of the cube\n",
    "#     gen_cube(isolist[i], cube_params, cube_name + str(cube_n))\n",
    "#     log.write(cube_name + ': ' + str(isolist[i]) + '\\n')\n",
    "#     cube_n += 1\n",
    "# log.close()"
   ]
  },
  {
   "cell_type": "markdown",
   "metadata": {},
   "source": [
    "### Generate Datacubes in Band 7, Variable (TO DO: Fix variable width in ASYDO) Width"
   ]
  },
  {
   "cell_type": "code",
   "execution_count": 18,
   "metadata": {
    "collapsed": false
   },
   "outputs": [],
   "source": [
    "# log=open('data/isolist_fixed_width.log', 'w')\n",
    "# cube_n = 75\n",
    "# cube_name = 'data/cube_variable_width_'\n",
    "# for i in range(0, 25):\n",
    "    # Creation of the cube\n",
    "#     gen_cube_variable_width(isolist[i], cube_params, cube_name + str(cube_n))\n",
    "#     log.write(cube_name + ': ' + str(isolist[i]) + '\\n')\n",
    "#     cube_n += 1\n",
    "# log.close()"
   ]
  },
  {
   "cell_type": "markdown",
   "metadata": {},
   "source": [
    "## Creation of Dictionary"
   ]
  },
  {
   "cell_type": "code",
   "execution_count": 19,
   "metadata": {
    "collapsed": true
   },
   "outputs": [],
   "source": [
    "# dictionary = gen_words(molist, cube_params)\n",
    "# save_dictionary(dictionary, 'band_7')"
   ]
  },
  {
   "cell_type": "code",
   "execution_count": 20,
   "metadata": {
    "collapsed": false
   },
   "outputs": [],
   "source": [
    "# dictionary = gen_words(molist, cube_params, True)\n",
    "# save_dictionary(dictionary, 'band_7_dual')"
   ]
  },
  {
   "cell_type": "code",
   "execution_count": 21,
   "metadata": {
    "collapsed": true
   },
   "outputs": [],
   "source": [
    "# dictionary = load_dictionary('band_7')"
   ]
  },
  {
   "cell_type": "code",
   "execution_count": 22,
   "metadata": {
    "collapsed": true
   },
   "outputs": [],
   "source": [
    "dictionary = load_dictionary('band_7_dual')"
   ]
  },
  {
   "cell_type": "markdown",
   "metadata": {},
   "source": [
    "### Training"
   ]
  },
  {
   "cell_type": "markdown",
   "metadata": {},
   "source": [
    "### Recalibration of the Dictionary"
   ]
  },
  {
   "cell_type": "code",
   "execution_count": 23,
   "metadata": {
    "collapsed": true
   },
   "outputs": [
    {
     "name": "stdout",
     "output_type": "stream",
     "text": [
      "50\n",
      "51\n",
      "52\n",
      "53\n",
      "54\n",
      "55\n",
      "56\n",
      "57\n",
      "58\n",
      "59\n",
      "60\n",
      "61\n",
      "62\n",
      "63\n",
      "64\n",
      "65\n",
      "66\n",
      "67\n",
      "68\n",
      "69\n",
      "70\n",
      "71\n",
      "72\n",
      "73\n",
      "74\n",
      "75\n",
      "76\n",
      "77\n",
      "78\n",
      "79\n",
      "80\n",
      "81\n",
      "82\n",
      "83\n",
      "84\n",
      "85\n",
      "86\n",
      "87\n",
      "88\n",
      "89\n",
      "90\n",
      "91\n",
      "92\n",
      "93\n",
      "94\n",
      "95\n",
      "96\n",
      "97\n",
      "98\n",
      "99\n"
     ]
    }
   ],
   "source": [
    "for i in range(50, 100):\n",
    "    if (i == 50):\n",
    "        cube_name = 'data/cube_fixed_width_'\n",
    "    if (i == 75):\n",
    "        cube_name = 'data/cube_variable_width_'\n",
    "        \n",
    "    file_path = cube_name + str(i) + '.fits'\n",
    "    \n",
    "    train_pixel = (1, 1)\n",
    "    dictionary_recal, detected_peaks = recal_words(file_path, dictionary, cube_params, 4)\n",
    "    \n",
    "    X = get_values_filtered_normalized(file_path, train_pixel, cube_params)\n",
    "\n",
    "    y_train = get_fortran_array(np.asmatrix(X))\n",
    "    dictionary_recal_fa = np.asfortranarray(dictionary_recal,\n",
    "                                            dtype= np.double)\n",
    "    \n",
    "    lambda_param = 0\n",
    "    for idx in range(0, len(detected_peaks)):\n",
    "        if detected_peaks[idx] != 0:\n",
    "            lambda_param += 1\n",
    "    \n",
    "    param = {\n",
    "      'lambda1' : lambda_param,\n",
    "      # 'L': 1,\n",
    "      'pos' : True,\n",
    "      'mode' : 0,\n",
    "      'ols' : True,\n",
    "      'numThreads' : -1}\n",
    "    \n",
    "    alpha = spams.lasso(y_train, dictionary_recal_fa, **param).toarray()\n",
    "    total = np.inner(dictionary_recal_fa, alpha.T)\n",
    "    \n",
    "  \n",
    "    confusion_matrix.append(get_confusion_matrix(dictionary_recal, alpha,\n",
    "                                           file_path, cube_params, True))\n",
    "    results.append(get_results(confusion_matrix[i]))\n",
    "    print(i)"
   ]
  },
  {
   "cell_type": "markdown",
   "metadata": {},
   "source": [
    "### Testing"
   ]
  },
  {
   "cell_type": "code",
   "execution_count": 662,
   "metadata": {
    "collapsed": false
   },
   "outputs": [
    {
     "data": {
      "image/png": "[encoded data removed]",
      "text/plain": [
       "<matplotlib.figure.Figure at 0x3c1b8978>"
      ]
     },
     "metadata": {},
     "output_type": "display_data"
    }
   ],
   "source": [
    "latexify(fig_height=6.9)\n",
    "plt.subplot(3, 1, 1)\n",
    "plt.title(\"Precision of Predictions for Fixed Width\")\n",
    "plt.xlabel(\"Precision\")\n",
    "plt.ylabel(\"Amount\")\n",
    "plt.legend()\n",
    "plt.hist([np.mean(means[\"Precision\"]) for means in results[:25]], 25, normed=True, color='b', alpha=1, label='Band 9')\n",
    "plt.hist([np.mean(means[\"Precision\"]) for means in results[50:75]], 25, normed=True, color='r', alpha=0.75, label='Band 7')\n",
    "\n",
    "plt.subplot(3, 1, 2)\n",
    "plt.title(\"Recall of Predictions for Fixed Width\")\n",
    "plt.xlabel(\"Recall\")\n",
    "plt.ylabel(\"Amount\")\n",
    "plt.legend()\n",
    "plt.hist([np.mean(means[\"Recall\"]) for means in results[:25]  if np.mean(means[\"Recall\"]) > 0.3 and np.mean(means[\"Recall\"]) < 1], 25, normed=True, color='b', alpha=1, label='Band 9')\n",
    "plt.hist([np.mean(means[\"Recall\"]) for means in results[50:75]], 25, normed=True, color='r', alpha=0.75, label='Band 7')\n",
    "\n",
    "plt.subplot(3, 1, 3)\n",
    "plt.title(\"F-Score of Predictions for Fixed Width\")\n",
    "plt.xlabel(\"F-Score\")\n",
    "plt.ylabel(\"Amount\")\n",
    "plt.legend()\n",
    "plt.hist([np.mean(means[\"F-Score\"]) for means in results[:25]], 25, normed=True, color='b', alpha=1, label='Band 9')\n",
    "plt.hist([np.mean(means[\"F-Score\"]) for means in results[50:75]], 25, normed=True, color='r', alpha=0.75, label='Band 7')\n",
    "\n",
    "plt.tight_layout()\n",
    "plt.savefig(\"images/hist1.pdf\")"
   ]
  },
  {
   "cell_type": "code",
   "execution_count": 647,
   "metadata": {
    "collapsed": false
   },
   "outputs": [
    {
     "data": {
      "image/png": "[encoded data removed]",
      "text/plain": [
       "<matplotlib.figure.Figure at 0x2ed810b8>"
      ]
     },
     "metadata": {},
     "output_type": "display_data"
    }
   ],
   "source": [
    "latexify(fig_height=6.9)\n",
    "\n",
    "plt.subplot(3, 1, 1)\n",
    "plt.title(\"Precision of Predictions for Variable Width\")\n",
    "plt.xlabel(\"Precision\")\n",
    "plt.ylabel(\"Amount\")\n",
    "plt.legend()\n",
    "plt.hist([np.mean(means[\"Precision\"]) for means in results[25:50]], 25, normed=True, color='g', alpha=1, label='Band 9')\n",
    "plt.hist([np.mean(means[\"Precision\"]) for means in results[75:]], 25, normed=True, color='y', alpha=0.75, label='Band 7')\n",
    "\n",
    "plt.subplot(3, 1, 2)\n",
    "plt.title(\"Recall of Predictions for Variable Width\")\n",
    "plt.xlabel(\"Recall\")\n",
    "plt.ylabel(\"Amount\")\n",
    "plt.legend()\n",
    "plt.hist([np.mean(means[\"Recall\"]) for means in results[25:50]  if np.mean(means[\"Recall\"]) > 0.3], 25, normed=True, color='g', alpha=1, label='Band 9')\n",
    "plt.hist([np.mean(means[\"Recall\"]) for means in results[75:]], 25, normed=True, color='y', alpha=0.75, label='Band 7')\n",
    "\n",
    "plt.subplot(3, 1, 3)\n",
    "plt.title(\"F-Score of Predictions for Variable Width\")\n",
    "plt.xlabel(\"F-Score\")\n",
    "plt.ylabel(\"Amount\")\n",
    "plt.legend()\n",
    "plt.hist([np.mean(means[\"F-Score\"]) for means in results[25:50]], 25, normed=True, color='g', alpha=1, label='Band 9')\n",
    "plt.hist([np.mean(means[\"F-Score\"]) for means in results[75:]], 25, normed=True, color='y', alpha=0.75, label='Band 7')\n",
    "\n",
    "plt.tight_layout()\n",
    "plt.savefig(\"images/hist2.pdf\")"
   ]
  },
  {
   "cell_type": "code",
   "execution_count": null,
   "metadata": {
    "collapsed": true
   },
   "outputs": [],
   "source": []
  },
  {
   "cell_type": "markdown",
   "metadata": {},
   "source": [
    "Blending case"
   ]
  },
  {
   "cell_type": "code",
   "execution_count": 120,
   "metadata": {
    "collapsed": false
   },
   "outputs": [
    {
     "data": {
      "image/png": "[encoded data removed]",
      "text/plain": [
       "<matplotlib.figure.Figure at 0x1e57fa20>"
      ]
     },
     "metadata": {},
     "output_type": "display_data"
    }
   ],
   "source": [
    "latexify()\n",
    "file_path = \"data/cube_fixed_width_6.fits\"\n",
    "train_pixel = (1, 1)\n",
    "x = get_freq_index_from_params(cube_params)\n",
    "y = get_values_filtered_normalized(file_path, train_pixel, cube_params)\n",
    "plt.plot(x, y)\n",
    "plt.legend(loc='upper right')\n",
    "plt.xlim(xmin = 605075, xmax = 605275)\n",
    "plt.ylim(ymin = -1,ymax = 1)\n",
    "\n",
    "lines = get_lines_from_fits(file_path)\n",
    "current_isotopes = [\"\"]\n",
    "for line in lines:\n",
    "    isotope_frequency = int(line[1])\n",
    "    isotope_name = line[0] + \"-f\" + str(line[1])\n",
    "    if isotope_frequency in range(605075, 605275) \\\n",
    "    and line[0] not in current_isotopes:\n",
    "        # Shows lines really present\n",
    "        plt.axvline(x=isotope_frequency, ymin=0, ymax= 3, color='g', linewidth=2, label='Present Line')\n",
    "        plt.text(isotope_frequency + 1.5, -0.125, isotope_name, size='8', rotation='vertical')\n",
    "        current_isotopes.append(line[0])\n",
    "\n",
    "plt.title(\"Blending case\")\n",
    "plt.xlabel(\"Frequency [MHz]\")\n",
    "ax = plt.gca()\n",
    "ax.get_xaxis().get_major_formatter().set_useOffset(False)\n",
    "plt.ylabel(\"Normalized Temperature\")\n",
    "plt.legend()\n",
    "plt.savefig(\"images/blending.pdf\")"
   ]
  },
  {
   "cell_type": "code",
   "execution_count": 147,
   "metadata": {
    "collapsed": false
   },
   "outputs": [
    {
     "data": {
      "image/png": "[encoded data removed]",
      "text/plain": [
       "<matplotlib.figure.Figure at 0x1b0112b0>"
      ]
     },
     "metadata": {},
     "output_type": "display_data"
    }
   ],
   "source": [
    "latexify()\n",
    "file_path = \"data/cube_fixed_width_6.fits\"\n",
    "train_pixel = (1, 1)\n",
    "x = get_freq_index_from_params(cube_params)\n",
    "y = get_values_filtered_normalized(file_path, train_pixel, cube_params)\n",
    "plt.plot(x, y)\n",
    "plt.legend(loc='upper right')\n",
    "plt.xlim(xmin = 605140, xmax = 605200)\n",
    "plt.ylim(ymin = -1,ymax = 1)\n",
    "\n",
    "lines = get_lines_from_fits(file_path)\n",
    "current_isotopes = [\"\"]\n",
    "for line in lines:\n",
    "    isotope_frequency = int(line[1])\n",
    "    isotope_name = line[0] + \"-f\" + str(line[1])\n",
    "    if isotope_frequency in range(605140, 605275) \\\n",
    "    and line[0] not in current_isotopes:\n",
    "        # Shows lines really present\n",
    "        plt.axvline(x=isotope_frequency, ymin=0, ymax= 3, color='g', linewidth=2, label='Present Line', linestyle='--')\n",
    "        plt.text(isotope_frequency + 1.5, -0.125, isotope_name, size='8', rotation='vertical', color='g')\n",
    "        current_isotopes.append(line[0])\n",
    "        \n",
    "        \n",
    "for idx in range(0, len(detected_peaks)):\n",
    "    if detected_peaks[idx] != 0 and x[idx] in range(605075, 605200):\n",
    "        plt.axvline(x=x[idx], ymin=0, ymax= 1, color='r')\n",
    "\n",
    "        frecuencia = x[idx]\n",
    "        m = 0\n",
    "        detections = alpha_columns[dictionary_recal.ix[frecuencia] != 0]\n",
    "        for pch, elements in enumerate(detections):\n",
    "            m = m + 0.75\n",
    "\n",
    "            # print(detections.index[pch])\n",
    "            probability = round(elements * 100 / np.sum(alpha_columns[dictionary_recal.ix[frecuencia] != 0]))\n",
    "            # print(probability)\n",
    "            \n",
    "            match = \"match \" + str(int(probability)) + \" \\%\"\n",
    "            if '33SO2-f605162.1267' in detections.index[pch]:\n",
    "                plt.text(frecuencia + 1.5, 0.525, match, size='10', rotation='vertical', color='r')\n",
    "                break\n",
    "            elif  'OS17O-f605172.0102' in detections.index[pch]:\n",
    "                plt.text(frecuencia + 1.5, 0.525, match, size='10', rotation='vertical', color='r')\n",
    "\n",
    "plt.title(\"Blending case\")\n",
    "plt.xlabel(\"Frequency [MHz]\")\n",
    "ax = plt.gca()\n",
    "ax.get_xaxis().get_major_formatter().set_useOffset(False)\n",
    "plt.ylabel(\"Normalized Temperature\")\n",
    "plt.legend()\n",
    "plt.savefig(\"images/blending.pdf\")"
   ]
  },
  {
   "cell_type": "markdown",
   "metadata": {},
   "source": [
    "Hyperfine lines case"
   ]
  },
  {
   "cell_type": "code",
   "execution_count": 6,
   "metadata": {
    "collapsed": false
   },
   "outputs": [],
   "source": [
    "file_path = \"data/cube_fixed_width_6.fits\"\n",
    "\n",
    "dictionary = load_dictionary('band_9_dual')\n",
    "train_pixel = (1, 1)\n",
    "dictionary_recal, detected_peaks = recal_words(file_path, dictionary, cube_params, 4)\n",
    "\n",
    "X = get_values_filtered_normalized(file_path, train_pixel, cube_params)\n",
    "\n",
    "y_train = get_fortran_array(np.asmatrix(X))\n",
    "dictionary_recal_fa = np.asfortranarray(dictionary_recal,\n",
    "                                        dtype= np.double)\n",
    "\n",
    "lambda_param = 0\n",
    "for idx in range(0, len(detected_peaks)):\n",
    "    if detected_peaks[idx] != 0:\n",
    "        lambda_param += 1\n",
    "\n",
    "param = {\n",
    "  'lambda1' : lambda_param,\n",
    "  # 'L': 1,\n",
    "  'pos' : True,\n",
    "  'mode' : 0,\n",
    "  'ols' : True,\n",
    "  'numThreads' : -1}\n",
    "\n",
    "alpha = spams.lasso(y_train, dictionary_recal_fa, **param).toarray()\n",
    "total = np.inner(dictionary_recal_fa, alpha.T)      "
   ]
  },
  {
   "cell_type": "code",
   "execution_count": 154,
   "metadata": {
    "collapsed": false
   },
   "outputs": [
    {
     "name": "stdout",
     "output_type": "stream",
     "text": [
      "33SO2-f605357.5302\n",
      "71.0\n",
      "33SO2-f605366.9145&&f605367.499&&f605367.499&&f605367.499&&f605367.499\n",
      "29.0\n",
      "33SO2-f605357.5302\n",
      "64.0\n",
      "33SO2-f605366.9145&&f605367.499&&f605367.499&&f605367.499&&f605367.499\n",
      "27.0\n",
      "33SO2-f605377.1052\n",
      "10.0\n"
     ]
    },
    {
     "ename": "IOError",
     "evalue": "[Errno 13] Permission denied: 'images/hyperfine.pdf'",
     "output_type": "error",
     "traceback": [
      "\u001b[1;31m---------------------------------------------------------------------------\u001b[0m",
      "\u001b[1;31mIOError\u001b[0m                                   Traceback (most recent call last)",
      "\u001b[1;32m<ipython-input-154-f987cf95bb49>\u001b[0m in \u001b[0;36m<module>\u001b[1;34m()\u001b[0m\n\u001b[0;32m     50\u001b[0m \u001b[0mplt\u001b[0m\u001b[1;33m.\u001b[0m\u001b[0mylabel\u001b[0m\u001b[1;33m(\u001b[0m\u001b[1;34m\"Normalized Temperature\"\u001b[0m\u001b[1;33m)\u001b[0m\u001b[1;33m\u001b[0m\u001b[0m\n\u001b[0;32m     51\u001b[0m \u001b[0mplt\u001b[0m\u001b[1;33m.\u001b[0m\u001b[0mlegend\u001b[0m\u001b[1;33m(\u001b[0m\u001b[1;33m)\u001b[0m\u001b[1;33m\u001b[0m\u001b[0m\n\u001b[1;32m---> 52\u001b[1;33m \u001b[0mplt\u001b[0m\u001b[1;33m.\u001b[0m\u001b[0msavefig\u001b[0m\u001b[1;33m(\u001b[0m\u001b[1;34m\"images/hyperfine.pdf\"\u001b[0m\u001b[1;33m)\u001b[0m\u001b[1;33m\u001b[0m\u001b[0m\n\u001b[0m",
      "\u001b[1;32mC:\\Python\\2.7\\lib\\site-packages\\matplotlib\\pyplot.pyc\u001b[0m in \u001b[0;36msavefig\u001b[1;34m(*args, **kwargs)\u001b[0m\n\u001b[0;32m    575\u001b[0m \u001b[1;32mdef\u001b[0m \u001b[0msavefig\u001b[0m\u001b[1;33m(\u001b[0m\u001b[1;33m*\u001b[0m\u001b[0margs\u001b[0m\u001b[1;33m,\u001b[0m \u001b[1;33m**\u001b[0m\u001b[0mkwargs\u001b[0m\u001b[1;33m)\u001b[0m\u001b[1;33m:\u001b[0m\u001b[1;33m\u001b[0m\u001b[0m\n\u001b[0;32m    576\u001b[0m     \u001b[0mfig\u001b[0m \u001b[1;33m=\u001b[0m \u001b[0mgcf\u001b[0m\u001b[1;33m(\u001b[0m\u001b[1;33m)\u001b[0m\u001b[1;33m\u001b[0m\u001b[0m\n\u001b[1;32m--> 577\u001b[1;33m     \u001b[0mres\u001b[0m \u001b[1;33m=\u001b[0m \u001b[0mfig\u001b[0m\u001b[1;33m.\u001b[0m\u001b[0msavefig\u001b[0m\u001b[1;33m(\u001b[0m\u001b[1;33m*\u001b[0m\u001b[0margs\u001b[0m\u001b[1;33m,\u001b[0m \u001b[1;33m**\u001b[0m\u001b[0mkwargs\u001b[0m\u001b[1;33m)\u001b[0m\u001b[1;33m\u001b[0m\u001b[0m\n\u001b[0m\u001b[0;32m    578\u001b[0m     \u001b[0mdraw\u001b[0m\u001b[1;33m(\u001b[0m\u001b[1;33m)\u001b[0m   \u001b[1;31m# need this if 'transparent=True' to reset colors\u001b[0m\u001b[1;33m\u001b[0m\u001b[0m\n\u001b[0;32m    579\u001b[0m     \u001b[1;32mreturn\u001b[0m \u001b[0mres\u001b[0m\u001b[1;33m\u001b[0m\u001b[0m\n",
      "\u001b[1;32mC:\\Python\\2.7\\lib\\site-packages\\matplotlib\\figure.pyc\u001b[0m in \u001b[0;36msavefig\u001b[1;34m(self, *args, **kwargs)\u001b[0m\n\u001b[0;32m   1474\u001b[0m             \u001b[0mself\u001b[0m\u001b[1;33m.\u001b[0m\u001b[0mset_frameon\u001b[0m\u001b[1;33m(\u001b[0m\u001b[0mframeon\u001b[0m\u001b[1;33m)\u001b[0m\u001b[1;33m\u001b[0m\u001b[0m\n\u001b[0;32m   1475\u001b[0m \u001b[1;33m\u001b[0m\u001b[0m\n\u001b[1;32m-> 1476\u001b[1;33m         \u001b[0mself\u001b[0m\u001b[1;33m.\u001b[0m\u001b[0mcanvas\u001b[0m\u001b[1;33m.\u001b[0m\u001b[0mprint_figure\u001b[0m\u001b[1;33m(\u001b[0m\u001b[1;33m*\u001b[0m\u001b[0margs\u001b[0m\u001b[1;33m,\u001b[0m \u001b[1;33m**\u001b[0m\u001b[0mkwargs\u001b[0m\u001b[1;33m)\u001b[0m\u001b[1;33m\u001b[0m\u001b[0m\n\u001b[0m\u001b[0;32m   1477\u001b[0m \u001b[1;33m\u001b[0m\u001b[0m\n\u001b[0;32m   1478\u001b[0m         \u001b[1;32mif\u001b[0m \u001b[0mframeon\u001b[0m\u001b[1;33m:\u001b[0m\u001b[1;33m\u001b[0m\u001b[0m\n",
      "\u001b[1;32mC:\\Python\\2.7\\lib\\site-packages\\matplotlib\\backend_bases.pyc\u001b[0m in \u001b[0;36mprint_figure\u001b[1;34m(self, filename, dpi, facecolor, edgecolor, orientation, format, **kwargs)\u001b[0m\n\u001b[0;32m   2209\u001b[0m                 \u001b[0morientation\u001b[0m\u001b[1;33m=\u001b[0m\u001b[0morientation\u001b[0m\u001b[1;33m,\u001b[0m\u001b[1;33m\u001b[0m\u001b[0m\n\u001b[0;32m   2210\u001b[0m                 \u001b[0mbbox_inches_restore\u001b[0m\u001b[1;33m=\u001b[0m\u001b[0m_bbox_inches_restore\u001b[0m\u001b[1;33m,\u001b[0m\u001b[1;33m\u001b[0m\u001b[0m\n\u001b[1;32m-> 2211\u001b[1;33m                 **kwargs)\n\u001b[0m\u001b[0;32m   2212\u001b[0m         \u001b[1;32mfinally\u001b[0m\u001b[1;33m:\u001b[0m\u001b[1;33m\u001b[0m\u001b[0m\n\u001b[0;32m   2213\u001b[0m             \u001b[1;32mif\u001b[0m \u001b[0mbbox_inches\u001b[0m \u001b[1;32mand\u001b[0m \u001b[0mrestore_bbox\u001b[0m\u001b[1;33m:\u001b[0m\u001b[1;33m\u001b[0m\u001b[0m\n",
      "\u001b[1;32mC:\\Python\\2.7\\lib\\site-packages\\matplotlib\\backends\\backend_pdf.pyc\u001b[0m in \u001b[0;36mprint_pdf\u001b[1;34m(self, filename, **kwargs)\u001b[0m\n\u001b[0;32m   2475\u001b[0m             \u001b[0mfile\u001b[0m \u001b[1;33m=\u001b[0m \u001b[0mfilename\u001b[0m\u001b[1;33m.\u001b[0m\u001b[0m_file\u001b[0m\u001b[1;33m\u001b[0m\u001b[0m\n\u001b[0;32m   2476\u001b[0m         \u001b[1;32melse\u001b[0m\u001b[1;33m:\u001b[0m\u001b[1;33m\u001b[0m\u001b[0m\n\u001b[1;32m-> 2477\u001b[1;33m             \u001b[0mfile\u001b[0m \u001b[1;33m=\u001b[0m \u001b[0mPdfFile\u001b[0m\u001b[1;33m(\u001b[0m\u001b[0mfilename\u001b[0m\u001b[1;33m)\u001b[0m\u001b[1;33m\u001b[0m\u001b[0m\n\u001b[0m\u001b[0;32m   2478\u001b[0m         \u001b[1;32mtry\u001b[0m\u001b[1;33m:\u001b[0m\u001b[1;33m\u001b[0m\u001b[0m\n\u001b[0;32m   2479\u001b[0m             \u001b[0mfile\u001b[0m\u001b[1;33m.\u001b[0m\u001b[0mnewPage\u001b[0m\u001b[1;33m(\u001b[0m\u001b[0mwidth\u001b[0m\u001b[1;33m,\u001b[0m \u001b[0mheight\u001b[0m\u001b[1;33m)\u001b[0m\u001b[1;33m\u001b[0m\u001b[0m\n",
      "\u001b[1;32mC:\\Python\\2.7\\lib\\site-packages\\matplotlib\\backends\\backend_pdf.pyc\u001b[0m in \u001b[0;36m__init__\u001b[1;34m(self, filename)\u001b[0m\n\u001b[0;32m    416\u001b[0m         \u001b[0mself\u001b[0m\u001b[1;33m.\u001b[0m\u001b[0mtell_base\u001b[0m \u001b[1;33m=\u001b[0m \u001b[1;36m0\u001b[0m\u001b[1;33m\u001b[0m\u001b[0m\n\u001b[0;32m    417\u001b[0m         \u001b[1;32mif\u001b[0m \u001b[0mis_string_like\u001b[0m\u001b[1;33m(\u001b[0m\u001b[0mfilename\u001b[0m\u001b[1;33m)\u001b[0m\u001b[1;33m:\u001b[0m\u001b[1;33m\u001b[0m\u001b[0m\n\u001b[1;32m--> 418\u001b[1;33m             \u001b[0mfh\u001b[0m \u001b[1;33m=\u001b[0m \u001b[0mopen\u001b[0m\u001b[1;33m(\u001b[0m\u001b[0mfilename\u001b[0m\u001b[1;33m,\u001b[0m \u001b[1;34m'wb'\u001b[0m\u001b[1;33m)\u001b[0m\u001b[1;33m\u001b[0m\u001b[0m\n\u001b[0m\u001b[0;32m    419\u001b[0m         \u001b[1;32melif\u001b[0m \u001b[0mis_writable_file_like\u001b[0m\u001b[1;33m(\u001b[0m\u001b[0mfilename\u001b[0m\u001b[1;33m)\u001b[0m\u001b[1;33m:\u001b[0m\u001b[1;33m\u001b[0m\u001b[0m\n\u001b[0;32m    420\u001b[0m             \u001b[1;32mtry\u001b[0m\u001b[1;33m:\u001b[0m\u001b[1;33m\u001b[0m\u001b[0m\n",
      "\u001b[1;31mIOError\u001b[0m: [Errno 13] Permission denied: 'images/hyperfine.pdf'"
     ]
    },
    {
     "data": {
      "image/png": "[encoded data removed]",
      "text/plain": [
       "<matplotlib.figure.Figure at 0x1e3c55c0>"
      ]
     },
     "metadata": {},
     "output_type": "display_data"
    }
   ],
   "source": [
    "latexify()\n",
    "file_path = \"data/cube_fixed_width_6.fits\"\n",
    "train_pixel = (1, 1)\n",
    "x = get_freq_index_from_params(cube_params)\n",
    "y = get_values_filtered_normalized(file_path, train_pixel, cube_params)\n",
    "plt.plot(x, y)\n",
    "plt.legend(loc='upper right')\n",
    "plt.xlim(xmin = 605350, xmax = 605390)\n",
    "plt.ylim(ymin = -1,ymax = 1.)\n",
    "\n",
    "lines = get_lines_from_fits(file_path)\n",
    "for i in range(0, len(lines)):\n",
    "    isotope_frequency = int(lines[i][1])\n",
    "    isotope_name = lines[i][0] + \"-f\" + str(lines[i][1])\n",
    "    if isotope_frequency in range(605335, 605375):\n",
    "        # Shows lines really present\n",
    "        plt.axvline(x=isotope_frequency, ymin=0, ymax= 3, color='g', linewidth=2, label='Present Line', linestyle='--')\n",
    "        if (i == 27):\n",
    "            plt.text(isotope_frequency + 1.5, -0.125, isotope_name.split('.')[0], size='8', rotation='vertical', color='g')\n",
    "        elif (i == 28):\n",
    "            plt.text(isotope_frequency + 2.25, -0.125, isotope_name.split('.')[0], size='8', rotation='vertical', color='g')\n",
    "        else:\n",
    "            plt.text(isotope_frequency + 1, -0.125, isotope_name.split('.')[0], size='8', rotation='vertical', color='g')\n",
    "            \n",
    "alpha_columns = pd.Series(alpha[:,0])\n",
    "alpha_columns.index = dictionary_recal.columns\n",
    "alpha_columns = alpha_columns[alpha_columns > 0]        \n",
    "\n",
    "hardcoder = 0\n",
    "for idx in range(0, len(detected_peaks)):\n",
    "    if detected_peaks[idx] != 0 and x[idx] in range(605350, 605390):\n",
    "        plt.axvline(x=x[idx], ymin=0, ymax= 1, color='r')\n",
    "\n",
    "        frecuencia = x[idx]\n",
    "        m = 0\n",
    "        detections = alpha_columns[dictionary_recal.ix[frecuencia] != 0]\n",
    "        for pch, elements in enumerate(detections):\n",
    "            m = m + 0.75\n",
    "\n",
    "            print(detections.index[pch])\n",
    "            probability = round(elements * 100 / np.sum(alpha_columns[dictionary_recal.ix[frecuencia] != 0]))\n",
    "            print(probability)\n",
    "            match = \"match \" + str(int(probability)) + \" \\%\"\n",
    "            plt.text(frecuencia + 1.5, 0.525, match, size='10', rotation='vertical', color='r')\n",
    "        \n",
    "plt.title(\"Hyperfine lines case\")\n",
    "plt.xlabel(\"Frequency [MHz]\")\n",
    "ax = plt.gca()\n",
    "ax.get_xaxis().get_major_formatter().set_useOffset(False)\n",
    "plt.ylabel(\"Normalized Temperature\")\n",
    "plt.legend()\n",
    "plt.savefig(\"images/hyperfine.pdf\")"
   ]
  },
  {
   "cell_type": "code",
   "execution_count": null,
   "metadata": {
    "collapsed": true
   },
   "outputs": [],
   "source": []
  },
  {
   "cell_type": "code",
   "execution_count": null,
   "metadata": {
    "collapsed": true
   },
   "outputs": [],
   "source": []
  },
  {
   "cell_type": "markdown",
   "metadata": {},
   "source": [
    "Double peaks for single Line"
   ]
  },
  {
   "cell_type": "code",
   "execution_count": 733,
   "metadata": {
    "collapsed": false
   },
   "outputs": [
    {
     "data": {
      "image/png": "[encoded data removed]",
      "text/plain": [
       "<matplotlib.figure.Figure at 0x25a69b00>"
      ]
     },
     "metadata": {},
     "output_type": "display_data"
    }
   ],
   "source": [
    "latexify()\n",
    "file_path = \"data/cube_fixed_width_1.fits\"\n",
    "train_pixel = (1, 1)\n",
    "x = get_freq_index_from_params(cube_params)\n",
    "y = get_values_filtered_normalized(file_path, train_pixel, cube_params)\n",
    "plt.plot(x, y)\n",
    "plt.legend(loc='upper right')\n",
    "plt.xlim(xmin = 604356, xmax = 604456)\n",
    "plt.ylim(ymin = -1,ymax = 1)\n",
    "\n",
    "lines = get_lines_from_fits(file_path)\n",
    "for line in lines:\n",
    "    isotope_frequency = int(line[1])\n",
    "    isotope_name = line[0] + \"-f\" + str(line[1])\n",
    "    if isotope_frequency in range(604356, 604456):\n",
    "        # Shows lines really present\n",
    "        plt.axvline(x=isotope_frequency, ymin=0, ymax= 3, color='g', linewidth=2, label='Present Line')\n",
    "        plt.text(isotope_frequency, -0.3, isotope_name, size='8', rotation='vertical')\n",
    "\n",
    "plt.title(\"Double peaks for single Line\")\n",
    "plt.xlabel(\"Frequency [MHz]\")\n",
    "ax = plt.gca()\n",
    "ax.get_xaxis().get_major_formatter().set_useOffset(False)\n",
    "plt.ylabel(\"Normalized Temperature\")\n",
    "plt.legend()\n",
    "plt.savefig(\"images/doublepeak.pdf\")"
   ]
  },
  {
   "cell_type": "code",
   "execution_count": 29,
   "metadata": {
    "collapsed": false
   },
   "outputs": [
    {
     "data": {
      "text/plain": [
       "0.82696383556392095"
      ]
     },
     "execution_count": 29,
     "metadata": {},
     "output_type": "execute_result"
    }
   ],
   "source": [
    "np.mean([np.mean(means[\"F-Score\"]) for means in results])"
   ]
  },
  {
   "cell_type": "code",
   "execution_count": 30,
   "metadata": {
    "collapsed": false,
    "scrolled": true
   },
   "outputs": [],
   "source": [
    "# result9 = results.pop(9)"
   ]
  },
  {
   "cell_type": "code",
   "execution_count": 39,
   "metadata": {
    "collapsed": false
   },
   "outputs": [],
   "source": [
    "min_distance_req_list = pd.DataFrame([])\n",
    "for i in range(0, 100):\n",
    "    if (i == 0 or i == 50):\n",
    "        cube_name = 'data/cube_fixed_width_'\n",
    "    if (i == 25 or i == 75):\n",
    "        cube_name = 'data/cube_variable_width_'\n",
    "        \n",
    "    file_path = cube_name + str(i) + '.fits'\n",
    "    lines = get_lines_from_fits(file_path)\n",
    "       \n",
    "    sorted_lines = sorted([lines[idx][1] for idx in range(0, len(lines) )])\n",
    "    min_distance_req = True\n",
    "    \n",
    "    last_freq = float(sorted_lines[0])\n",
    "    for idx in  range(1, len(sorted_lines)):\n",
    "        distance = float(sorted_lines[idx]) - last_freq\n",
    "                \n",
    "        if(distance <= 1):\n",
    "            min_distance_req = False\n",
    "            break\n",
    "        last_freq = float(sorted_lines[idx])\n",
    "    \n",
    "    if len(min_distance_req_list) == 0:\n",
    "        if (min_distance_req):\n",
    "            min_distance_req_list = [i]\n",
    "    else:\n",
    "        if (min_distance_req):\n",
    "            min_distance_req_list.append(i)"
   ]
  },
  {
   "cell_type": "code",
   "execution_count": 40,
   "metadata": {
    "collapsed": true
   },
   "outputs": [
    {
     "data": {
      "text/plain": [
       "[0,\n",
       " 1,\n",
       " 3,\n",
       " 5,\n",
       " 7,\n",
       " 11,\n",
       " 12,\n",
       " 14,\n",
       " 16,\n",
       " 17,\n",
       " 18,\n",
       " 20,\n",
       " 21,\n",
       " 30,\n",
       " 32,\n",
       " 33,\n",
       " 35,\n",
       " 36,\n",
       " 37,\n",
       " 39,\n",
       " 41,\n",
       " 42,\n",
       " 43,\n",
       " 45,\n",
       " 46,\n",
       " 47,\n",
       " 49,\n",
       " 50,\n",
       " 53,\n",
       " 54,\n",
       " 55,\n",
       " 57,\n",
       " 61,\n",
       " 62,\n",
       " 64,\n",
       " 66,\n",
       " 67,\n",
       " 68,\n",
       " 70,\n",
       " 71,\n",
       " 75,\n",
       " 78,\n",
       " 79,\n",
       " 80,\n",
       " 82,\n",
       " 86,\n",
       " 87,\n",
       " 89,\n",
       " 91,\n",
       " 92,\n",
       " 95,\n",
       " 96]"
      ]
     },
     "execution_count": 40,
     "metadata": {},
     "output_type": "execute_result"
    }
   ],
   "source": [
    "min_distance_req_list\n"
   ]
  },
  {
   "cell_type": "code",
   "execution_count": 41,
   "metadata": {
    "collapsed": false
   },
   "outputs": [],
   "source": [
    "results_filtered = [results[min_distance_req_list[0]]]\n",
    "for ix in min_distance_req_list[1:]:\n",
    "    results_filtered.append(results[ix])"
   ]
  },
  {
   "cell_type": "code",
   "execution_count": 42,
   "metadata": {
    "collapsed": false
   },
   "outputs": [
    {
     "data": {
      "text/plain": [
       "0.8709341308285552"
      ]
     },
     "execution_count": 42,
     "metadata": {},
     "output_type": "execute_result"
    }
   ],
   "source": [
    "np.mean([np.mean(means[\"F-Score\"]) for means in results_filtered])"
   ]
  },
  {
   "cell_type": "code",
   "execution_count": 35,
   "metadata": {
    "collapsed": true
   },
   "outputs": [],
   "source": [
    "cf_filtered = [confusion_matrix[min_distance_req_list[0]]]\n",
    "for ix in min_distance_req_list[1:]:\n",
    "    cf_filtered.append(confusion_matrix[ix])"
   ]
  },
  {
   "cell_type": "code",
   "execution_count": 51,
   "metadata": {
    "collapsed": false
   },
   "outputs": [
    {
     "data": {
      "text/html": [
       "<div style=\"max-height:1000px;max-width:1500px;overflow:auto;\">\n",
       "<table border=\"1\" class=\"dataframe\">\n",
       "  <thead>\n",
       "    <tr style=\"text-align: right;\">\n",
       "      <th></th>\n",
       "      <th>OS18O-f602313.3835</th>\n",
       "      <th>OS18O-f603090.155</th>\n",
       "      <th>OS18O-f603608.7849</th>\n",
       "      <th>H213CS-f602149.9892</th>\n",
       "      <th>34SO2v=0-f604376.563</th>\n",
       "      <th>34SO2v=0-f605499.8855</th>\n",
       "      <th>OS17O-f604501.9322</th>\n",
       "      <th>OS17O-f605172.0102</th>\n",
       "      <th>OS17O-f605240.925</th>\n",
       "      <th>H2C34S-f604710.9998</th>\n",
       "    </tr>\n",
       "  </thead>\n",
       "  <tbody>\n",
       "    <tr>\n",
       "      <th>SO2v=0-f604367.4364</th>\n",
       "      <td>0</td>\n",
       "      <td>0</td>\n",
       "      <td>0</td>\n",
       "      <td>0</td>\n",
       "      <td>0.382845</td>\n",
       "      <td>0</td>\n",
       "      <td>0</td>\n",
       "      <td>0</td>\n",
       "      <td>0</td>\n",
       "      <td>0</td>\n",
       "    </tr>\n",
       "    <tr>\n",
       "      <th>33SO2-f602337.0627&amp;&amp;f602338.0039</th>\n",
       "      <td>0</td>\n",
       "      <td>0</td>\n",
       "      <td>0</td>\n",
       "      <td>0</td>\n",
       "      <td>0.000000</td>\n",
       "      <td>0</td>\n",
       "      <td>0</td>\n",
       "      <td>0</td>\n",
       "      <td>0</td>\n",
       "      <td>0</td>\n",
       "    </tr>\n",
       "    <tr>\n",
       "      <th>33SO2-f604736.5656&amp;&amp;f604736.767&amp;&amp;f604736.8741&amp;&amp;f604736.8962&amp;&amp;f604736.926&amp;&amp;f604736.9663&amp;&amp;f604736.9892</th>\n",
       "      <td>0</td>\n",
       "      <td>0</td>\n",
       "      <td>0</td>\n",
       "      <td>0</td>\n",
       "      <td>0.000000</td>\n",
       "      <td>0</td>\n",
       "      <td>0</td>\n",
       "      <td>0</td>\n",
       "      <td>0</td>\n",
       "      <td>0</td>\n",
       "    </tr>\n",
       "    <tr>\n",
       "      <th>34SO2v=0-f604376.563</th>\n",
       "      <td>0</td>\n",
       "      <td>0</td>\n",
       "      <td>0</td>\n",
       "      <td>0</td>\n",
       "      <td>0.617155</td>\n",
       "      <td>0</td>\n",
       "      <td>0</td>\n",
       "      <td>0</td>\n",
       "      <td>0</td>\n",
       "      <td>0</td>\n",
       "    </tr>\n",
       "    <tr>\n",
       "      <th>34SO2v=0-f604504.0028</th>\n",
       "      <td>0</td>\n",
       "      <td>0</td>\n",
       "      <td>0</td>\n",
       "      <td>0</td>\n",
       "      <td>0.000000</td>\n",
       "      <td>0</td>\n",
       "      <td>1</td>\n",
       "      <td>0</td>\n",
       "      <td>0</td>\n",
       "      <td>0</td>\n",
       "    </tr>\n",
       "    <tr>\n",
       "      <th>34SO2v=0-f605499.8855</th>\n",
       "      <td>0</td>\n",
       "      <td>0</td>\n",
       "      <td>0</td>\n",
       "      <td>0</td>\n",
       "      <td>0.000000</td>\n",
       "      <td>1</td>\n",
       "      <td>0</td>\n",
       "      <td>0</td>\n",
       "      <td>0</td>\n",
       "      <td>0</td>\n",
       "    </tr>\n",
       "    <tr>\n",
       "      <th>OS18O-f602313.3835</th>\n",
       "      <td>1</td>\n",
       "      <td>0</td>\n",
       "      <td>0</td>\n",
       "      <td>0</td>\n",
       "      <td>0.000000</td>\n",
       "      <td>0</td>\n",
       "      <td>0</td>\n",
       "      <td>0</td>\n",
       "      <td>0</td>\n",
       "      <td>0</td>\n",
       "    </tr>\n",
       "    <tr>\n",
       "      <th>OS18O-f603090.155</th>\n",
       "      <td>0</td>\n",
       "      <td>1</td>\n",
       "      <td>0</td>\n",
       "      <td>0</td>\n",
       "      <td>0.000000</td>\n",
       "      <td>0</td>\n",
       "      <td>0</td>\n",
       "      <td>0</td>\n",
       "      <td>0</td>\n",
       "      <td>0</td>\n",
       "    </tr>\n",
       "    <tr>\n",
       "      <th>OS18O-f603608.7849</th>\n",
       "      <td>0</td>\n",
       "      <td>0</td>\n",
       "      <td>1</td>\n",
       "      <td>0</td>\n",
       "      <td>0.000000</td>\n",
       "      <td>0</td>\n",
       "      <td>0</td>\n",
       "      <td>0</td>\n",
       "      <td>0</td>\n",
       "      <td>0</td>\n",
       "    </tr>\n",
       "    <tr>\n",
       "      <th>OS17O-f603105.7123&amp;&amp;f603106.5013</th>\n",
       "      <td>0</td>\n",
       "      <td>0</td>\n",
       "      <td>0</td>\n",
       "      <td>0</td>\n",
       "      <td>0.000000</td>\n",
       "      <td>0</td>\n",
       "      <td>0</td>\n",
       "      <td>0</td>\n",
       "      <td>0</td>\n",
       "      <td>0</td>\n",
       "    </tr>\n",
       "    <tr>\n",
       "      <th>OS17O-f605172.0102&amp;&amp;f605172.0102</th>\n",
       "      <td>0</td>\n",
       "      <td>0</td>\n",
       "      <td>0</td>\n",
       "      <td>0</td>\n",
       "      <td>0.000000</td>\n",
       "      <td>0</td>\n",
       "      <td>0</td>\n",
       "      <td>1</td>\n",
       "      <td>0</td>\n",
       "      <td>0</td>\n",
       "    </tr>\n",
       "    <tr>\n",
       "      <th>OS17O-f605240.925</th>\n",
       "      <td>0</td>\n",
       "      <td>0</td>\n",
       "      <td>0</td>\n",
       "      <td>0</td>\n",
       "      <td>0.000000</td>\n",
       "      <td>0</td>\n",
       "      <td>0</td>\n",
       "      <td>0</td>\n",
       "      <td>1</td>\n",
       "      <td>0</td>\n",
       "    </tr>\n",
       "    <tr>\n",
       "      <th>H213CS-f602149.9892</th>\n",
       "      <td>0</td>\n",
       "      <td>0</td>\n",
       "      <td>0</td>\n",
       "      <td>1</td>\n",
       "      <td>0.000000</td>\n",
       "      <td>0</td>\n",
       "      <td>0</td>\n",
       "      <td>0</td>\n",
       "      <td>0</td>\n",
       "      <td>0</td>\n",
       "    </tr>\n",
       "    <tr>\n",
       "      <th>H2C34S-f604710.9998</th>\n",
       "      <td>0</td>\n",
       "      <td>0</td>\n",
       "      <td>0</td>\n",
       "      <td>0</td>\n",
       "      <td>0.000000</td>\n",
       "      <td>0</td>\n",
       "      <td>0</td>\n",
       "      <td>0</td>\n",
       "      <td>0</td>\n",
       "      <td>1</td>\n",
       "    </tr>\n",
       "  </tbody>\n",
       "</table>\n",
       "</div>"
      ],
      "text/plain": [
       "                                                    OS18O-f602313.3835  \\\n",
       "SO2v=0-f604367.4364                                                  0   \n",
       "33SO2-f602337.0627&&f602338.0039                                     0   \n",
       "33SO2-f604736.5656&&f604736.767&&f604736.8741&&...                   0   \n",
       "34SO2v=0-f604376.563                                                 0   \n",
       "34SO2v=0-f604504.0028                                                0   \n",
       "34SO2v=0-f605499.8855                                                0   \n",
       "OS18O-f602313.3835                                                   1   \n",
       "OS18O-f603090.155                                                    0   \n",
       "OS18O-f603608.7849                                                   0   \n",
       "OS17O-f603105.7123&&f603106.5013                                     0   \n",
       "OS17O-f605172.0102&&f605172.0102                                     0   \n",
       "OS17O-f605240.925                                                    0   \n",
       "H213CS-f602149.9892                                                  0   \n",
       "H2C34S-f604710.9998                                                  0   \n",
       "\n",
       "                                                    OS18O-f603090.155  \\\n",
       "SO2v=0-f604367.4364                                                 0   \n",
       "33SO2-f602337.0627&&f602338.0039                                    0   \n",
       "33SO2-f604736.5656&&f604736.767&&f604736.8741&&...                  0   \n",
       "34SO2v=0-f604376.563                                                0   \n",
       "34SO2v=0-f604504.0028                                               0   \n",
       "34SO2v=0-f605499.8855                                               0   \n",
       "OS18O-f602313.3835                                                  0   \n",
       "OS18O-f603090.155                                                   1   \n",
       "OS18O-f603608.7849                                                  0   \n",
       "OS17O-f603105.7123&&f603106.5013                                    0   \n",
       "OS17O-f605172.0102&&f605172.0102                                    0   \n",
       "OS17O-f605240.925                                                   0   \n",
       "H213CS-f602149.9892                                                 0   \n",
       "H2C34S-f604710.9998                                                 0   \n",
       "\n",
       "                                                    OS18O-f603608.7849  \\\n",
       "SO2v=0-f604367.4364                                                  0   \n",
       "33SO2-f602337.0627&&f602338.0039                                     0   \n",
       "33SO2-f604736.5656&&f604736.767&&f604736.8741&&...                   0   \n",
       "34SO2v=0-f604376.563                                                 0   \n",
       "34SO2v=0-f604504.0028                                                0   \n",
       "34SO2v=0-f605499.8855                                                0   \n",
       "OS18O-f602313.3835                                                   0   \n",
       "OS18O-f603090.155                                                    0   \n",
       "OS18O-f603608.7849                                                   1   \n",
       "OS17O-f603105.7123&&f603106.5013                                     0   \n",
       "OS17O-f605172.0102&&f605172.0102                                     0   \n",
       "OS17O-f605240.925                                                    0   \n",
       "H213CS-f602149.9892                                                  0   \n",
       "H2C34S-f604710.9998                                                  0   \n",
       "\n",
       "                                                    H213CS-f602149.9892  \\\n",
       "SO2v=0-f604367.4364                                                   0   \n",
       "33SO2-f602337.0627&&f602338.0039                                      0   \n",
       "33SO2-f604736.5656&&f604736.767&&f604736.8741&&...                    0   \n",
       "34SO2v=0-f604376.563                                                  0   \n",
       "34SO2v=0-f604504.0028                                                 0   \n",
       "34SO2v=0-f605499.8855                                                 0   \n",
       "OS18O-f602313.3835                                                    0   \n",
       "OS18O-f603090.155                                                     0   \n",
       "OS18O-f603608.7849                                                    0   \n",
       "OS17O-f603105.7123&&f603106.5013                                      0   \n",
       "OS17O-f605172.0102&&f605172.0102                                      0   \n",
       "OS17O-f605240.925                                                     0   \n",
       "H213CS-f602149.9892                                                   1   \n",
       "H2C34S-f604710.9998                                                   0   \n",
       "\n",
       "                                                    34SO2v=0-f604376.563  \\\n",
       "SO2v=0-f604367.4364                                             0.382845   \n",
       "33SO2-f602337.0627&&f602338.0039                                0.000000   \n",
       "33SO2-f604736.5656&&f604736.767&&f604736.8741&&...              0.000000   \n",
       "34SO2v=0-f604376.563                                            0.617155   \n",
       "34SO2v=0-f604504.0028                                           0.000000   \n",
       "34SO2v=0-f605499.8855                                           0.000000   \n",
       "OS18O-f602313.3835                                              0.000000   \n",
       "OS18O-f603090.155                                               0.000000   \n",
       "OS18O-f603608.7849                                              0.000000   \n",
       "OS17O-f603105.7123&&f603106.5013                                0.000000   \n",
       "OS17O-f605172.0102&&f605172.0102                                0.000000   \n",
       "OS17O-f605240.925                                               0.000000   \n",
       "H213CS-f602149.9892                                             0.000000   \n",
       "H2C34S-f604710.9998                                             0.000000   \n",
       "\n",
       "                                                    34SO2v=0-f605499.8855  \\\n",
       "SO2v=0-f604367.4364                                                     0   \n",
       "33SO2-f602337.0627&&f602338.0039                                        0   \n",
       "33SO2-f604736.5656&&f604736.767&&f604736.8741&&...                      0   \n",
       "34SO2v=0-f604376.563                                                    0   \n",
       "34SO2v=0-f604504.0028                                                   0   \n",
       "34SO2v=0-f605499.8855                                                   1   \n",
       "OS18O-f602313.3835                                                      0   \n",
       "OS18O-f603090.155                                                       0   \n",
       "OS18O-f603608.7849                                                      0   \n",
       "OS17O-f603105.7123&&f603106.5013                                        0   \n",
       "OS17O-f605172.0102&&f605172.0102                                        0   \n",
       "OS17O-f605240.925                                                       0   \n",
       "H213CS-f602149.9892                                                     0   \n",
       "H2C34S-f604710.9998                                                     0   \n",
       "\n",
       "                                                    OS17O-f604501.9322  \\\n",
       "SO2v=0-f604367.4364                                                  0   \n",
       "33SO2-f602337.0627&&f602338.0039                                     0   \n",
       "33SO2-f604736.5656&&f604736.767&&f604736.8741&&...                   0   \n",
       "34SO2v=0-f604376.563                                                 0   \n",
       "34SO2v=0-f604504.0028                                                1   \n",
       "34SO2v=0-f605499.8855                                                0   \n",
       "OS18O-f602313.3835                                                   0   \n",
       "OS18O-f603090.155                                                    0   \n",
       "OS18O-f603608.7849                                                   0   \n",
       "OS17O-f603105.7123&&f603106.5013                                     0   \n",
       "OS17O-f605172.0102&&f605172.0102                                     0   \n",
       "OS17O-f605240.925                                                    0   \n",
       "H213CS-f602149.9892                                                  0   \n",
       "H2C34S-f604710.9998                                                  0   \n",
       "\n",
       "                                                    OS17O-f605172.0102  \\\n",
       "SO2v=0-f604367.4364                                                  0   \n",
       "33SO2-f602337.0627&&f602338.0039                                     0   \n",
       "33SO2-f604736.5656&&f604736.767&&f604736.8741&&...                   0   \n",
       "34SO2v=0-f604376.563                                                 0   \n",
       "34SO2v=0-f604504.0028                                                0   \n",
       "34SO2v=0-f605499.8855                                                0   \n",
       "OS18O-f602313.3835                                                   0   \n",
       "OS18O-f603090.155                                                    0   \n",
       "OS18O-f603608.7849                                                   0   \n",
       "OS17O-f603105.7123&&f603106.5013                                     0   \n",
       "OS17O-f605172.0102&&f605172.0102                                     1   \n",
       "OS17O-f605240.925                                                    0   \n",
       "H213CS-f602149.9892                                                  0   \n",
       "H2C34S-f604710.9998                                                  0   \n",
       "\n",
       "                                                    OS17O-f605240.925  \\\n",
       "SO2v=0-f604367.4364                                                 0   \n",
       "33SO2-f602337.0627&&f602338.0039                                    0   \n",
       "33SO2-f604736.5656&&f604736.767&&f604736.8741&&...                  0   \n",
       "34SO2v=0-f604376.563                                                0   \n",
       "34SO2v=0-f604504.0028                                               0   \n",
       "34SO2v=0-f605499.8855                                               0   \n",
       "OS18O-f602313.3835                                                  0   \n",
       "OS18O-f603090.155                                                   0   \n",
       "OS18O-f603608.7849                                                  0   \n",
       "OS17O-f603105.7123&&f603106.5013                                    0   \n",
       "OS17O-f605172.0102&&f605172.0102                                    0   \n",
       "OS17O-f605240.925                                                   1   \n",
       "H213CS-f602149.9892                                                 0   \n",
       "H2C34S-f604710.9998                                                 0   \n",
       "\n",
       "                                                    H2C34S-f604710.9998  \n",
       "SO2v=0-f604367.4364                                                   0  \n",
       "33SO2-f602337.0627&&f602338.0039                                      0  \n",
       "33SO2-f604736.5656&&f604736.767&&f604736.8741&&...                    0  \n",
       "34SO2v=0-f604376.563                                                  0  \n",
       "34SO2v=0-f604504.0028                                                 0  \n",
       "34SO2v=0-f605499.8855                                                 0  \n",
       "OS18O-f602313.3835                                                    0  \n",
       "OS18O-f603090.155                                                     0  \n",
       "OS18O-f603608.7849                                                    0  \n",
       "OS17O-f603105.7123&&f603106.5013                                      0  \n",
       "OS17O-f605172.0102&&f605172.0102                                      0  \n",
       "OS17O-f605240.925                                                     0  \n",
       "H213CS-f602149.9892                                                   0  \n",
       "H2C34S-f604710.9998                                                   1  "
      ]
     },
     "execution_count": 51,
     "metadata": {},
     "output_type": "execute_result"
    }
   ],
   "source": [
    "confusion_matrix[0]"
   ]
  },
  {
   "cell_type": "code",
   "execution_count": 48,
   "metadata": {
    "collapsed": false
   },
   "outputs": [
    {
     "data": {
      "image/png": "[encoded data removed]",
      "text/plain": [
       "<matplotlib.figure.Figure at 0x213a6828>"
      ]
     },
     "metadata": {},
     "output_type": "display_data"
    }
   ],
   "source": [
    "latexify()\n",
    "n = 5\n",
    "fig, axes = plt.subplots(nrows=4, ncols=5)\n",
    "filtered_matrices = confusion_matrix[:20]\n",
    "for ax, matrix in zip(axes.flat, filtered_matrices):\n",
    "    \n",
    "    order_index = np.argsort([float(f.split('f')[1].split('&')[0]) for f in matrix.index])\n",
    "    order_columns = np.argsort([float(f.split('f')[1].split('&')[0]) for f in matrix.columns])\n",
    "    im = ax.matshow(matrix[order_columns].iloc[order_index], cmap='hot')\n",
    "    ax.set_xticklabels([])\n",
    "    ax.set_yticklabels([])\n",
    "    \n",
    "\n",
    "fig.suptitle(\"Modified Confusion Matrices\")\n",
    "fig.colorbar(im, ax=axes.ravel().tolist())\n",
    "plt.savefig(\"images/confusion_matrix.pdf\")"
   ]
  },
  {
   "cell_type": "code",
   "execution_count": 37,
   "metadata": {
    "collapsed": false
   },
   "outputs": [
    {
     "data": {
      "text/plain": [
       "[0.87632600245418124,\n",
       " 1.0,\n",
       " 1.0,\n",
       " 0.79728854608696664,\n",
       " 0.79590186108171623,\n",
       " 0.81965678337688774,\n",
       " 0.88345036329454274,\n",
       " 0.90969423511685954,\n",
       " 0.88587904035457199,\n",
       " 0.88198334843232951,\n",
       " 1.0,\n",
       " 1.0,\n",
       " 0.94664464525848047,\n",
       " 0.78170822483553692,\n",
       " 0.73345884900771885,\n",
       " 0.8999960453139435,\n",
       " 0.88427577126180013,\n",
       " 0.95258764832078902,\n",
       " 0.88275308293074006,\n",
       " 0.7884096219733483,\n",
       " 0.8306026375328448,\n",
       " 0.78492860790080943,\n",
       " 0.84347030909325149,\n",
       " 0.84476289254971704,\n",
       " 0.99323557065952184,\n",
       " 0.84349886967679166,\n",
       " 0.77888006863785553,\n",
       " 0.84682561586707827,\n",
       " 0.9009762307955036,\n",
       " 0.89513930787239326,\n",
       " 0.94172704690604603,\n",
       " 0.93137289342345797,\n",
       " 0.86035077378268998,\n",
       " 0.93071336618528544,\n",
       " 0.91037751932515476,\n",
       " 0.91996269303219413,\n",
       " 0.75736548559967842,\n",
       " 0.83896780145486249,\n",
       " 0.94651612632997251,\n",
       " 0.88884715375777568,\n",
       " 0.87913178036994888,\n",
       " 0.88330465963492588,\n",
       " 0.83705515278715692,\n",
       " 0.85189213605320835,\n",
       " 0.92089719458440933,\n",
       " 0.79243154439078678]"
      ]
     },
     "execution_count": 37,
     "metadata": {},
     "output_type": "execute_result"
    }
   ],
   "source": [
    "[np.mean(means[\"F-Score\"]) for means in results_filtered]"
   ]
  },
  {
   "cell_type": "code",
   "execution_count": 420,
   "metadata": {
    "collapsed": false
   },
   "outputs": [
    {
     "data": {
      "text/plain": [
       "[0.87632600245418124,\n",
       " 1.0,\n",
       " 0.6938859006029181,\n",
       " 1.0,\n",
       " 0.6990889596642309,\n",
       " 0.79728854608696664,\n",
       " 0.702951460238734,\n",
       " 0.79590186108171623,\n",
       " 0.73548704452753544,\n",
       " 0.85664394048373205,\n",
       " 0.73586327240992477,\n",
       " 0.81965678337688774,\n",
       " 0.88345036329454274,\n",
       " 0.67626731663527195,\n",
       " 0.90969423511685954,\n",
       " 0.68558789258127872,\n",
       " 0.88587904035457199,\n",
       " 0.88198334843232951,\n",
       " 1.0,\n",
       " 0.62475285330002861,\n",
       " 1.0,\n",
       " 0.94664464525848047,\n",
       " 0.74794567878211815,\n",
       " 0.66536377493655408,\n",
       " 0.89421352533542664,\n",
       " 0.86732630034639913,\n",
       " 0.62035651953214188,\n",
       " 0.67055353609773938,\n",
       " 0.89787735236343946,\n",
       " 0.61936556265307152,\n",
       " 0.78170822483553692,\n",
       " 0.6338823452628336,\n",
       " 0.73345884900771885,\n",
       " 0.8999960453139435,\n",
       " 0.61667894180753613,\n",
       " 0.88427577126180013,\n",
       " 0.95258764832078902,\n",
       " 0.88275308293074006,\n",
       " 0.62810812622241063,\n",
       " 0.7884096219733483,\n",
       " 0.62253763265905337,\n",
       " 0.8306026375328448,\n",
       " 0.78492860790080943,\n",
       " 0.84347030909325149,\n",
       " 0.62208926269479192,\n",
       " 0.84476289254971704,\n",
       " 0.99323557065952184,\n",
       " 0.84349886967679166,\n",
       " 0.90154287334347205,\n",
       " 0.77888006863785553,\n",
       " 0.84682561586707827,\n",
       " 0.8274730063168938,\n",
       " 0.74818258055941356,\n",
       " 0.78159141776230523,\n",
       " 0.9009762307955036,\n",
       " 0.89513930787239326,\n",
       " 0.84588870426475216,\n",
       " 0.81824785792999688,\n",
       " 0.87444039026755438,\n",
       " 0.7495353192314107,\n",
       " 0.93966756572902688,\n",
       " 0.94172704690604603,\n",
       " 0.93137289342345797,\n",
       " 0.83510667029878249,\n",
       " 0.86035077378268998,\n",
       " 0.8583149768337619,\n",
       " 0.93071336618528544,\n",
       " 0.91037751932515476,\n",
       " 0.91996269303219413,\n",
       " 0.90604992013952346,\n",
       " 0.75736548559967842,\n",
       " 0.81197145072631949,\n",
       " 0.88654713709453659,\n",
       " 0.75212947420766163,\n",
       " 0.92140262252552141,\n",
       " 0.83896780145486249,\n",
       " 0.78836476612990214,\n",
       " 0.77996817512980743,\n",
       " 0.74528716250375215,\n",
       " 0.94651612632997251,\n",
       " 0.88884715375777568,\n",
       " 0.85924964429611106,\n",
       " 0.84808461175900607,\n",
       " 0.85050267691859771,\n",
       " 0.82595793741175527,\n",
       " 0.90117647618248109,\n",
       " 0.87913178036994888,\n",
       " 0.88330465963492588,\n",
       " 0.85225852952868109,\n",
       " 0.83705515278715692,\n",
       " 0.76651413745868235,\n",
       " 0.85189213605320835,\n",
       " 0.92089719458440933,\n",
       " 0.83150492013695643,\n",
       " 0.90100577323647313,\n",
       " 0.79243154439078678,\n",
       " 0.91014479509975599,\n",
       " 0.88700676587901672,\n",
       " 0.74268245593724769,\n",
       " 0.85850805511203032]"
      ]
     },
     "execution_count": 420,
     "metadata": {},
     "output_type": "execute_result"
    }
   ],
   "source": [
    "[np.mean(means[\"F-Score\"]) for means in results]"
   ]
  },
  {
   "cell_type": "code",
   "execution_count": 608,
   "metadata": {
    "collapsed": false
   },
   "outputs": [
    {
     "data": {
      "image/png": "[encoded data removed]",
      "text/plain": [
       "<matplotlib.figure.Figure at 0x2f6a6438>"
      ]
     },
     "metadata": {},
     "output_type": "display_data"
    }
   ],
   "source": [
    "latexify()\n",
    "# Plot Precision-Recall curve for each cube\n",
    "precision_avg = [np.mean(means[\"Precision\"]) for means in results[:50]]\n",
    "recall_avg = [np.mean(means[\"Recall\"]) for means in results[:50]]\n",
    "area = simps(precision_avg, dx=0.01)\n",
    "plt.clf()\n",
    "plt.plot(np.sort(recall_avg),\n",
    "         -np.sort(-np.ones(1)*precision_avg),\n",
    "          label='Overall')\n",
    "precision_avg = [np.mean(means[\"Precision\"]) for means in results[:25]]\n",
    "recall_avg = [np.mean(means[\"Recall\"]) for means in results[:25]]\n",
    "area = simps(precision_avg, dx=0.01)\n",
    "plt.plot(np.sort(recall_avg),\n",
    "         -np.sort(-np.ones(1)*precision_avg),\n",
    "             label='Fixed width')\n",
    "precision_avg = [np.mean(means[\"Precision\"]) for means in results[25:50]]\n",
    "recall_avg = [np.mean(means[\"Recall\"]) for means in results[25:50]]\n",
    "area = simps(precision_avg, dx=0.01)\n",
    "plt.plot(np.sort(recall_avg),\n",
    "         -np.sort(-np.ones(1)*precision_avg),\n",
    "             label='Variable width ')\n",
    "\n",
    "plt.xlim([0.2, 1.0])\n",
    "plt.ylim([0.6, 1.01])\n",
    "plt.xlabel('Recall')\n",
    "plt.ylabel('Precision')\n",
    "plt.title('Precision-Recall Curves Band 9')\n",
    "plt.legend(loc=\"lower left\")\n",
    "plt.savefig(\"images/results1.pdf\")"
   ]
  },
  {
   "cell_type": "code",
   "execution_count": 607,
   "metadata": {
    "collapsed": false
   },
   "outputs": [
    {
     "data": {
      "image/png": "[encoded data removed]",
      "text/plain": [
       "<matplotlib.figure.Figure at 0x31fba198>"
      ]
     },
     "metadata": {},
     "output_type": "display_data"
    }
   ],
   "source": [
    "latexify()\n",
    "# Plot Precision-Recall curve for each cube\n",
    "from scipy.integrate import simps\n",
    "\n",
    "precision_avg = [np.mean(means[\"Precision\"]) for means in results[50:100]]\n",
    "recall_avg = [np.mean(means[\"Recall\"]) for means in results[50:100]]\n",
    "\n",
    "area = simps(precision_avg, dx=0.01)\n",
    "plt.clf()\n",
    "plt.plot(np.sort(recall_avg),\n",
    "         -np.sort(-np.ones(1)*precision_avg),\n",
    "          label='Overall')\n",
    "precision_avg = [np.mean(means[\"Precision\"]) for means in results[50:75]]\n",
    "recall_avg = [np.mean(means[\"Recall\"]) for means in results[50:75]]\n",
    "area = simps(precision_avg, dx=0.01)\n",
    "\n",
    "plt.plot(np.sort(recall_avg),\n",
    "         -np.sort(-np.ones(1)*precision_avg),\n",
    "             label='Fixed Width')\n",
    "precision_avg = [np.mean(means[\"Precision\"]) for means in results[75:100]]\n",
    "recall_avg = [np.mean(means[\"Recall\"]) for means in results[75:100]]\n",
    "area = simps(precision_avg, dx=0.01)\n",
    "\n",
    "plt.plot(np.sort(recall_avg),\n",
    "         -np.sort(-np.ones(1)*precision_avg),\n",
    "             label='Variable Width ')\n",
    "\n",
    "plt.xlim([0.415, 0.854])\n",
    "plt.ylim([0.745, 0.96])\n",
    "plt.xlabel('Recall')\n",
    "plt.ylabel('Precision')\n",
    "plt.title('Precision-Recall Curves Band 7')\n",
    "plt.legend(loc=\"lower left\")\n",
    "plt.savefig(\"images/results2.pdf\")"
   ]
  },
  {
   "cell_type": "code",
   "execution_count": 8,
   "metadata": {
    "collapsed": false
   },
   "outputs": [],
   "source": [
    "def latexify(fig_width=None, fig_height=None, columns=1):\n",
    "    \"\"\"Set up matplotlib's RC params for LaTeX plotting.\n",
    "    Call this before plotting a figure.\n",
    "\n",
    "    Parameters\n",
    "    ----------\n",
    "    fig_width : float, optional, inches\n",
    "    fig_height : float,  optional, inches\n",
    "    columns : {1, 2}\n",
    "    \"\"\"\n",
    "\n",
    "    # code adapted from http://www.scipy.org/Cookbook/Matplotlib/LaTeX_Examples\n",
    "\n",
    "    # Width and max height in inches for IEEE journals taken from\n",
    "    # computer.org/cms/Computer.org/Journal%20templates/transactions_art_guide.pdf\n",
    "\n",
    "    assert(columns in [1,2])\n",
    "\n",
    "    if fig_width is None:\n",
    "        fig_width = 4.89 if columns==1 else 6.9 # width in inches\n",
    "\n",
    "    if fig_height is None:\n",
    "        golden_mean = (sqrt(5)-1.0)/2.0    # Aesthetic ratio\n",
    "        fig_height = fig_width*golden_mean # height in inches\n",
    "\n",
    "    MAX_HEIGHT_INCHES = 24.0\n",
    "    if fig_height > MAX_HEIGHT_INCHES:\n",
    "        print(\"WARNING: fig_height too large:\" + fig_height + \n",
    "              \"so will reduce to\" + MAX_HEIGHT_INCHES + \"inches.\")\n",
    "        fig_height = MAX_HEIGHT_INCHES\n",
    "\n",
    "    params = {'backend': 'ps',\n",
    "              'text.latex.preamble': ['\\usepackage{gensymb}'],\n",
    "              'axes.labelsize': 8, # fontsize for x and y labels (was 10)\n",
    "              'axes.titlesize': 8,\n",
    "              'text.fontsize': 8, # was 10\n",
    "              'legend.fontsize': 8, # was 10\n",
    "              'xtick.labelsize': 10,\n",
    "              'ytick.labelsize': 8,\n",
    "              'text.usetex': True,\n",
    "              'figure.figsize': [fig_width,fig_height],\n",
    "              'font.family': 'serif'\n",
    "    }\n",
    "\n",
    "    matplotlib.rcParams.update(params)\n",
    "\n",
    "\n",
    "def format_axes(ax):\n",
    "\n",
    "    for spine in ['top', 'right']:\n",
    "        ax.spines[spine].set_visible(False)\n",
    "\n",
    "    for spine in ['left', 'bottom']:\n",
    "        ax.spines[spine].set_color(SPINE_COLOR)\n",
    "        ax.spines[spine].set_linewidth(0.5)\n",
    "\n",
    "    ax.xaxis.set_ticks_position('bottom')\n",
    "    ax.yaxis.set_ticks_position('left')\n",
    "\n",
    "    for axis in [ax.xaxis, ax.yaxis]:\n",
    "        axis.set_tick_params(direction='out', color=SPINE_COLOR)\n",
    "\n",
    "    return ax\n",
    "\n"
   ]
  },
  {
   "cell_type": "code",
   "execution_count": null,
   "metadata": {
    "collapsed": true
   },
   "outputs": [],
   "source": []
  }
 ],
 "metadata": {
  "kernelspec": {
   "display_name": "Python 2",
   "language": "python",
   "name": "python2"
  },
  "language_info": {
   "codemirror_mode": {
    "name": "ipython",
    "version": 2
   },
   "file_extension": ".py",
   "mimetype": "text/x-python",
   "name": "python",
   "nbconvert_exporter": "python",
   "pygments_lexer": "ipython2",
   "version": "2.7.10"
  }
 },
 "nbformat": 4,
 "nbformat_minor": 0
}
