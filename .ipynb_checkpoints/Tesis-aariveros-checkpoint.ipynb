{
 "cells": [
  {
   "cell_type": "code",
   "execution_count": 1,
   "metadata": {
    "collapsed": false
   },
   "outputs": [],
   "source": [
    "from packages.display.core import *"
   ]
  },
  {
   "cell_type": "code",
   "execution_count": 2,
   "metadata": {
    "collapsed": true
   },
   "outputs": [],
   "source": [
    "%qtconsole"
   ]
  },
  {
   "cell_type": "markdown",
   "metadata": {},
   "source": [
    "# Testing Band 9\n",
    "\n",
    "## Creation of Data Cubes\n",
    "\n",
    "Creation of the Synthetic Data Cubes ALMA-like using ASYDO Project.\n",
    "Parameters:\n",
    "\n",
    " - isolist    : subset of the list of isotopes to generate a cube\n",
    "\n",
    " cube_params:\n",
    "\n",
    " - freq    : spectral center (frequency)\n",
    " - alpha   : right-ascension center (degrees\n",
    " - delta   : declination center (degrees\n",
    " - spe_res : spectral resolution (MHz)\n",
    " - spe_bw  : spectral bandwidth (MHz)\n",
    " - s_f, s_a : skew-normal distrib, s_f: full width at half maximum, alpha: curtosis parameter. "
   ]
  },
  {
   "cell_type": "code",
   "execution_count": 2,
   "metadata": {
    "collapsed": false
   },
   "outputs": [],
   "source": [
    "cube_params = {\n",
    "  'freq'     : 604000,\n",
    "  'alpha'    : 0,\n",
    "  'delta'    : 0,\n",
    "  'spe_bw'   : 4000,\n",
    "  'spe_res'  : 1,\n",
    "  's_f'      : 8,\n",
    "  's_a'      : 0}"
   ]
  },
  {
   "cell_type": "markdown",
   "metadata": {},
   "source": [
    "To select the isolist, the wavelength range of the cube is obtained, and a searching from theoretical catalog Splatalogue is performed. All the isotopes that have spectral lines on the range of the cube are determinated."
   ]
  },
  {
   "cell_type": "code",
   "execution_count": 4,
   "metadata": {
    "collapsed": false
   },
   "outputs": [],
   "source": [
    "freq_init = cube_params['freq'] - cube_params['spe_bw']/2.0\n",
    "freq_end = cube_params['freq'] + cube_params['spe_bw']/2.0\n",
    "\n",
    "molist_present = theoretical_presence(molist, freq_init, freq_end)"
   ]
  },
  {
   "cell_type": "markdown",
   "metadata": {},
   "source": [
    "Then, we get all the possible combination sets of the previously determined isotopes."
   ]
  },
  {
   "cell_type": "code",
   "execution_count": 10,
   "metadata": {
    "collapsed": true
   },
   "outputs": [],
   "source": [
    "all_subsets = sum(map(lambda r: list(combinations(molist_present, r)),\n",
    "                                range(1, len(molist_present)+1)), [])"
   ]
  },
  {
   "cell_type": "markdown",
   "metadata": {},
   "source": [
    "Finally, random sets previously determinated are selected in order to generate the data cubes."
   ]
  },
  {
   "cell_type": "code",
   "execution_count": 11,
   "metadata": {
    "collapsed": false
   },
   "outputs": [],
   "source": [
    "random_index = np.random.randint(len(all_subsets), size=25)\n",
    "\n",
    "isolist = []\n",
    "for i in random_index:\n",
    "    isolist.append(all_subsets[i])\n",
    "    \n",
    "save_isolist(isolist)"
   ]
  },
  {
   "cell_type": "code",
   "execution_count": 3,
   "metadata": {
    "collapsed": false
   },
   "outputs": [],
   "source": [
    "isolist = load_isolist()"
   ]
  },
  {
   "cell_type": "markdown",
   "metadata": {},
   "source": [
    "### Generate Datacubes in Band 9, Fixed Width"
   ]
  },
  {
   "cell_type": "code",
   "execution_count": 4,
   "metadata": {
    "collapsed": false,
    "scrolled": false
   },
   "outputs": [
    {
     "name": "stderr",
     "output_type": "stream",
     "text": [
      "WARNING: AstropyDeprecationWarning: The new_table function is deprecated and may be removed in a future version.\n",
      "        Use :meth:`BinTableHDU.from_columns` for new BINARY tables or :meth:`TableHDU.from_columns` for new ASCII tables instead. [packages.asydopy.vu]\n",
      "WARNING:astropy:AstropyDeprecationWarning: The new_table function is deprecated and may be removed in a future version.\n",
      "        Use :meth:`BinTableHDU.from_columns` for new BINARY tables or :meth:`TableHDU.from_columns` for new ASCII tables instead.\n"
     ]
    }
   ],
   "source": [
    "log=open('data/isolist_fixed_width.log', 'w')\n",
    "cube_n = 0\n",
    "cube_name = 'data/cube_fixed_width_'\n",
    "for i in range(0, 25):\n",
    "\n",
    "    # Creation of the cube\n",
    "    gen_cube(isolist[i], cube_params, cube_name + str(cube_n))\n",
    "\n",
    "    log.write(cube_name + ': ' + str(isolist[i]) + '\\n')\n",
    "    cube_n += 1\n",
    "log.close()"
   ]
  },
  {
   "cell_type": "markdown",
   "metadata": {},
   "source": [
    "### Generate Datacubes in Band 9, Variable (TO DO: Fix variable width in ASYDO) Width"
   ]
  },
  {
   "cell_type": "code",
   "execution_count": 9,
   "metadata": {
    "collapsed": false
   },
   "outputs": [],
   "source": [
    "log=open('data/isolist_variable_width.log', 'w')\n",
    "cube_n = 25\n",
    "cube_name = 'data/cube_variable_width_'\n",
    "for i in range(0, 25):\n",
    "\n",
    "    # Creation of the cube\n",
    "    gen_cube_variable_width(isolist[i], cube_params, cube_name + str(cube_n))\n",
    "    \n",
    "    log.write(cube_name + ': ' + str(isolist[i]) + '\\n')\n",
    "    cube_n += 1\n",
    "log.close()"
   ]
  },
  {
   "cell_type": "markdown",
   "metadata": {
    "collapsed": true
   },
   "source": [
    "## Creation of Dictionary\n",
    "\n",
    "We create the words necessary to fit a sparse coding model to the observed spectra in the previous created cube.\n",
    "It returns a DataFrame with a vector for each theoretical line for each isotope in molist"
   ]
  },
  {
   "cell_type": "code",
   "execution_count": null,
   "metadata": {
    "collapsed": true
   },
   "outputs": [],
   "source": [
    "dictionary = gen_words(molist, cube_params)\n",
    "save_dictionary(dictionary, 'band_9')"
   ]
  },
  {
   "cell_type": "code",
   "execution_count": 2,
   "metadata": {
    "collapsed": false
   },
   "outputs": [
    {
     "ename": "NameError",
     "evalue": "name 'cube_params' is not defined",
     "output_type": "error",
     "traceback": [
      "\u001b[1;31m---------------------------------------------------------------------------\u001b[0m",
      "\u001b[1;31mNameError\u001b[0m                                 Traceback (most recent call last)",
      "\u001b[1;32m<ipython-input-2-01c052c45431>\u001b[0m in \u001b[0;36m<module>\u001b[1;34m()\u001b[0m\n\u001b[1;32m----> 1\u001b[1;33m \u001b[0mdictionary\u001b[0m \u001b[1;33m=\u001b[0m \u001b[0mgen_words\u001b[0m\u001b[1;33m(\u001b[0m\u001b[0mmolist\u001b[0m\u001b[1;33m,\u001b[0m \u001b[0mcube_params\u001b[0m\u001b[1;33m,\u001b[0m \u001b[0mTrue\u001b[0m\u001b[1;33m)\u001b[0m\u001b[1;33m\u001b[0m\u001b[0m\n\u001b[0m\u001b[0;32m      2\u001b[0m \u001b[0msave_dictionary\u001b[0m\u001b[1;33m(\u001b[0m\u001b[0mdictionary\u001b[0m\u001b[1;33m,\u001b[0m \u001b[1;34m'band_9_dual'\u001b[0m\u001b[1;33m)\u001b[0m\u001b[1;33m\u001b[0m\u001b[0m\n",
      "\u001b[1;31mNameError\u001b[0m: name 'cube_params' is not defined"
     ]
    }
   ],
   "source": [
    "dictionary = gen_words(molist, cube_params, True)\n",
    "save_dictionary(dictionary, 'band_9_dual')"
   ]
  },
  {
   "cell_type": "code",
   "execution_count": 66,
   "metadata": {
    "collapsed": false
   },
   "outputs": [],
   "source": [
    "dictionary = load_dictionary('band_9')"
   ]
  },
  {
   "cell_type": "code",
   "execution_count": null,
   "metadata": {
    "collapsed": true
   },
   "outputs": [],
   "source": [
    "dictionary = load_dictionary('band_9_dual')"
   ]
  },
  {
   "cell_type": "markdown",
   "metadata": {},
   "source": [
    "## Recalibration of Dictionary"
   ]
  },
  {
   "cell_type": "code",
   "execution_count": null,
   "metadata": {
    "collapsed": true
   },
   "outputs": [],
   "source": [
    "for i in range(0, 50):\n",
    "    if (i = 0)\n",
    "        cube_name = 'data/cube_fixed_width_'\n",
    "    if (i = 25)\n",
    "        cube_name = 'data/cube_variable_width_cube_'\n",
    "        \n",
    "    file_path = cube_name + str(i) + '.fits'\n",
    "    \n",
    "    train_pixel = (1, 1)\n",
    "    dictionary_recal = recal_words(file_path, dictionary, cube_params)\n",
    "    \n",
    "    X = get_values_filtered_normalized(file_path, train_pixel, cube_params)\n",
    "\n",
    "    y_train = get_fortran_array(np.asmatrix(X))\n",
    "    dictionary_recal_fa = np.asfortranarray(dictionary_recal,\n",
    "                                            dtype= np.double)"
   ]
  },
  {
   "cell_type": "markdown",
   "metadata": {},
   "source": [
    "### Training"
   ]
  },
  {
   "cell_type": "code",
   "execution_count": null,
   "metadata": {
    "collapsed": true
   },
   "outputs": [],
   "source": [
    "prediction = []"
   ]
  },
  {
   "cell_type": "code",
   "execution_count": null,
   "metadata": {
    "collapsed": true
   },
   "outputs": [],
   "source": [
    "for i in range(0, 50):\n",
    "    param = {\n",
    "      'lambda1' : 25,\n",
    "      # 'L': 1,\n",
    "      'pos' : True,\n",
    "      'mode' : 0,\n",
    "      'ols' : True,\n",
    "      'numThreads' : -1}\n",
    "    \n",
    "    alpha = spams.lasso(y_train, dictionary_recal_fa, **param).toarray()\n",
    "    total = np.inner(dictionary_recal_fa, alpha.T)\n",
    "    save_prediction(alpha, cube_name + str(i))"
   ]
  },
  {
   "cell_type": "code",
   "execution_count": null,
   "metadata": {
    "collapsed": true
   },
   "outputs": [],
   "source": [
    "for i in range(0, 50):\n",
    "    prediction[i] = load_prediction(cube_name + str(i))"
   ]
  },
  {
   "cell_type": "markdown",
   "metadata": {},
   "source": [
    "### Testing"
   ]
  },
  {
   "cell_type": "code",
   "execution_count": null,
   "metadata": {
    "collapsed": true
   },
   "outputs": [],
   "source": [
    "confusion_matrix = []\n",
    "results = []"
   ]
  },
  {
   "cell_type": "code",
   "execution_count": null,
   "metadata": {
    "collapsed": true
   },
   "outputs": [],
   "source": [
    "for i in range(0, 50):\n",
    "    confusion_matrix[i], results[i] = test(dictionary_recal, alpha, file_path, cube_params)"
   ]
  },
  {
   "cell_type": "code",
   "execution_count": 14,
   "metadata": {
    "collapsed": false,
    "scrolled": true
   },
   "outputs": [
    {
     "data": {
      "text/html": [
       "<div style=\"max-height:1000px;max-width:1500px;overflow:auto;\">\n",
       "<table border=\"1\" class=\"dataframe\">\n",
       "  <thead>\n",
       "    <tr style=\"text-align: right;\">\n",
       "      <th></th>\n",
       "      <th>SO2v2=1-f605781.546</th>\n",
       "      <th>SO2v2=1-f603981.474</th>\n",
       "      <th>H213CO-f602083.584</th>\n",
       "      <th>SO2v2=1-f604315.0048</th>\n",
       "      <th>SO2v2=1-f605984.3296</th>\n",
       "      <th>SO2v2=1-f602454.6493</th>\n",
       "      <th>SO2v2=1-f604398.1207</th>\n",
       "      <th>H2C34S-f605585.4505</th>\n",
       "      <th>H2C34S-f604710.9998</th>\n",
       "      <th>H13CNv=0-f604267.914</th>\n",
       "      <th>H2C34S-f605200.1552</th>\n",
       "      <th>H2C18O-f603231.51</th>\n",
       "      <th>SO2v2=1-f603332.8487</th>\n",
       "      <th>SO2v2=1-f604022.2577</th>\n",
       "      <th>H2C34S-f605935.8198</th>\n",
       "      <th>SO2v2=1-f605850.4063</th>\n",
       "      <th>H213CS-f602149.9892</th>\n",
       "      <th>SO2v2=1-f604728.5953</th>\n",
       "    </tr>\n",
       "  </thead>\n",
       "  <tbody>\n",
       "    <tr>\n",
       "      <th>CH3OHvt=0-f602233.197</th>\n",
       "      <td>0</td>\n",
       "      <td>0</td>\n",
       "      <td>0</td>\n",
       "      <td>0</td>\n",
       "      <td>0</td>\n",
       "      <td>0</td>\n",
       "      <td>0</td>\n",
       "      <td>0</td>\n",
       "      <td>0</td>\n",
       "      <td>0</td>\n",
       "      <td>0</td>\n",
       "      <td>0</td>\n",
       "      <td>0</td>\n",
       "      <td>0</td>\n",
       "      <td>0</td>\n",
       "      <td>0</td>\n",
       "      <td>0</td>\n",
       "      <td>0</td>\n",
       "    </tr>\n",
       "    <tr>\n",
       "      <th>34SO2v=0-f604376.563</th>\n",
       "      <td>0</td>\n",
       "      <td>0</td>\n",
       "      <td>0</td>\n",
       "      <td>0</td>\n",
       "      <td>0</td>\n",
       "      <td>0</td>\n",
       "      <td>0</td>\n",
       "      <td>0</td>\n",
       "      <td>0</td>\n",
       "      <td>0</td>\n",
       "      <td>0</td>\n",
       "      <td>0</td>\n",
       "      <td>0</td>\n",
       "      <td>0</td>\n",
       "      <td>0</td>\n",
       "      <td>0</td>\n",
       "      <td>0</td>\n",
       "      <td>0</td>\n",
       "    </tr>\n",
       "    <tr>\n",
       "      <th>H213CO-f602083.584</th>\n",
       "      <td>0</td>\n",
       "      <td>0</td>\n",
       "      <td>0</td>\n",
       "      <td>0</td>\n",
       "      <td>0</td>\n",
       "      <td>0</td>\n",
       "      <td>0</td>\n",
       "      <td>0</td>\n",
       "      <td>0</td>\n",
       "      <td>0</td>\n",
       "      <td>0</td>\n",
       "      <td>0</td>\n",
       "      <td>0</td>\n",
       "      <td>0</td>\n",
       "      <td>0</td>\n",
       "      <td>0</td>\n",
       "      <td>0</td>\n",
       "      <td>0</td>\n",
       "    </tr>\n",
       "  </tbody>\n",
       "</table>\n",
       "</div>"
      ],
      "text/plain": [
       "                       SO2v2=1-f605781.546  SO2v2=1-f603981.474  \\\n",
       "CH3OHvt=0-f602233.197                    0                    0   \n",
       "34SO2v=0-f604376.563                     0                    0   \n",
       "H213CO-f602083.584                       0                    0   \n",
       "\n",
       "                       H213CO-f602083.584  SO2v2=1-f604315.0048  \\\n",
       "CH3OHvt=0-f602233.197                   0                     0   \n",
       "34SO2v=0-f604376.563                    0                     0   \n",
       "H213CO-f602083.584                      0                     0   \n",
       "\n",
       "                       SO2v2=1-f605984.3296  SO2v2=1-f602454.6493  \\\n",
       "CH3OHvt=0-f602233.197                     0                     0   \n",
       "34SO2v=0-f604376.563                      0                     0   \n",
       "H213CO-f602083.584                        0                     0   \n",
       "\n",
       "                       SO2v2=1-f604398.1207  H2C34S-f605585.4505  \\\n",
       "CH3OHvt=0-f602233.197                     0                    0   \n",
       "34SO2v=0-f604376.563                      0                    0   \n",
       "H213CO-f602083.584                        0                    0   \n",
       "\n",
       "                       H2C34S-f604710.9998  H13CNv=0-f604267.914  \\\n",
       "CH3OHvt=0-f602233.197                    0                     0   \n",
       "34SO2v=0-f604376.563                     0                     0   \n",
       "H213CO-f602083.584                       0                     0   \n",
       "\n",
       "                       H2C34S-f605200.1552  H2C18O-f603231.51  \\\n",
       "CH3OHvt=0-f602233.197                    0                  0   \n",
       "34SO2v=0-f604376.563                     0                  0   \n",
       "H213CO-f602083.584                       0                  0   \n",
       "\n",
       "                       SO2v2=1-f603332.8487  SO2v2=1-f604022.2577  \\\n",
       "CH3OHvt=0-f602233.197                     0                     0   \n",
       "34SO2v=0-f604376.563                      0                     0   \n",
       "H213CO-f602083.584                        0                     0   \n",
       "\n",
       "                       H2C34S-f605935.8198  SO2v2=1-f605850.4063  \\\n",
       "CH3OHvt=0-f602233.197                    0                     0   \n",
       "34SO2v=0-f604376.563                     0                     0   \n",
       "H213CO-f602083.584                       0                     0   \n",
       "\n",
       "                       H213CS-f602149.9892  SO2v2=1-f604728.5953  \n",
       "CH3OHvt=0-f602233.197                    0                     0  \n",
       "34SO2v=0-f604376.563                     0                     0  \n",
       "H213CO-f602083.584                       0                     0  "
      ]
     },
     "execution_count": 14,
     "metadata": {},
     "output_type": "execute_result"
    }
   ],
   "source": [
    "confusion_matrix[0]"
   ]
  },
  {
   "cell_type": "code",
   "execution_count": 13,
   "metadata": {
    "collapsed": false
   },
   "outputs": [
    {
     "data": {
      "text/html": [
       "<div style=\"max-height:1000px;max-width:1500px;overflow:auto;\">\n",
       "<table border=\"1\" class=\"dataframe\">\n",
       "  <thead>\n",
       "    <tr style=\"text-align: right;\">\n",
       "      <th></th>\n",
       "      <th>Precision</th>\n",
       "      <th>Recall</th>\n",
       "      <th>F-Score</th>\n",
       "    </tr>\n",
       "  </thead>\n",
       "  <tbody>\n",
       "    <tr>\n",
       "      <th>SO2v2=1-f605781.546</th>\n",
       "      <td>0</td>\n",
       "      <td>0</td>\n",
       "      <td>0</td>\n",
       "    </tr>\n",
       "    <tr>\n",
       "      <th>SO2v2=1-f603981.474</th>\n",
       "      <td>0</td>\n",
       "      <td>0</td>\n",
       "      <td>0</td>\n",
       "    </tr>\n",
       "    <tr>\n",
       "      <th>H213CO-f602083.584</th>\n",
       "      <td>0</td>\n",
       "      <td>0</td>\n",
       "      <td>0</td>\n",
       "    </tr>\n",
       "    <tr>\n",
       "      <th>SO2v2=1-f604315.0048</th>\n",
       "      <td>0</td>\n",
       "      <td>0</td>\n",
       "      <td>0</td>\n",
       "    </tr>\n",
       "    <tr>\n",
       "      <th>SO2v2=1-f605984.3296</th>\n",
       "      <td>0</td>\n",
       "      <td>0</td>\n",
       "      <td>0</td>\n",
       "    </tr>\n",
       "    <tr>\n",
       "      <th>SO2v2=1-f602454.6493</th>\n",
       "      <td>0</td>\n",
       "      <td>0</td>\n",
       "      <td>0</td>\n",
       "    </tr>\n",
       "    <tr>\n",
       "      <th>SO2v2=1-f604398.1207</th>\n",
       "      <td>0</td>\n",
       "      <td>0</td>\n",
       "      <td>0</td>\n",
       "    </tr>\n",
       "    <tr>\n",
       "      <th>H2C34S-f605585.4505</th>\n",
       "      <td>0</td>\n",
       "      <td>0</td>\n",
       "      <td>0</td>\n",
       "    </tr>\n",
       "    <tr>\n",
       "      <th>H2C34S-f604710.9998</th>\n",
       "      <td>0</td>\n",
       "      <td>0</td>\n",
       "      <td>0</td>\n",
       "    </tr>\n",
       "    <tr>\n",
       "      <th>H13CNv=0-f604267.914</th>\n",
       "      <td>0</td>\n",
       "      <td>0</td>\n",
       "      <td>0</td>\n",
       "    </tr>\n",
       "    <tr>\n",
       "      <th>H2C34S-f605200.1552</th>\n",
       "      <td>0</td>\n",
       "      <td>0</td>\n",
       "      <td>0</td>\n",
       "    </tr>\n",
       "    <tr>\n",
       "      <th>H2C18O-f603231.51</th>\n",
       "      <td>0</td>\n",
       "      <td>0</td>\n",
       "      <td>0</td>\n",
       "    </tr>\n",
       "    <tr>\n",
       "      <th>SO2v2=1-f603332.8487</th>\n",
       "      <td>0</td>\n",
       "      <td>0</td>\n",
       "      <td>0</td>\n",
       "    </tr>\n",
       "    <tr>\n",
       "      <th>SO2v2=1-f604022.2577</th>\n",
       "      <td>0</td>\n",
       "      <td>0</td>\n",
       "      <td>0</td>\n",
       "    </tr>\n",
       "    <tr>\n",
       "      <th>H2C34S-f605935.8198</th>\n",
       "      <td>0</td>\n",
       "      <td>0</td>\n",
       "      <td>0</td>\n",
       "    </tr>\n",
       "    <tr>\n",
       "      <th>SO2v2=1-f605850.4063</th>\n",
       "      <td>0</td>\n",
       "      <td>0</td>\n",
       "      <td>0</td>\n",
       "    </tr>\n",
       "    <tr>\n",
       "      <th>H213CS-f602149.9892</th>\n",
       "      <td>0</td>\n",
       "      <td>0</td>\n",
       "      <td>0</td>\n",
       "    </tr>\n",
       "    <tr>\n",
       "      <th>SO2v2=1-f604728.5953</th>\n",
       "      <td>0</td>\n",
       "      <td>0</td>\n",
       "      <td>0</td>\n",
       "    </tr>\n",
       "  </tbody>\n",
       "</table>\n",
       "</div>"
      ],
      "text/plain": [
       "                      Precision  Recall  F-Score\n",
       "SO2v2=1-f605781.546           0       0        0\n",
       "SO2v2=1-f603981.474           0       0        0\n",
       "H213CO-f602083.584            0       0        0\n",
       "SO2v2=1-f604315.0048          0       0        0\n",
       "SO2v2=1-f605984.3296          0       0        0\n",
       "SO2v2=1-f602454.6493          0       0        0\n",
       "SO2v2=1-f604398.1207          0       0        0\n",
       "H2C34S-f605585.4505           0       0        0\n",
       "H2C34S-f604710.9998           0       0        0\n",
       "H13CNv=0-f604267.914          0       0        0\n",
       "H2C34S-f605200.1552           0       0        0\n",
       "H2C18O-f603231.51             0       0        0\n",
       "SO2v2=1-f603332.8487          0       0        0\n",
       "SO2v2=1-f604022.2577          0       0        0\n",
       "H2C34S-f605935.8198           0       0        0\n",
       "SO2v2=1-f605850.4063          0       0        0\n",
       "H213CS-f602149.9892           0       0        0\n",
       "SO2v2=1-f604728.5953          0       0        0"
      ]
     },
     "execution_count": 13,
     "metadata": {},
     "output_type": "execute_result"
    }
   ],
   "source": [
    "results[0]"
   ]
  },
  {
   "cell_type": "markdown",
   "metadata": {},
   "source": [
    "# Testing Band 7"
   ]
  },
  {
   "cell_type": "markdown",
   "metadata": {},
   "source": [
    "### Generate Datacubes in Band 7, Fixed Width"
   ]
  },
  {
   "cell_type": "code",
   "execution_count": 12,
   "metadata": {
    "collapsed": true
   },
   "outputs": [],
   "source": [
    "cube_params['freq'] = 277000"
   ]
  },
  {
   "cell_type": "code",
   "execution_count": 13,
   "metadata": {
    "collapsed": true
   },
   "outputs": [],
   "source": [
    "log=open('data/isolist_fixed_width.log', 'w')\n",
    "cube_n = 50\n",
    "cube_name = 'data/cube_fixed_width_'\n",
    "for i in range(0, 25):\n",
    "\n",
    "    # Creation of the cube\n",
    "    gen_cube(isolist[i], cube_params, cube_name + str(cube_n))\n",
    "\n",
    "    log.write(cube_name + ': ' + str(isolist[i]) + '\\n')\n",
    "    cube_n += 1\n",
    "log.close()"
   ]
  },
  {
   "cell_type": "markdown",
   "metadata": {},
   "source": [
    "### Generate Datacubes in Band 7, Variable (TO DO: Fix variable width in ASYDO) Width"
   ]
  },
  {
   "cell_type": "code",
   "execution_count": 16,
   "metadata": {
    "collapsed": false
   },
   "outputs": [],
   "source": [
    "log=open('data/isolist_fixed_width.log', 'w')\n",
    "cube_n = 75\n",
    "cube_name = 'data/cube_variable_width_'\n",
    "for i in range(0, 25):\n",
    "\n",
    "    # Creation of the cube\n",
    "    gen_cube_variable_width(isolist[i], cube_params, cube_name + str(cube_n))\n",
    "\n",
    "    log.write(cube_name + ': ' + str(isolist[i]) + '\\n')\n",
    "    cube_n += 1\n",
    "log.close()"
   ]
  },
  {
   "cell_type": "markdown",
   "metadata": {},
   "source": [
    "## Creation of Dictionary"
   ]
  },
  {
   "cell_type": "code",
   "execution_count": 14,
   "metadata": {
    "collapsed": true
   },
   "outputs": [],
   "source": [
    "dictionary = gen_words(molist, cube_params)\n",
    "save_dictionary(dictionary, 'band_7')"
   ]
  },
  {
   "cell_type": "code",
   "execution_count": null,
   "metadata": {
    "collapsed": true
   },
   "outputs": [],
   "source": [
    "dictionary = load_dictionary('band_7')"
   ]
  },
  {
   "cell_type": "markdown",
   "metadata": {},
   "source": [
    "### Recalibration of the Dictionary"
   ]
  },
  {
   "cell_type": "code",
   "execution_count": null,
   "metadata": {
    "collapsed": true
   },
   "outputs": [],
   "source": [
    "for i in range(0, 50):\n",
    "    # #\n",
    "    file_path = cube_name + str(cube_n) + '.fits'\n",
    "    \n",
    "    train_pixel = (1, 1)\n",
    "    dictionary_recal = recal_words(file_path, dictionary, cube_params)\n",
    "    \n",
    "    X = get_values_filtered_normalized(file_path, train_pixel, cube_params)\n",
    "\n",
    "    y_train = get_fortran_array(np.asmatrix(X))\n",
    "    dictionary_recal_fa = np.asfortranarray(dictionary_recal,\n",
    "                                            dtype= np.double)"
   ]
  },
  {
   "cell_type": "markdown",
   "metadata": {},
   "source": [
    "### Training"
   ]
  },
  {
   "cell_type": "code",
   "execution_count": null,
   "metadata": {
    "collapsed": true
   },
   "outputs": [],
   "source": [
    "for i in range(50, 100):\n",
    "    param = {\n",
    "      'lambda1' : 25,\n",
    "      # 'L': 1,\n",
    "      'pos' : True,\n",
    "      'mode' : 0,\n",
    "      'ols' : True,\n",
    "      'numThreads' : -1}\n",
    "    \n",
    "    alpha = spams.lasso(y_train, dictionary_recal_fa, **param).toarray()\n",
    "    total = np.inner(dictionary_recal_fa, alpha.T)\n",
    "    save_prediction(alpha, cube_name + str(cube_n))"
   ]
  },
  {
   "cell_type": "code",
   "execution_count": null,
   "metadata": {
    "collapsed": true
   },
   "outputs": [],
   "source": [
    "for i in range(50, 100):\n",
    "    prediction[i] = save_prediction(alpha, cube_name + str(cube_n))"
   ]
  },
  {
   "cell_type": "markdown",
   "metadata": {},
   "source": [
    "### Testing"
   ]
  },
  {
   "cell_type": "code",
   "execution_count": null,
   "metadata": {
    "collapsed": true
   },
   "outputs": [],
   "source": [
    "results = []\n",
    "for i in range(50, 100):\n",
    "    confusion_matrix[i], results[i] = test(dictionary_recal, alpha, file_path, cube_params)"
   ]
  },
  {
   "cell_type": "code",
   "execution_count": null,
   "metadata": {
    "collapsed": true
   },
   "outputs": [],
   "source": [
    "confusion_matrix[50]"
   ]
  },
  {
   "cell_type": "code",
   "execution_count": null,
   "metadata": {
    "collapsed": true
   },
   "outputs": [],
   "source": [
    "results[50]"
   ]
  },
  {
   "cell_type": "code",
   "execution_count": 2,
   "metadata": {
    "collapsed": true
   },
   "outputs": [],
   "source": [
    "from astropy.io import fits"
   ]
  },
  {
   "cell_type": "code",
   "execution_count": null,
   "metadata": {
    "collapsed": true
   },
   "outputs": [],
   "source": []
  }
 ],
 "metadata": {
  "kernelspec": {
   "display_name": "Python 2",
   "language": "python",
   "name": "python2"
  },
  "language_info": {
   "codemirror_mode": {
    "name": "ipython",
    "version": 2
   },
   "file_extension": ".py",
   "mimetype": "text/x-python",
   "name": "python",
   "nbconvert_exporter": "python",
   "pygments_lexer": "ipython2",
   "version": "2.7.10"
  }
 },
 "nbformat": 4,
 "nbformat_minor": 0
}
