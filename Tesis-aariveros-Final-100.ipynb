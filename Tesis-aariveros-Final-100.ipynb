{
 "cells": [
  {
   "cell_type": "code",
   "execution_count": 3,
   "metadata": {
    "collapsed": false
   },
   "outputs": [
    {
     "name": "stdout",
     "output_type": "stream",
     "text": [
      "Populating the interactive namespace from numpy and matplotlib\n"
     ]
    },
    {
     "name": "stderr",
     "output_type": "stream",
     "text": [
      "WARNING: pylab import has clobbered these variables: ['random']\n",
      "`%matplotlib` prevents importing * from pylab and numpy\n"
     ]
    }
   ],
   "source": [
    "from packages.display.core import *\n",
    "%pylab inline"
   ]
  },
  {
   "cell_type": "code",
   "execution_count": 8,
   "metadata": {
    "collapsed": true
   },
   "outputs": [],
   "source": [
    "%qtconsole"
   ]
  },
  {
   "cell_type": "markdown",
   "metadata": {},
   "source": [
    "# Testing Band 9\n",
    "\n",
    "## Creation of Data Cubes\n",
    "\n",
    "Creation of the Synthetic Data Cubes ALMA-like using ASYDO Project.\n",
    "Parameters:\n",
    "\n",
    " - isolist    : subset of the list of isotopes to generate a cube\n",
    "\n",
    " cube_params:\n",
    "\n",
    " - freq    : spectral center (frequency)\n",
    " - alpha   : right-ascension center (degrees\n",
    " - delta   : declination center (degrees\n",
    " - spe_res : spectral resolution (MHz)\n",
    " - spe_bw  : spectral bandwidth (MHz)\n",
    " - s_f, s_a : skew-normal distrib, s_f: full width at half maximum, alpha: curtosis parameter. "
   ]
  },
  {
   "cell_type": "code",
   "execution_count": 1,
   "metadata": {
    "collapsed": false
   },
   "outputs": [],
   "source": [
    "cube_params = {\n",
    "  'freq'     : 604000,\n",
    "  'alpha'    : 0,\n",
    "  'delta'    : 0,\n",
    "  'spe_bw'   : 4000,\n",
    "  'spe_res'  : 1,\n",
    "  's_f'      : 8,\n",
    "  's_a'      : 0}"
   ]
  },
  {
   "cell_type": "markdown",
   "metadata": {},
   "source": [
    "To select the isolist, the wavelength range of the cube is obtained, and a searching from theoretical catalog Splatalogue is performed. All the isotopes that have spectral lines on the range of the cube are determinated."
   ]
  },
  {
   "cell_type": "code",
   "execution_count": 12,
   "metadata": {
    "collapsed": false
   },
   "outputs": [],
   "source": [
    "freq_init = cube_params['freq'] - cube_params['spe_bw']/2.0\n",
    "freq_end = cube_params['freq'] + cube_params['spe_bw']/2.0\n",
    "\n",
    "molist_present = theoretical_presence(molist, freq_init, freq_end)"
   ]
  },
  {
   "cell_type": "markdown",
   "metadata": {},
   "source": [
    "Then, we get all the possible combination sets of the previously determined isotopes."
   ]
  },
  {
   "cell_type": "code",
   "execution_count": 27,
   "metadata": {
    "collapsed": false,
    "scrolled": true
   },
   "outputs": [
    {
     "ename": "TypeError",
     "evalue": "an integer is required",
     "output_type": "error",
     "traceback": [
      "\u001b[1;31m---------------------------------------------------------------------------\u001b[0m",
      "\u001b[1;31mTypeError\u001b[0m                                 Traceback (most recent call last)",
      "\u001b[1;32m<ipython-input-27-5e7e5b3a6a5e>\u001b[0m in \u001b[0;36m<module>\u001b[1;34m()\u001b[0m\n\u001b[0;32m      1\u001b[0m all_subsets = sum(map(lambda r: list(combinations(molist_present, r)), \n\u001b[1;32m----> 2\u001b[1;33m range(1, len(molist_present)+1)), [])\n\u001b[0m",
      "\u001b[1;32mC:\\Anaconda2\\lib\\site-packages\\numpy\\core\\fromnumeric.pyc\u001b[0m in \u001b[0;36msum\u001b[1;34m(a, axis, dtype, out, keepdims)\u001b[0m\n\u001b[0;32m   1828\u001b[0m         \u001b[1;32mexcept\u001b[0m \u001b[0mAttributeError\u001b[0m\u001b[1;33m:\u001b[0m\u001b[1;33m\u001b[0m\u001b[0m\n\u001b[0;32m   1829\u001b[0m             return _methods._sum(a, axis=axis, dtype=dtype,\n\u001b[1;32m-> 1830\u001b[1;33m                                  out=out, keepdims=keepdims)\n\u001b[0m\u001b[0;32m   1831\u001b[0m         \u001b[1;31m# NOTE: Dropping the keepdims parameters here...\u001b[0m\u001b[1;33m\u001b[0m\u001b[1;33m\u001b[0m\u001b[0m\n\u001b[0;32m   1832\u001b[0m         \u001b[1;32mreturn\u001b[0m \u001b[0msum\u001b[0m\u001b[1;33m(\u001b[0m\u001b[0maxis\u001b[0m\u001b[1;33m=\u001b[0m\u001b[0maxis\u001b[0m\u001b[1;33m,\u001b[0m \u001b[0mdtype\u001b[0m\u001b[1;33m=\u001b[0m\u001b[0mdtype\u001b[0m\u001b[1;33m,\u001b[0m \u001b[0mout\u001b[0m\u001b[1;33m=\u001b[0m\u001b[0mout\u001b[0m\u001b[1;33m)\u001b[0m\u001b[1;33m\u001b[0m\u001b[0m\n",
      "\u001b[1;32mC:\\Anaconda2\\lib\\site-packages\\numpy\\core\\_methods.pyc\u001b[0m in \u001b[0;36m_sum\u001b[1;34m(a, axis, dtype, out, keepdims)\u001b[0m\n\u001b[0;32m     30\u001b[0m \u001b[1;33m\u001b[0m\u001b[0m\n\u001b[0;32m     31\u001b[0m \u001b[1;32mdef\u001b[0m \u001b[0m_sum\u001b[0m\u001b[1;33m(\u001b[0m\u001b[0ma\u001b[0m\u001b[1;33m,\u001b[0m \u001b[0maxis\u001b[0m\u001b[1;33m=\u001b[0m\u001b[0mNone\u001b[0m\u001b[1;33m,\u001b[0m \u001b[0mdtype\u001b[0m\u001b[1;33m=\u001b[0m\u001b[0mNone\u001b[0m\u001b[1;33m,\u001b[0m \u001b[0mout\u001b[0m\u001b[1;33m=\u001b[0m\u001b[0mNone\u001b[0m\u001b[1;33m,\u001b[0m \u001b[0mkeepdims\u001b[0m\u001b[1;33m=\u001b[0m\u001b[0mFalse\u001b[0m\u001b[1;33m)\u001b[0m\u001b[1;33m:\u001b[0m\u001b[1;33m\u001b[0m\u001b[0m\n\u001b[1;32m---> 32\u001b[1;33m     \u001b[1;32mreturn\u001b[0m \u001b[0mumr_sum\u001b[0m\u001b[1;33m(\u001b[0m\u001b[0ma\u001b[0m\u001b[1;33m,\u001b[0m \u001b[0maxis\u001b[0m\u001b[1;33m,\u001b[0m \u001b[0mdtype\u001b[0m\u001b[1;33m,\u001b[0m \u001b[0mout\u001b[0m\u001b[1;33m,\u001b[0m \u001b[0mkeepdims\u001b[0m\u001b[1;33m)\u001b[0m\u001b[1;33m\u001b[0m\u001b[0m\n\u001b[0m\u001b[0;32m     33\u001b[0m \u001b[1;33m\u001b[0m\u001b[0m\n\u001b[0;32m     34\u001b[0m \u001b[1;32mdef\u001b[0m \u001b[0m_prod\u001b[0m\u001b[1;33m(\u001b[0m\u001b[0ma\u001b[0m\u001b[1;33m,\u001b[0m \u001b[0maxis\u001b[0m\u001b[1;33m=\u001b[0m\u001b[0mNone\u001b[0m\u001b[1;33m,\u001b[0m \u001b[0mdtype\u001b[0m\u001b[1;33m=\u001b[0m\u001b[0mNone\u001b[0m\u001b[1;33m,\u001b[0m \u001b[0mout\u001b[0m\u001b[1;33m=\u001b[0m\u001b[0mNone\u001b[0m\u001b[1;33m,\u001b[0m \u001b[0mkeepdims\u001b[0m\u001b[1;33m=\u001b[0m\u001b[0mFalse\u001b[0m\u001b[1;33m)\u001b[0m\u001b[1;33m:\u001b[0m\u001b[1;33m\u001b[0m\u001b[0m\n",
      "\u001b[1;31mTypeError\u001b[0m: an integer is required"
     ]
    }
   ],
   "source": [
    "all_subsets = sum(map(lambda r: list(combinations(molist_present, r)), \n",
    "range(1, len(molist_present)+1)), [])"
   ]
  },
  {
   "cell_type": "markdown",
   "metadata": {},
   "source": [
    "Finally, random sets previously determinated are selected in order to generate the data cubes."
   ]
  },
  {
   "cell_type": "code",
   "execution_count": 7,
   "metadata": {
    "collapsed": false
   },
   "outputs": [],
   "source": [
    "# random_index = np.random.randint(len(all_subsets), size=100)\n",
    "\n",
    "# isolist = []\n",
    "# for i in random_index:\n",
    "#     isolist.append(all_subsets[i])\n",
    "    \n",
    "# save_isolist(isolist)"
   ]
  },
  {
   "cell_type": "code",
   "execution_count": 1,
   "metadata": {
    "collapsed": false
   },
   "outputs": [],
   "source": [
    "#isolist = load_isolist()"
   ]
  },
  {
   "cell_type": "markdown",
   "metadata": {},
   "source": [
    "### Generate Datacubes in Band 9"
   ]
  },
  {
   "cell_type": "code",
   "execution_count": 28,
   "metadata": {
    "collapsed": false,
    "scrolled": false
   },
   "outputs": [
    {
     "name": "stderr",
     "output_type": "stream",
     "text": [
      "WARNING: AstropyDeprecationWarning: The new_table function is deprecated and may be removed in a future version.\n",
      "        Use :meth:`BinTableHDU.from_columns` for new BINARY tables or :meth:`TableHDU.from_columns` for new ASCII tables instead. [astropy.utils.decorators]\n",
      "WARNING:astropy:AstropyDeprecationWarning: The new_table function is deprecated and may be removed in a future version.\n",
      "        Use :meth:`BinTableHDU.from_columns` for new BINARY tables or :meth:`TableHDU.from_columns` for new ASCII tables instead.\n"
     ]
    }
   ],
   "source": [
    "log=open('data/isolist_all.log', 'w')\n",
    "cube_n = 0\n",
    "cube_name = 'data/cube_'\n",
    "for i in range(0, 10):\n",
    "\n",
    "    # Creation of the cube\n",
    "    gen_cube(molist_present, cube_params, cube_name + str(cube_n))\n",
    "    log.write(cube_name + ': ' + str(molist_present) + '\\n')\n",
    "    cube_n += 1\n",
    "log.close()"
   ]
  },
  {
   "cell_type": "markdown",
   "metadata": {
    "collapsed": true
   },
   "source": [
    "## Creation of Dictionary\n",
    "\n",
    "We create the words necessary to fit a sparse coding model to the observed spectra in the previous created cube.\n",
    "It returns a DataFrame with a vector for each theoretical line for each isotope in molist"
   ]
  },
  {
   "cell_type": "code",
   "execution_count": 30,
   "metadata": {
    "collapsed": false
   },
   "outputs": [],
   "source": [
    "dictionary = gen_words(molist_present, cube_params)\n",
    "save_dictionary(dictionary, 'final')"
   ]
  },
  {
   "cell_type": "code",
   "execution_count": 34,
   "metadata": {
    "collapsed": false
   },
   "outputs": [],
   "source": [
    "dictionary = load_dictionary('band_9_dual')"
   ]
  },
  {
   "cell_type": "code",
   "execution_count": 38,
   "metadata": {
    "collapsed": false
   },
   "outputs": [
    {
     "data": {
      "text/plain": [
       "Index([u'CH3OHvt=0-f602233.197', u'CH3OHvt=0-f604903.184',\n",
       "       u'CH3OHvt=0-f605587.005', u'SO2v=0-f604367.4364',\n",
       "       u'SO2v=0-f604406.5377', u'SO2v=0-f604987.346', u'SO2v=0-f605118.5165',\n",
       "       u'SO2v=0-f605532.5228', u'33SO2-f602337.0627&&f602338.0039',\n",
       "       u'33SO2-f602348.9212&&f602349.8184', u'33SO2-f602488.3231',\n",
       "       u'33SO2-f602499.1576', u'33SO2-f603032.3367&&f603032.5397',\n",
       "       u'33SO2-f603036.2959&&f603036.4592',\n",
       "       u'33SO2-f603112.9816&&f603113.1191&&f603113.2126&&f603113.2683',\n",
       "       u'33SO2-f604736.5656&&f604736.767&&f604736.8741&&f604736.8962&&f604736.926&&f604736.9663&&f604736.9892',\n",
       "       u'33SO2-f605162.1267&&f605162.2359&&f605162.3107&&f605162.3529',\n",
       "       u'33SO2-f605357.5302',\n",
       "       u'33SO2-f605366.9145&&f605367.499&&f605367.499&&f605367.499&&f605367.499',\n",
       "       u'33SO2-f605377.1052', u'34SO2v=0-f602629.7294',\n",
       "       u'34SO2v=0-f602815.8891', u'34SO2v=0-f603267.8807',\n",
       "       u'34SO2v=0-f603928.816', u'34SO2v=0-f604080.004',\n",
       "       u'34SO2v=0-f604376.563', u'34SO2v=0-f604504.0028',\n",
       "       u'34SO2v=0-f605440.428', u'34SO2v=0-f605499.8855',\n",
       "       u'34SO2v=0-f605890.93', u'34SO2v=0-f605924.403',\n",
       "       u'SO2v2=1-f602454.6493', u'SO2v2=1-f603332.8487',\n",
       "       u'SO2v2=1-f603981.474', u'SO2v2=1-f604022.2577',\n",
       "       u'SO2v2=1-f604315.0048', u'SO2v2=1-f604398.1207',\n",
       "       u'SO2v2=1-f604728.5953', u'SO2v2=1-f605781.546',\n",
       "       u'SO2v2=1-f605850.4063', u'SO2v2=1-f605984.3296',\n",
       "       u'OS18O-f602281.8842&&f602281.8842', u'OS18O-f602313.3835',\n",
       "       u'OS18O-f602454.8308', u'OS18O-f602841.4703', u'OS18O-f602894.7504',\n",
       "       u'OS18O-f603090.155', u'OS18O-f603331.9213', u'OS18O-f603608.7849',\n",
       "       u'OS18O-f604295.149', u'OS18O-f605850.3965',\n",
       "       u'OS17O-f603060.5049&&f603060.5049',\n",
       "       u'OS17O-f603105.7123&&f603106.5013', u'OS17O-f604501.9322',\n",
       "       u'OS17O-f604606.0077', u'OS17O-f605172.0102&&f605172.0102',\n",
       "       u'OS17O-f605240.925', u'OS17O-f605724.232', u'HC15Nv=0-f602274.1332',\n",
       "       u'H13CNv2=1-f604090.544', u'H13CNv=0-f604267.914',\n",
       "       u'H213CS-f602149.9892', u'H2C34S-f604710.9998',\n",
       "       u'H2C34S-f605200.1552&&f605200.1552',\n",
       "       u'H2C34S-f605585.4505&&f605585.4505',\n",
       "       u'H2C34S-f605935.8198&&f605935.8198', u'H2C18O-f603231.51',\n",
       "       u'H213CO-f602083.584'],\n",
       "      dtype='object')"
      ]
     },
     "execution_count": 38,
     "metadata": {},
     "output_type": "execute_result"
    }
   ],
   "source": [
    "dictionary.columns"
   ]
  },
  {
   "cell_type": "markdown",
   "metadata": {},
   "source": [
    "## Recalibration of Dictionary"
   ]
  },
  {
   "cell_type": "code",
   "execution_count": 17,
   "metadata": {
    "collapsed": true
   },
   "outputs": [],
   "source": [
    "confusion_matrix = []\n",
    "results = []"
   ]
  },
  {
   "cell_type": "code",
   "execution_count": 18,
   "metadata": {
    "collapsed": false
   },
   "outputs": [
    {
     "name": "stdout",
     "output_type": "stream",
     "text": [
      "0\n"
     ]
    },
    {
     "name": "stderr",
     "output_type": "stream",
     "text": [
      "C:\\Anaconda2\\lib\\site-packages\\spams.py:424: FutureWarning: comparison to `None` will result in an elementwise object comparison in the future.\n",
      "  if D == None:\n"
     ]
    }
   ],
   "source": [
    "for i in range(0, 1):\n",
    "    file_path = 'data/cube_' + str(i) + '.fits'\n",
    "    \n",
    "    train_pixel = (1, 1)\n",
    "    dictionary_recal, detected_peaks = recal_words(file_path, dictionary, cube_params, 100)\n",
    "    \n",
    "    X = get_values_filtered_normalized(file_path, train_pixel, cube_params)\n",
    "\n",
    "    y_train = get_fortran_array(np.asmatrix(X))\n",
    "    dictionary_recal_fa = np.asfortranarray(dictionary_recal,\n",
    "                                            dtype= np.double)\n",
    "    \n",
    "    lambda_param = 0\n",
    "    for idx in range(0, len(detected_peaks)):\n",
    "        if detected_peaks[idx] != 0:\n",
    "            lambda_param += 1\n",
    "    \n",
    "    param = {\n",
    "      'lambda1' : lambda_param,\n",
    "      # 'L': 1,\n",
    "      'pos' : True,\n",
    "      'mode' : 0,\n",
    "      'ols' : True,\n",
    "      'numThreads' : -1}\n",
    "    \n",
    "    alpha = spams.lasso(y_train, dictionary_recal_fa, **param).toarray()\n",
    "    total = np.inner(dictionary_recal_fa, alpha.T)\n",
    "    \n",
    "    if i == 0:\n",
    "        confusion_matrix = [get_confusion_matrix(dictionary_recal, alpha,\n",
    "                                   file_path, cube_params, True)]\n",
    "        results = [get_results(confusion_matrix[i])]\n",
    "    else:\n",
    "        confusion_matrix.append(get_confusion_matrix(dictionary_recal, alpha,\n",
    "                                               file_path, cube_params, True))\n",
    "        results.append(get_results(confusion_matrix[i]))\n",
    "    print(i)"
   ]
  },
  {
   "cell_type": "markdown",
   "metadata": {},
   "source": [
    "## Creation of Dictionary"
   ]
  },
  {
   "cell_type": "markdown",
   "metadata": {},
   "source": [
    "### Training"
   ]
  },
  {
   "cell_type": "markdown",
   "metadata": {},
   "source": [
    "### Recalibration of the Dictionary"
   ]
  },
  {
   "cell_type": "markdown",
   "metadata": {},
   "source": [
    "### Testing"
   ]
  },
  {
   "cell_type": "code",
   "execution_count": 19,
   "metadata": {
    "collapsed": false
   },
   "outputs": [
    {
     "name": "stderr",
     "output_type": "stream",
     "text": [
      "C:\\Anaconda2\\lib\\site-packages\\matplotlib\\axes\\_axes.py:519: UserWarning: No labelled objects found. Use label='...' kwarg on individual plots.\n",
      "  warnings.warn(\"No labelled objects found. \"\n"
     ]
    },
    {
     "data": {
      "image/png": "[encoded data removed]",
      "text/plain": [
       "<matplotlib.figure.Figure at 0xc904c18>"
      ]
     },
     "metadata": {},
     "output_type": "display_data"
    },
    {
     "data": {
      "image/png": "[encoded data removed]",
      "text/plain": [
       "<matplotlib.figure.Figure at 0x21ed438>"
      ]
     },
     "metadata": {},
     "output_type": "display_data"
    },
    {
     "data": {
      "image/png": "[encoded data removed]",
      "text/plain": [
       "<matplotlib.figure.Figure at 0xcb4b0f0>"
      ]
     },
     "metadata": {},
     "output_type": "display_data"
    }
   ],
   "source": [
    "plt.title(\"Precision of Predictions for Fixed Width\")\n",
    "plt.xlabel(\"Precision\")\n",
    "plt.ylabel(\"Amount\")\n",
    "plt.legend()\n",
    "plt.hist([np.mean(means[\"Precision\"]) for means in results[:25]], 25, normed=True, color='b', alpha=1, label='Band 9')\n",
    "plt.hist([np.mean(means[\"Precision\"]) for means in results[50:75]], 25, normed=True, color='r', alpha=0.5, label='Band 7')\n",
    "plt.show()\n",
    "\n",
    "plt.title(\"Recall of Predictions for Fixed Width\")\n",
    "plt.xlabel(\"Recall\")\n",
    "plt.ylabel(\"Amount\")\n",
    "plt.legend()\n",
    "plt.hist([np.mean(means[\"Recall\"]) for means in results[:25]], 25, normed=True, color='b', alpha=1, label='Band 9')\n",
    "plt.hist([np.mean(means[\"Recall\"]) for means in results[50:75]], 25, normed=True, color='r', alpha=0.5, label='Band 7')\n",
    "plt.show()\n",
    "\n",
    "plt.title(\"F-Score of Predictions for Fixed Width\")\n",
    "plt.xlabel(\"F-Score\")\n",
    "plt.ylabel(\"Amount\")\n",
    "plt.legend()\n",
    "plt.hist([np.mean(means[\"F-Score\"]) for means in results[:25]], 25, normed=True, color='b', alpha=1, label='Band 9')\n",
    "plt.hist([np.mean(means[\"F-Score\"]) for means in results[50:75]], 25, normed=True, color='r', alpha=0.5, label='Band 7')\n",
    "plt.show()"
   ]
  },
  {
   "cell_type": "markdown",
   "metadata": {},
   "source": [
    "Blending case"
   ]
  },
  {
   "cell_type": "markdown",
   "metadata": {},
   "source": [
    "Hyperfine lines case"
   ]
  },
  {
   "cell_type": "markdown",
   "metadata": {},
   "source": [
    "Double peaks for single Line"
   ]
  },
  {
   "cell_type": "code",
   "execution_count": null,
   "metadata": {
    "collapsed": false
   },
   "outputs": [],
   "source": [
    "np.mean([np.mean(means[\"F-Score\"]) for means in results])"
   ]
  },
  {
   "cell_type": "code",
   "execution_count": 32,
   "metadata": {
    "collapsed": true
   },
   "outputs": [],
   "source": [
    "min_distance_req_list = pd.DataFrame([])\n",
    "for i in range(0, 100):\n",
    "    if (i == 0 or i == 50):\n",
    "        cube_name = 'data/cube_fixed_width_'\n",
    "    if (i == 25 or i == 75):\n",
    "        cube_name = 'data/cube_variable_width_'\n",
    "        \n",
    "    file_path = cube_name + str(i) + '.fits'\n",
    "    lines = get_lines_from_fits(file_path)\n",
    "       \n",
    "    sorted_lines = sorted([lines[idx][1] for idx in range(0, len(lines) )])\n",
    "    min_distance_req = True\n",
    "    \n",
    "    last_freq = float(sorted_lines[0])\n",
    "    for idx in  range(1, len(sorted_lines)):\n",
    "        distance = float(sorted_lines[idx]) - last_freq\n",
    "        if(distance < 2):\n",
    "            min_distance_req = False\n",
    "            break\n",
    "        last_freq = float(sorted_lines[idx])\n",
    "    \n",
    "    if len(min_distance_req_list) == 0:\n",
    "        if (min_distance_req):\n",
    "            min_distance_req_list = [i]\n",
    "    else:\n",
    "        if (min_distance_req):\n",
    "            min_distance_req_list.append(i)"
   ]
  },
  {
   "cell_type": "code",
   "execution_count": 33,
   "metadata": {
    "collapsed": false
   },
   "outputs": [
    {
     "data": {
      "text/plain": [
       "[0,\n",
       " 1,\n",
       " 3,\n",
       " 5,\n",
       " 7,\n",
       " 11,\n",
       " 12,\n",
       " 14,\n",
       " 16,\n",
       " 17,\n",
       " 18,\n",
       " 20,\n",
       " 21,\n",
       " 30,\n",
       " 32,\n",
       " 33,\n",
       " 35,\n",
       " 36,\n",
       " 37,\n",
       " 39,\n",
       " 41,\n",
       " 42,\n",
       " 43,\n",
       " 45,\n",
       " 46,\n",
       " 47,\n",
       " 49,\n",
       " 50,\n",
       " 54,\n",
       " 55,\n",
       " 61,\n",
       " 62,\n",
       " 64,\n",
       " 66,\n",
       " 67,\n",
       " 68,\n",
       " 70,\n",
       " 75,\n",
       " 79,\n",
       " 80,\n",
       " 86,\n",
       " 87,\n",
       " 89,\n",
       " 91,\n",
       " 92,\n",
       " 95]"
      ]
     },
     "execution_count": 33,
     "metadata": {},
     "output_type": "execute_result"
    }
   ],
   "source": [
    "min_distance_req_list\n"
   ]
  },
  {
   "cell_type": "code",
   "execution_count": 34,
   "metadata": {
    "collapsed": true
   },
   "outputs": [],
   "source": [
    "results_filtered = [results[min_distance_req_list[0]]]\n",
    "for ix in min_distance_req_list[1:]:\n",
    "    results_filtered.append(results[ix])"
   ]
  },
  {
   "cell_type": "code",
   "execution_count": 36,
   "metadata": {
    "collapsed": false
   },
   "outputs": [
    {
     "data": {
      "text/plain": [
       "0.87342231171537399"
      ]
     },
     "execution_count": 36,
     "metadata": {},
     "output_type": "execute_result"
    }
   ],
   "source": [
    "np.mean([np.mean(means[\"F-Score\"]) for means in results_filtered])"
   ]
  },
  {
   "cell_type": "code",
   "execution_count": 37,
   "metadata": {
    "collapsed": false
   },
   "outputs": [
    {
     "data": {
      "text/plain": [
       "[0.86540861385917045,\n",
       " 1.0,\n",
       " 0.6548340401780971,\n",
       " 1.0,\n",
       " 0.67075802554111441,\n",
       " 0.79728854608279098,\n",
       " 0.67702392054617744,\n",
       " 0.79590186093299575,\n",
       " 0.70580697240019696,\n",
       " 0.85664394048292103,\n",
       " 0.73077735528386778,\n",
       " 0.81965678337271664,\n",
       " 0.87434285861082972,\n",
       " 0.64907996021424208,\n",
       " 0.90969423511353664,\n",
       " 0.66774916982588861,\n",
       " 0.88587904035430387,\n",
       " 0.88102051795675962,\n",
       " 1.0,\n",
       " 0.61050568486176771,\n",
       " 1.0,\n",
       " 0.94664464528941039,\n",
       " 0.72591011649789217,\n",
       " 0.63103379232362822,\n",
       " 0.89421352533016429,\n",
       " 0.8673263003329782,\n",
       " 0.60675134060565339,\n",
       " 0.64916477204572542,\n",
       " 0.89787735235745314,\n",
       " 0.58712977350409457,\n",
       " 0.78170822480936397,\n",
       " 0.60121711072009487,\n",
       " 0.73345884899990976,\n",
       " 0.89999604531394772,\n",
       " 0.60433170408825088,\n",
       " 0.88427577126332879,\n",
       " 0.95258764832009002,\n",
       " 0.88275307631105959,\n",
       " 0.60309945356254735,\n",
       " 0.7884096219907365,\n",
       " 0.57988273389083889,\n",
       " 0.8306026375330442,\n",
       " 0.78492860788015428,\n",
       " 0.84347030899878639,\n",
       " 0.58905963936197403,\n",
       " 0.8447628925351014,\n",
       " 0.99323557066029811,\n",
       " 0.84349886967646193,\n",
       " 0.90154287333824068,\n",
       " 0.7408361553565741,\n",
       " 0.84136342281597121,\n",
       " 0.84682561586470162,\n",
       " 0.82747300629187459,\n",
       " 0.74818258054476061,\n",
       " 0.78269131633789779,\n",
       " 0.90097623083609579,\n",
       " 0.89523524865400417,\n",
       " 0.84025736565304532,\n",
       " 0.81824785792242305,\n",
       " 0.87690542633590329,\n",
       " 0.74953531921908101,\n",
       " 0.93966756572192589,\n",
       " 0.9427725701619013,\n",
       " 0.93137289336292239,\n",
       " 0.83510667027745067,\n",
       " 0.8603507737776076,\n",
       " 0.85831497682145308,\n",
       " 0.93071336612874844,\n",
       " 0.91037751932236166,\n",
       " 0.92096485626235225,\n",
       " 0.90604992011571239,\n",
       " 0.75736548561377448,\n",
       " 0.8119714507202962,\n",
       " 0.88744730375360859,\n",
       " 0.75212947403832997,\n",
       " 0.92140262255327987,\n",
       " 0.84136342281597121,\n",
       " 0.78836476606839956,\n",
       " 0.77996817505710114,\n",
       " 0.74528716249318394,\n",
       " 0.94651612633089799,\n",
       " 0.89277255124256916,\n",
       " 0.86110476324175811,\n",
       " 0.84808461175406369,\n",
       " 0.85050267696932369,\n",
       " 0.82595793740620072,\n",
       " 0.90117647610828333,\n",
       " 0.86297843525404305,\n",
       " 0.88330465966392802,\n",
       " 0.85225852950938608,\n",
       " 0.83705515280882492,\n",
       " 0.76651413755389963,\n",
       " 0.8518921360527415,\n",
       " 0.92089719432257844,\n",
       " 0.83150492021335642,\n",
       " 0.90100577329060016,\n",
       " 0.79243154438061525,\n",
       " 0.91055610713666912,\n",
       " 0.88700676592602645,\n",
       " 0.74268245588458381]"
      ]
     },
     "execution_count": 37,
     "metadata": {},
     "output_type": "execute_result"
    }
   ],
   "source": [
    "[np.mean(means[\"F-Score\"]) for means in results]"
   ]
  }
 ],
 "metadata": {
  "kernelspec": {
   "display_name": "Python 2",
   "language": "python",
   "name": "python2"
  },
  "language_info": {
   "codemirror_mode": {
    "name": "ipython",
    "version": 2
   },
   "file_extension": ".py",
   "mimetype": "text/x-python",
   "name": "python",
   "nbconvert_exporter": "python",
   "pygments_lexer": "ipython2",
   "version": "2.7.12"
  }
 },
 "nbformat": 4,
 "nbformat_minor": 0
}
