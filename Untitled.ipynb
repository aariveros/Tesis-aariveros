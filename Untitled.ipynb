{
 "cells": [
  {
   "cell_type": "code",
   "execution_count": 10,
   "metadata": {
    "collapsed": false
   },
   "outputs": [
    {
     "data": {
      "text/plain": [
       "array([ 0.44444444,  0.43396226,  0.44230769,  0.45098039,  0.44      ,\n",
       "        0.42857143,  0.41666667,  0.42553191,  0.43478261,  0.44444444,\n",
       "        0.45454545,  0.46511628,  0.47619048,  0.46341463,  0.475     ,\n",
       "        0.48717949,  0.47368421,  0.48648649,  0.47222222,  0.45714286,\n",
       "        0.47058824,  0.45454545,  0.46875   ,  0.48387097,  0.5       ,\n",
       "        0.48275862,  0.5       ,  0.51851852,  0.5       ,  0.52      ,\n",
       "        0.54166667,  0.56521739,  0.59090909,  0.57142857,  0.6       ,\n",
       "        0.57894737,  0.61111111,  0.58823529,  0.625     ,  0.66666667,\n",
       "        0.64285714,  0.69230769,  0.75      ,  0.72727273,  0.7       ,\n",
       "        0.66666667,  0.625     ,  0.71428571,  0.66666667,  0.8       ,\n",
       "        0.75      ,  0.66666667,  1.        ,  1.        ,  1.        ])"
      ]
     },
     "execution_count": 10,
     "metadata": {},
     "output_type": "execute_result"
    }
   ],
   "source": [
    "precision[i]\n"
   ]
  }
 ],
 "metadata": {
  "kernelspec": {
   "display_name": "Python 2",
   "language": "python",
   "name": "python2"
  },
  "language_info": {
   "codemirror_mode": {
    "name": "ipython",
    "version": 2
   },
   "file_extension": ".py",
   "mimetype": "text/x-python",
   "name": "python",
   "nbconvert_exporter": "python",
   "pygments_lexer": "ipython2",
   "version": "2.7.10"
  }
 },
 "nbformat": 4,
 "nbformat_minor": 0
}
