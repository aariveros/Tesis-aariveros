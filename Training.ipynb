{
 "cells": [
  {
   "cell_type": "code",
   "execution_count": 1,
   "metadata": {
    "collapsed": false
   },
   "outputs": [
    {
     "name": "stdout",
     "output_type": "stream",
     "text": [
      "Populating the interactive namespace from numpy and matplotlib\n"
     ]
    },
    {
     "name": "stderr",
     "output_type": "stream",
     "text": [
      "WARNING: pylab import has clobbered these variables: ['random']\n",
      "`%matplotlib` prevents importing * from pylab and numpy\n"
     ]
    }
   ],
   "source": [
    "from packages.display.core import *\n",
    "%pylab inline\n",
    "pylab.rcParams['figure.figsize'] = (200, 5)"
   ]
  },
  {
   "cell_type": "code",
   "execution_count": 31,
   "metadata": {
    "collapsed": true
   },
   "outputs": [],
   "source": [
    "%qtconsole"
   ]
  },
  {
   "cell_type": "code",
   "execution_count": 3,
   "metadata": {
    "collapsed": true
   },
   "outputs": [],
   "source": [
    "cube_params = {\n",
    "  'alpha'    : 0,\n",
    "  'delta'    : 0,\n",
    "  'spe_bw'   : 4000,\n",
    "  'spe_res'  : 1,\n",
    "  's_f'      : 8,\n",
    "  's_a'      : 1}"
   ]
  },
  {
   "cell_type": "code",
   "execution_count": 4,
   "metadata": {
    "collapsed": true
   },
   "outputs": [],
   "source": [
    "freq_range = np.arange(604000, 718000, 4000)\n",
    "\n",
    "dbpath = 'ASYDO'\n",
    "dba = packages.asydopy.db.lineDB(dbpath)\n",
    "dba.connect()\n",
    "\n",
    "cube_name = 'data/cube_'\n",
    "\n",
    "confusion_matrix = []\n",
    "results = []"
   ]
  },
  {
   "cell_type": "code",
   "execution_count": 21,
   "metadata": {
    "collapsed": false
   },
   "outputs": [
    {
     "ename": "IndexError",
     "evalue": "list index out of range",
     "output_type": "error",
     "traceback": [
      "\u001b[1;31m---------------------------------------------------------------------------\u001b[0m",
      "\u001b[1;31mIndexError\u001b[0m                                Traceback (most recent call last)",
      "\u001b[1;32m<ipython-input-21-2af2589c9a97>\u001b[0m in \u001b[0;36m<module>\u001b[1;34m()\u001b[0m\n\u001b[0;32m     52\u001b[0m         confusion_matrix.append(get_confusion_matrix(dictionary_recal, alpha,\n\u001b[0;32m     53\u001b[0m                                                cube_path, cube_params, True))\n\u001b[1;32m---> 54\u001b[1;33m         \u001b[0mresults\u001b[0m\u001b[1;33m.\u001b[0m\u001b[0mappend\u001b[0m\u001b[1;33m(\u001b[0m\u001b[0mget_results\u001b[0m\u001b[1;33m(\u001b[0m\u001b[0mconfusion_matrix\u001b[0m\u001b[1;33m[\u001b[0m\u001b[0mi\u001b[0m\u001b[1;33m]\u001b[0m\u001b[1;33m)\u001b[0m\u001b[1;33m)\u001b[0m\u001b[1;33m\u001b[0m\u001b[0m\n\u001b[0m\u001b[0;32m     55\u001b[0m     \u001b[1;32mprint\u001b[0m\u001b[1;33m(\u001b[0m\u001b[0mi\u001b[0m\u001b[1;33m)\u001b[0m\u001b[1;33m\u001b[0m\u001b[0m\n\u001b[0;32m     56\u001b[0m \u001b[1;33m\u001b[0m\u001b[0m\n",
      "\u001b[1;31mIndexError\u001b[0m: list index out of range"
     ]
    }
   ],
   "source": [
    "for i in [28]:\n",
    "    f = freq_range[i]\n",
    "    freq_init = f - 2000\n",
    "    freq_end = f + 2000\n",
    "    cube_params['freq'] = f\n",
    "    \n",
    "    file_path = \" \" + str(freq_init) + \" - \" + str(freq_end)\n",
    "    \n",
    "    dictionary = load_dictionary(file_path)\n",
    "    \n",
    "    cube_path = 'data/cube_' + file_path + '.fits'\n",
    "    train_pixel = (1, 1)\n",
    "    \n",
    "    dictionary_recal, detected_peaks = recal_words(cube_path, dictionary, cube_params, 100)\n",
    "    \n",
    "    X = get_values_filtered_normalized(cube_path, train_pixel, cube_params)\n",
    "\n",
    "    y_train = get_fortran_array(np.asmatrix(X))\n",
    "    dictionary_recal_fa = np.asfortranarray(dictionary_recal,\n",
    "                                            dtype= np.double)\n",
    "    \n",
    "    lambda_param = 0\n",
    "    for idx in range(0, len(detected_peaks)):\n",
    "        if detected_peaks[idx] != 0:\n",
    "            lambda_param += 1\n",
    "    \n",
    "    param = {\n",
    "      'lambda1' : lambda_param,\n",
    "      # 'L': 1,\n",
    "      'pos' : True,\n",
    "      'mode' : 0,\n",
    "      'ols' : True,\n",
    "      'numThreads' : -1}\n",
    "    \n",
    "    alpha = spams.lasso(y_train, dictionary_recal_fa, **param).toarray()\n",
    "    total = np.inner(dictionary_recal_fa, alpha.T)\n",
    "    \n",
    "    if i == 0:\n",
    "        confusion_matrix = [get_confusion_matrix(dictionary_recal, alpha,\n",
    "                                   cube_path, cube_params, True)]\n",
    "        results = [get_results(confusion_matrix[i])]\n",
    "    else:\n",
    "        confusion_matrix.append(get_confusion_matrix(dictionary_recal, alpha,\n",
    "                                               cube_path, cube_params, True))\n",
    "        results.append(get_results(confusion_matrix[i]))\n",
    "    print(i)\n",
    "    \n"
   ]
  },
  {
   "cell_type": "code",
   "execution_count": null,
   "metadata": {
    "collapsed": false
   },
   "outputs": [],
   "source": [
    "np.mean([np.mean(means[\"F-Score\"]) for means in results])"
   ]
  },
  {
   "cell_type": "code",
   "execution_count": null,
   "metadata": {
    "collapsed": true
   },
   "outputs": [],
   "source": []
  }
 ],
 "metadata": {
  "kernelspec": {
   "display_name": "Python 2",
   "language": "python",
   "name": "python2"
  },
  "language_info": {
   "codemirror_mode": {
    "name": "ipython",
    "version": 2
   },
   "file_extension": ".py",
   "mimetype": "text/x-python",
   "name": "python",
   "nbconvert_exporter": "python",
   "pygments_lexer": "ipython2",
   "version": "2.7.12"
  }
 },
 "nbformat": 4,
 "nbformat_minor": 0
}
