{
 "cells": [
  {
   "cell_type": "code",
   "execution_count": 1,
   "metadata": {
    "collapsed": false
   },
   "outputs": [],
   "source": [
    "from packages.display.core import *"
   ]
  },
  {
   "cell_type": "code",
   "execution_count": 2,
   "metadata": {
    "collapsed": true
   },
   "outputs": [],
   "source": [
    "%qtconsole"
   ]
  },
  {
   "cell_type": "markdown",
   "metadata": {},
   "source": [
    "# Testing Band 9\n",
    "\n",
    "## Creation of Data Cubes\n",
    "\n",
    "Creation of the Synthetic Data Cubes ALMA-like using ASYDO Project.\n",
    "Parameters:\n",
    "\n",
    " - isolist    : subset of the list of isotopes to generate a cube\n",
    "\n",
    " cube_params:\n",
    "\n",
    " - freq    : spectral center (frequency)\n",
    " - alpha   : right-ascension center (degrees\n",
    " - delta   : declination center (degrees\n",
    " - spe_res : spectral resolution (MHz)\n",
    " - spe_bw  : spectral bandwidth (MHz)\n",
    " - s_f, s_a : skew-normal distrib, s_f: full width at half maximum, alpha: curtosis parameter. "
   ]
  },
  {
   "cell_type": "code",
   "execution_count": 2,
   "metadata": {
    "collapsed": false
   },
   "outputs": [],
   "source": [
    "cube_params = {\n",
    "  'freq'     : 604000,\n",
    "  'alpha'    : 0,\n",
    "  'delta'    : 0,\n",
    "  'spe_bw'   : 4000,\n",
    "  'spe_res'  : 1,\n",
    "  's_f'      : 8,\n",
    "  's_a'      : 0}"
   ]
  },
  {
   "cell_type": "markdown",
   "metadata": {},
   "source": [
    "To select the isolist, the wavelength range of the cube is obtained, and a searching from theoretical catalog Splatalogue is performed. All the isotopes that have spectral lines on the range of the cube are determinated."
   ]
  },
  {
   "cell_type": "code",
   "execution_count": 4,
   "metadata": {
    "collapsed": false
   },
   "outputs": [],
   "source": [
    "freq_init = cube_params['freq'] - cube_params['spe_bw']/2.0\n",
    "freq_end = cube_params['freq'] + cube_params['spe_bw']/2.0\n",
    "\n",
    "molist_present = theoretical_presence(molist, freq_init, freq_end)"
   ]
  },
  {
   "cell_type": "markdown",
   "metadata": {},
   "source": [
    "Then, we get all the possible combination sets of the previously determined isotopes."
   ]
  },
  {
   "cell_type": "code",
   "execution_count": 10,
   "metadata": {
    "collapsed": true
   },
   "outputs": [],
   "source": [
    "all_subsets = sum(map(lambda r: list(combinations(molist_present, r)),\n",
    "                                range(1, len(molist_present)+1)), [])"
   ]
  },
  {
   "cell_type": "markdown",
   "metadata": {},
   "source": [
    "Finally, random sets previously determinated are selected in order to generate the data cubes."
   ]
  },
  {
   "cell_type": "code",
   "execution_count": 11,
   "metadata": {
    "collapsed": false
   },
   "outputs": [],
   "source": [
    "random_index = np.random.randint(len(all_subsets), size=25)\n",
    "\n",
    "isolist = []\n",
    "for i in random_index:\n",
    "    isolist.append(all_subsets[i])\n",
    "    \n",
    "save_isolist(isolist)"
   ]
  },
  {
   "cell_type": "code",
   "execution_count": 3,
   "metadata": {
    "collapsed": false
   },
   "outputs": [],
   "source": [
    "isolist = load_isolist()"
   ]
  },
  {
   "cell_type": "markdown",
   "metadata": {},
   "source": [
    "### Generate Datacubes in Band 9, Fixed Width"
   ]
  },
  {
   "cell_type": "code",
   "execution_count": 4,
   "metadata": {
    "collapsed": false,
    "scrolled": false
   },
   "outputs": [
    {
     "name": "stderr",
     "output_type": "stream",
     "text": [
      "WARNING: AstropyDeprecationWarning: The new_table function is deprecated and may be removed in a future version.\n",
      "        Use :meth:`BinTableHDU.from_columns` for new BINARY tables or :meth:`TableHDU.from_columns` for new ASCII tables instead. [packages.asydopy.vu]\n",
      "WARNING:astropy:AstropyDeprecationWarning: The new_table function is deprecated and may be removed in a future version.\n",
      "        Use :meth:`BinTableHDU.from_columns` for new BINARY tables or :meth:`TableHDU.from_columns` for new ASCII tables instead.\n"
     ]
    }
   ],
   "source": [
    "log=open('data/isolist_fixed_width.log', 'w')\n",
    "cube_n = 0\n",
    "cube_name = 'data/cube_fixed_width_'\n",
    "for i in range(0, 25):\n",
    "\n",
    "    # Creation of the cube\n",
    "    gen_cube(isolist[i], cube_params, cube_name + str(cube_n))\n",
    "\n",
    "    log.write(cube_name + ': ' + str(isolist[i]) + '\\n')\n",
    "    cube_n += 1\n",
    "log.close()"
   ]
  },
  {
   "cell_type": "markdown",
   "metadata": {},
   "source": [
    "### Generate Datacubes in Band 9, Variable (TO DO: Fix variable width in ASYDO) Width"
   ]
  },
  {
   "cell_type": "code",
   "execution_count": 9,
   "metadata": {
    "collapsed": false
   },
   "outputs": [],
   "source": [
    "log=open('data/isolist_variable_width.log', 'w')\n",
    "cube_n = 25\n",
    "cube_name = 'data/cube_variable_width_'\n",
    "for i in range(0, 25):\n",
    "\n",
    "    # Creation of the cube\n",
    "    gen_cube_variable_width(isolist[i], cube_params, cube_name + str(cube_n))\n",
    "    \n",
    "    log.write(cube_name + ': ' + str(isolist[i]) + '\\n')\n",
    "    cube_n += 1\n",
    "log.close()"
   ]
  },
  {
   "cell_type": "markdown",
   "metadata": {
    "collapsed": true
   },
   "source": [
    "## Creation of Dictionary\n",
    "\n",
    "We create the words necessary to fit a sparse coding model to the observed spectra in the previous created cube.\n",
    "It returns a DataFrame with a vector for each theoretical line for each isotope in molist"
   ]
  },
  {
   "cell_type": "code",
   "execution_count": null,
   "metadata": {
    "collapsed": true
   },
   "outputs": [],
   "source": [
    "dictionary = gen_words(molist, cube_params)\n",
    "save_dictionary(dictionary, 'band_9')"
   ]
  },
  {
   "cell_type": "code",
   "execution_count": 3,
   "metadata": {
    "collapsed": false
   },
   "outputs": [
    {
     "name": "stderr",
     "output_type": "stream",
     "text": [
      "WARNING: AstropyDeprecationWarning: The new_table function is deprecated and may be removed in a future version.\n",
      "        Use :meth:`BinTableHDU.from_columns` for new BINARY tables or :meth:`TableHDU.from_columns` for new ASCII tables instead. [astropy.utils.decorators]\n",
      "WARNING:astropy:AstropyDeprecationWarning: The new_table function is deprecated and may be removed in a future version.\n",
      "        Use :meth:`BinTableHDU.from_columns` for new BINARY tables or :meth:`TableHDU.from_columns` for new ASCII tables instead.\n"
     ]
    },
    {
     "name": "stdout",
     "output_type": "stream",
     "text": [
      "CH3OHvt=0-f602233.197\n",
      "602233.197\n",
      "Nuevo\n",
      "CH3OHvt=0-f604903.184CH3OHvt=0-f602233.197\n",
      "2669.987\n",
      "Nuevo\n",
      "CH3OHvt=0-f605587.005CH3OHvt=0-f604903.184\n",
      "683.821\n",
      "Nuevo\n",
      "SO2v=0-f604367.4364CH3OHvt=0-f605587.005\n",
      "-1219.5686\n",
      "Nuevo\n",
      "SO2v=0-f604406.5377SO2v=0-f604367.4364\n",
      "39.1013\n",
      "Nuevo\n",
      "SO2v=0-f604987.346SO2v=0-f604406.5377\n",
      "580.8083\n",
      "Nuevo\n",
      "SO2v=0-f605118.5165SO2v=0-f604987.346\n",
      "131.1705\n",
      "Nuevo\n",
      "SO2v=0-f605532.5228SO2v=0-f605118.5165\n",
      "414.0063\n",
      "Nuevo\n",
      "33SO2-f602337.0627SO2v=0-f605532.5228\n",
      "-3195.4601\n",
      "Nuevo\n",
      "33SO2-f602338.003933SO2-f602337.0627\n",
      "0.941200000001\n",
      "Mismo\n",
      "33SO2-f602348.921233SO2-f602337.0627&&f602338.0039\n",
      "10.9173\n",
      "Nuevo\n",
      "33SO2-f602349.818433SO2-f602348.9212\n",
      "0.897200000007\n",
      "Mismo\n",
      "33SO2-f602488.323133SO2-f602348.9212&&f602349.8184\n",
      "138.5047\n",
      "Nuevo\n",
      "33SO2-f602499.157633SO2-f602488.3231\n",
      "10.8345\n",
      "Nuevo\n",
      "33SO2-f603032.336733SO2-f602499.1576\n",
      "533.1791\n",
      "Nuevo\n",
      "33SO2-f603032.539733SO2-f603032.3367\n",
      "0.20299999998\n",
      "Mismo\n",
      "33SO2-f603036.295933SO2-f603032.3367&&f603032.5397\n",
      "3.75620000006\n",
      "Nuevo\n",
      "33SO2-f603036.459233SO2-f603036.2959\n",
      "0.163300000015\n",
      "Mismo\n",
      "33SO2-f603112.981633SO2-f603036.2959&&f603036.4592\n",
      "76.5224\n",
      "Nuevo\n",
      "33SO2-f603113.119133SO2-f603112.9816\n",
      "0.137499999953\n",
      "Mismo\n",
      "33SO2-f603113.212633SO2-f603112.9816&&f603113.1191\n",
      "0.093499999959\n",
      "Mismo\n",
      "33SO2-f603113.268333SO2-f603112.9816&&f603113.1191&&f603113.2126\n",
      "0.0557000000263\n",
      "Mismo\n",
      "33SO2-f604736.565633SO2-f603112.9816&&f603113.1191&&f603113.2126&&f603113.2683\n",
      "1623.2973\n",
      "Nuevo\n",
      "33SO2-f604736.76733SO2-f604736.5656\n",
      "0.20140000002\n",
      "Mismo\n",
      "33SO2-f604736.874133SO2-f604736.5656&&f604736.767\n",
      "0.107100000023\n",
      "Mismo\n",
      "33SO2-f604736.896233SO2-f604736.5656&&f604736.767&&f604736.8741\n",
      "0.0220999999437\n",
      "Mismo\n",
      "33SO2-f604736.92633SO2-f604736.5656&&f604736.767&&f604736.8741&&f604736.8962\n",
      "0.0298000000184\n",
      "Mismo\n",
      "33SO2-f604736.966333SO2-f604736.5656&&f604736.767&&f604736.8741&&f604736.8962&&f604736.926\n",
      "0.0402999999933\n",
      "Mismo\n",
      "33SO2-f604736.989233SO2-f604736.5656&&f604736.767&&f604736.8741&&f604736.8962&&f604736.926&&f604736.9663\n",
      "0.0228999999817\n",
      "Mismo\n",
      "33SO2-f605162.126733SO2-f604736.5656&&f604736.767&&f604736.8741&&f604736.8962&&f604736.926&&f604736.9663&&f604736.9892\n",
      "425.1375\n",
      "Nuevo\n",
      "33SO2-f605162.235933SO2-f605162.1267\n",
      "0.109199999948\n",
      "Mismo\n",
      "33SO2-f605162.310733SO2-f605162.1267&&f605162.2359\n",
      "0.0748000000603\n",
      "Mismo\n",
      "33SO2-f605162.352933SO2-f605162.1267&&f605162.2359&&f605162.3107\n",
      "0.0422000000253\n",
      "Mismo\n",
      "33SO2-f605357.530233SO2-f605162.1267&&f605162.2359&&f605162.3107&&f605162.3529\n",
      "195.1773\n",
      "Nuevo\n",
      "33SO2-f605366.914533SO2-f605357.5302\n",
      "9.38429999992\n",
      "Nuevo\n",
      "33SO2-f605367.49933SO2-f605366.9145\n",
      "0.584499999997\n",
      "Mismo\n",
      "33SO2-f605367.49933SO2-f605366.9145&&f605367.499\n",
      "0.0\n",
      "Mismo\n",
      "33SO2-f605367.49933SO2-f605366.9145&&f605367.499&&f605367.499\n",
      "0.0\n",
      "Mismo\n",
      "33SO2-f605367.49933SO2-f605366.9145&&f605367.499&&f605367.499&&f605367.499\n",
      "0.0\n",
      "Mismo\n",
      "33SO2-f605377.105233SO2-f605366.9145&&f605367.499&&f605367.499&&f605367.499&&f605367.499\n",
      "9.60620000004\n",
      "Nuevo\n",
      "34SO2v=0-f602629.729433SO2-f605377.1052\n",
      "-2747.3758\n",
      "Nuevo\n",
      "34SO2v=0-f602815.889134SO2v=0-f602629.7294\n",
      "186.1597\n",
      "Nuevo\n",
      "34SO2v=0-f603267.880734SO2v=0-f602815.8891\n",
      "451.9916\n",
      "Nuevo\n",
      "34SO2v=0-f603928.81634SO2v=0-f603267.8807\n",
      "660.9353\n",
      "Nuevo\n",
      "34SO2v=0-f604080.00434SO2v=0-f603928.816\n",
      "151.188\n",
      "Nuevo\n",
      "34SO2v=0-f604376.56334SO2v=0-f604080.004\n",
      "296.559\n",
      "Nuevo\n",
      "34SO2v=0-f604504.002834SO2v=0-f604376.563\n",
      "127.4398\n",
      "Nuevo\n",
      "34SO2v=0-f605440.42834SO2v=0-f604504.0028\n",
      "936.4252\n",
      "Nuevo\n",
      "34SO2v=0-f605499.885534SO2v=0-f605440.428\n",
      "59.4575\n",
      "Nuevo\n",
      "34SO2v=0-f605890.9334SO2v=0-f605499.8855\n",
      "391.0445\n",
      "Nuevo\n",
      "34SO2v=0-f605924.40334SO2v=0-f605890.93\n",
      "33.473\n",
      "Nuevo\n",
      "SO2v2=1-f602454.649334SO2v=0-f605924.403\n",
      "-3469.7537\n",
      "Nuevo\n",
      "SO2v2=1-f603332.8487SO2v2=1-f602454.6493\n",
      "878.1994\n",
      "Nuevo\n",
      "SO2v2=1-f603981.474SO2v2=1-f603332.8487\n",
      "648.6253\n",
      "Nuevo\n",
      "SO2v2=1-f604022.2577SO2v2=1-f603981.474\n",
      "40.7836999999\n",
      "Nuevo\n",
      "SO2v2=1-f604315.0048SO2v2=1-f604022.2577\n",
      "292.7471\n",
      "Nuevo\n",
      "SO2v2=1-f604398.1207SO2v2=1-f604315.0048\n",
      "83.1159\n",
      "Nuevo\n",
      "SO2v2=1-f604728.5953SO2v2=1-f604398.1207\n",
      "330.4746\n",
      "Nuevo\n",
      "SO2v2=1-f605781.546SO2v2=1-f604728.5953\n",
      "1052.9507\n",
      "Nuevo\n",
      "SO2v2=1-f605850.4063SO2v2=1-f605781.546\n",
      "68.8603000001\n",
      "Nuevo\n",
      "SO2v2=1-f605984.3296SO2v2=1-f605850.4063\n",
      "133.9233\n",
      "Nuevo\n",
      "OS18O-f602281.8842SO2v2=1-f605984.3296\n",
      "-3702.4454\n",
      "Nuevo\n",
      "OS18O-f602281.8842OS18O-f602281.8842\n",
      "0.0\n",
      "Mismo\n",
      "OS18O-f602313.3835OS18O-f602281.8842&&f602281.8842\n",
      "31.4993\n",
      "Nuevo\n",
      "OS18O-f602454.8308OS18O-f602313.3835\n",
      "141.4473\n",
      "Nuevo\n",
      "OS18O-f602841.4703OS18O-f602454.8308\n",
      "386.6395\n",
      "Nuevo\n",
      "OS18O-f602894.7504OS18O-f602841.4703\n",
      "53.2801\n",
      "Nuevo\n",
      "OS18O-f603090.155OS18O-f602894.7504\n",
      "195.4046\n",
      "Nuevo\n",
      "OS18O-f603331.9213OS18O-f603090.155\n",
      "241.7663\n",
      "Nuevo\n",
      "OS18O-f603608.7849OS18O-f603331.9213\n",
      "276.8636\n",
      "Nuevo\n",
      "OS18O-f604295.149OS18O-f603608.7849\n",
      "686.3641\n",
      "Nuevo\n",
      "OS18O-f605850.3965OS18O-f604295.149\n",
      "1555.2475\n",
      "Nuevo\n",
      "OS17O-f603060.5049OS18O-f605850.3965\n",
      "-2789.8916\n",
      "Nuevo\n",
      "OS17O-f603060.5049OS17O-f603060.5049\n",
      "0.0\n",
      "Mismo\n",
      "OS17O-f603105.7123OS17O-f603060.5049&&f603060.5049\n",
      "45.2074\n",
      "Nuevo\n",
      "OS17O-f603106.5013OS17O-f603105.7123\n",
      "0.78899999999\n",
      "Mismo\n",
      "OS17O-f604501.9322OS17O-f603105.7123&&f603106.5013\n",
      "1395.4309\n",
      "Nuevo\n",
      "OS17O-f604606.0077OS17O-f604501.9322\n",
      "104.0755\n",
      "Nuevo\n",
      "OS17O-f605172.0102OS17O-f604606.0077\n",
      "566.0025\n",
      "Nuevo\n",
      "OS17O-f605172.0102OS17O-f605172.0102\n",
      "0.0\n",
      "Mismo\n",
      "OS17O-f605240.925OS17O-f605172.0102&&f605172.0102\n",
      "68.9148\n",
      "Nuevo\n",
      "OS17O-f605724.232OS17O-f605240.925\n",
      "483.307\n",
      "Nuevo\n",
      "HC15Nv=0-f602274.1332OS17O-f605724.232\n",
      "-3450.0988\n",
      "Nuevo\n",
      "H13CNv2=1-f604090.544HC15Nv=0-f602274.1332\n",
      "1816.4108\n",
      "Nuevo\n",
      "H13CNv=0-f604267.914H13CNv2=1-f604090.544\n",
      "177.37\n",
      "Nuevo\n",
      "H213CS-f602149.9892H13CNv=0-f604267.914\n",
      "-2117.9248\n",
      "Nuevo\n",
      "H2C34S-f604710.9998H213CS-f602149.9892\n",
      "2561.0106\n",
      "Nuevo\n",
      "H2C34S-f605200.1552H2C34S-f604710.9998\n",
      "489.1554\n",
      "Nuevo\n",
      "H2C34S-f605200.1552H2C34S-f605200.1552\n",
      "0.0\n",
      "Mismo\n",
      "H2C34S-f605585.4505H2C34S-f605200.1552&&f605200.1552\n",
      "385.2953\n",
      "Nuevo\n",
      "H2C34S-f605585.4505H2C34S-f605585.4505\n",
      "0.0\n",
      "Mismo\n",
      "H2C34S-f605935.8198H2C34S-f605585.4505&&f605585.4505\n",
      "350.3693\n",
      "Nuevo\n",
      "H2C34S-f605935.8198H2C34S-f605935.8198\n",
      "0.0\n",
      "Mismo\n",
      "H2C18O-f603231.51H2C34S-f605935.8198&&f605935.8198\n",
      "-2704.3098\n",
      "Nuevo\n",
      "H213CO-f602083.584H2C18O-f603231.51\n",
      "-1147.926\n",
      "Nuevo\n"
     ]
    }
   ],
   "source": [
    "dictionary = gen_words(molist, cube_params, True)\n",
    "save_dictionary(dictionary, 'band_9_dual')"
   ]
  },
  {
   "cell_type": "code",
   "execution_count": 4,
   "metadata": {
    "collapsed": false
   },
   "outputs": [],
   "source": [
    "dictionary = load_dictionary('band_9')"
   ]
  },
  {
   "cell_type": "code",
   "execution_count": 5,
   "metadata": {
    "collapsed": true
   },
   "outputs": [],
   "source": [
    "dictionary = load_dictionary('band_9_dual')"
   ]
  },
  {
   "cell_type": "markdown",
   "metadata": {},
   "source": [
    "## Recalibration of Dictionary"
   ]
  },
  {
   "cell_type": "code",
   "execution_count": null,
   "metadata": {
    "collapsed": true
   },
   "outputs": [],
   "source": [
    "for i in range(0, 50):\n",
    "    if (i = 0)\n",
    "        cube_name = 'data/cube_fixed_width_'\n",
    "    if (i = 25)\n",
    "        cube_name = 'data/cube_variable_width_cube_'\n",
    "        \n",
    "    file_path = cube_name + str(i) + '.fits'\n",
    "    \n",
    "    train_pixel = (1, 1)\n",
    "    dictionary_recal = recal_words(file_path, dictionary, cube_params)\n",
    "    \n",
    "    X = get_values_filtered_normalized(file_path, train_pixel, cube_params)\n",
    "\n",
    "    y_train = get_fortran_array(np.asmatrix(X))\n",
    "    dictionary_recal_fa = np.asfortranarray(dictionary_recal,\n",
    "                                            dtype= np.double)"
   ]
  },
  {
   "cell_type": "markdown",
   "metadata": {},
   "source": [
    "### Training"
   ]
  },
  {
   "cell_type": "code",
   "execution_count": null,
   "metadata": {
    "collapsed": true
   },
   "outputs": [],
   "source": [
    "prediction = []"
   ]
  },
  {
   "cell_type": "code",
   "execution_count": null,
   "metadata": {
    "collapsed": true
   },
   "outputs": [],
   "source": [
    "for i in range(0, 50):\n",
    "    param = {\n",
    "      'lambda1' : 25,\n",
    "      # 'L': 1,\n",
    "      'pos' : True,\n",
    "      'mode' : 0,\n",
    "      'ols' : True,\n",
    "      'numThreads' : -1}\n",
    "    \n",
    "    alpha = spams.lasso(y_train, dictionary_recal_fa, **param).toarray()\n",
    "    total = np.inner(dictionary_recal_fa, alpha.T)\n",
    "    save_prediction(alpha, cube_name + str(i))"
   ]
  },
  {
   "cell_type": "code",
   "execution_count": null,
   "metadata": {
    "collapsed": true
   },
   "outputs": [],
   "source": [
    "for i in range(0, 50):\n",
    "    prediction[i] = load_prediction(cube_name + str(i))"
   ]
  },
  {
   "cell_type": "markdown",
   "metadata": {},
   "source": [
    "### Testing"
   ]
  },
  {
   "cell_type": "code",
   "execution_count": null,
   "metadata": {
    "collapsed": true
   },
   "outputs": [],
   "source": [
    "confusion_matrix = []\n",
    "results = []"
   ]
  },
  {
   "cell_type": "code",
   "execution_count": null,
   "metadata": {
    "collapsed": true
   },
   "outputs": [],
   "source": [
    "for i in range(0, 50):\n",
    "    confusion_matrix[i], results[i] = test(dictionary_recal, alpha, file_path, cube_params)"
   ]
  },
  {
   "cell_type": "code",
   "execution_count": 14,
   "metadata": {
    "collapsed": false,
    "scrolled": true
   },
   "outputs": [
    {
     "data": {
      "text/html": [
       "<div style=\"max-height:1000px;max-width:1500px;overflow:auto;\">\n",
       "<table border=\"1\" class=\"dataframe\">\n",
       "  <thead>\n",
       "    <tr style=\"text-align: right;\">\n",
       "      <th></th>\n",
       "      <th>SO2v2=1-f605781.546</th>\n",
       "      <th>SO2v2=1-f603981.474</th>\n",
       "      <th>H213CO-f602083.584</th>\n",
       "      <th>SO2v2=1-f604315.0048</th>\n",
       "      <th>SO2v2=1-f605984.3296</th>\n",
       "      <th>SO2v2=1-f602454.6493</th>\n",
       "      <th>SO2v2=1-f604398.1207</th>\n",
       "      <th>H2C34S-f605585.4505</th>\n",
       "      <th>H2C34S-f604710.9998</th>\n",
       "      <th>H13CNv=0-f604267.914</th>\n",
       "      <th>H2C34S-f605200.1552</th>\n",
       "      <th>H2C18O-f603231.51</th>\n",
       "      <th>SO2v2=1-f603332.8487</th>\n",
       "      <th>SO2v2=1-f604022.2577</th>\n",
       "      <th>H2C34S-f605935.8198</th>\n",
       "      <th>SO2v2=1-f605850.4063</th>\n",
       "      <th>H213CS-f602149.9892</th>\n",
       "      <th>SO2v2=1-f604728.5953</th>\n",
       "    </tr>\n",
       "  </thead>\n",
       "  <tbody>\n",
       "    <tr>\n",
       "      <th>CH3OHvt=0-f602233.197</th>\n",
       "      <td>0</td>\n",
       "      <td>0</td>\n",
       "      <td>0</td>\n",
       "      <td>0</td>\n",
       "      <td>0</td>\n",
       "      <td>0</td>\n",
       "      <td>0</td>\n",
       "      <td>0</td>\n",
       "      <td>0</td>\n",
       "      <td>0</td>\n",
       "      <td>0</td>\n",
       "      <td>0</td>\n",
       "      <td>0</td>\n",
       "      <td>0</td>\n",
       "      <td>0</td>\n",
       "      <td>0</td>\n",
       "      <td>0</td>\n",
       "      <td>0</td>\n",
       "    </tr>\n",
       "    <tr>\n",
       "      <th>34SO2v=0-f604376.563</th>\n",
       "      <td>0</td>\n",
       "      <td>0</td>\n",
       "      <td>0</td>\n",
       "      <td>0</td>\n",
       "      <td>0</td>\n",
       "      <td>0</td>\n",
       "      <td>0</td>\n",
       "      <td>0</td>\n",
       "      <td>0</td>\n",
       "      <td>0</td>\n",
       "      <td>0</td>\n",
       "      <td>0</td>\n",
       "      <td>0</td>\n",
       "      <td>0</td>\n",
       "      <td>0</td>\n",
       "      <td>0</td>\n",
       "      <td>0</td>\n",
       "      <td>0</td>\n",
       "    </tr>\n",
       "    <tr>\n",
       "      <th>H213CO-f602083.584</th>\n",
       "      <td>0</td>\n",
       "      <td>0</td>\n",
       "      <td>0</td>\n",
       "      <td>0</td>\n",
       "      <td>0</td>\n",
       "      <td>0</td>\n",
       "      <td>0</td>\n",
       "      <td>0</td>\n",
       "      <td>0</td>\n",
       "      <td>0</td>\n",
       "      <td>0</td>\n",
       "      <td>0</td>\n",
       "      <td>0</td>\n",
       "      <td>0</td>\n",
       "      <td>0</td>\n",
       "      <td>0</td>\n",
       "      <td>0</td>\n",
       "      <td>0</td>\n",
       "    </tr>\n",
       "  </tbody>\n",
       "</table>\n",
       "</div>"
      ],
      "text/plain": [
       "                       SO2v2=1-f605781.546  SO2v2=1-f603981.474  \\\n",
       "CH3OHvt=0-f602233.197                    0                    0   \n",
       "34SO2v=0-f604376.563                     0                    0   \n",
       "H213CO-f602083.584                       0                    0   \n",
       "\n",
       "                       H213CO-f602083.584  SO2v2=1-f604315.0048  \\\n",
       "CH3OHvt=0-f602233.197                   0                     0   \n",
       "34SO2v=0-f604376.563                    0                     0   \n",
       "H213CO-f602083.584                      0                     0   \n",
       "\n",
       "                       SO2v2=1-f605984.3296  SO2v2=1-f602454.6493  \\\n",
       "CH3OHvt=0-f602233.197                     0                     0   \n",
       "34SO2v=0-f604376.563                      0                     0   \n",
       "H213CO-f602083.584                        0                     0   \n",
       "\n",
       "                       SO2v2=1-f604398.1207  H2C34S-f605585.4505  \\\n",
       "CH3OHvt=0-f602233.197                     0                    0   \n",
       "34SO2v=0-f604376.563                      0                    0   \n",
       "H213CO-f602083.584                        0                    0   \n",
       "\n",
       "                       H2C34S-f604710.9998  H13CNv=0-f604267.914  \\\n",
       "CH3OHvt=0-f602233.197                    0                     0   \n",
       "34SO2v=0-f604376.563                     0                     0   \n",
       "H213CO-f602083.584                       0                     0   \n",
       "\n",
       "                       H2C34S-f605200.1552  H2C18O-f603231.51  \\\n",
       "CH3OHvt=0-f602233.197                    0                  0   \n",
       "34SO2v=0-f604376.563                     0                  0   \n",
       "H213CO-f602083.584                       0                  0   \n",
       "\n",
       "                       SO2v2=1-f603332.8487  SO2v2=1-f604022.2577  \\\n",
       "CH3OHvt=0-f602233.197                     0                     0   \n",
       "34SO2v=0-f604376.563                      0                     0   \n",
       "H213CO-f602083.584                        0                     0   \n",
       "\n",
       "                       H2C34S-f605935.8198  SO2v2=1-f605850.4063  \\\n",
       "CH3OHvt=0-f602233.197                    0                     0   \n",
       "34SO2v=0-f604376.563                     0                     0   \n",
       "H213CO-f602083.584                       0                     0   \n",
       "\n",
       "                       H213CS-f602149.9892  SO2v2=1-f604728.5953  \n",
       "CH3OHvt=0-f602233.197                    0                     0  \n",
       "34SO2v=0-f604376.563                     0                     0  \n",
       "H213CO-f602083.584                       0                     0  "
      ]
     },
     "execution_count": 14,
     "metadata": {},
     "output_type": "execute_result"
    }
   ],
   "source": [
    "confusion_matrix[0]"
   ]
  },
  {
   "cell_type": "code",
   "execution_count": 13,
   "metadata": {
    "collapsed": false
   },
   "outputs": [
    {
     "data": {
      "text/html": [
       "<div style=\"max-height:1000px;max-width:1500px;overflow:auto;\">\n",
       "<table border=\"1\" class=\"dataframe\">\n",
       "  <thead>\n",
       "    <tr style=\"text-align: right;\">\n",
       "      <th></th>\n",
       "      <th>Precision</th>\n",
       "      <th>Recall</th>\n",
       "      <th>F-Score</th>\n",
       "    </tr>\n",
       "  </thead>\n",
       "  <tbody>\n",
       "    <tr>\n",
       "      <th>SO2v2=1-f605781.546</th>\n",
       "      <td>0</td>\n",
       "      <td>0</td>\n",
       "      <td>0</td>\n",
       "    </tr>\n",
       "    <tr>\n",
       "      <th>SO2v2=1-f603981.474</th>\n",
       "      <td>0</td>\n",
       "      <td>0</td>\n",
       "      <td>0</td>\n",
       "    </tr>\n",
       "    <tr>\n",
       "      <th>H213CO-f602083.584</th>\n",
       "      <td>0</td>\n",
       "      <td>0</td>\n",
       "      <td>0</td>\n",
       "    </tr>\n",
       "    <tr>\n",
       "      <th>SO2v2=1-f604315.0048</th>\n",
       "      <td>0</td>\n",
       "      <td>0</td>\n",
       "      <td>0</td>\n",
       "    </tr>\n",
       "    <tr>\n",
       "      <th>SO2v2=1-f605984.3296</th>\n",
       "      <td>0</td>\n",
       "      <td>0</td>\n",
       "      <td>0</td>\n",
       "    </tr>\n",
       "    <tr>\n",
       "      <th>SO2v2=1-f602454.6493</th>\n",
       "      <td>0</td>\n",
       "      <td>0</td>\n",
       "      <td>0</td>\n",
       "    </tr>\n",
       "    <tr>\n",
       "      <th>SO2v2=1-f604398.1207</th>\n",
       "      <td>0</td>\n",
       "      <td>0</td>\n",
       "      <td>0</td>\n",
       "    </tr>\n",
       "    <tr>\n",
       "      <th>H2C34S-f605585.4505</th>\n",
       "      <td>0</td>\n",
       "      <td>0</td>\n",
       "      <td>0</td>\n",
       "    </tr>\n",
       "    <tr>\n",
       "      <th>H2C34S-f604710.9998</th>\n",
       "      <td>0</td>\n",
       "      <td>0</td>\n",
       "      <td>0</td>\n",
       "    </tr>\n",
       "    <tr>\n",
       "      <th>H13CNv=0-f604267.914</th>\n",
       "      <td>0</td>\n",
       "      <td>0</td>\n",
       "      <td>0</td>\n",
       "    </tr>\n",
       "    <tr>\n",
       "      <th>H2C34S-f605200.1552</th>\n",
       "      <td>0</td>\n",
       "      <td>0</td>\n",
       "      <td>0</td>\n",
       "    </tr>\n",
       "    <tr>\n",
       "      <th>H2C18O-f603231.51</th>\n",
       "      <td>0</td>\n",
       "      <td>0</td>\n",
       "      <td>0</td>\n",
       "    </tr>\n",
       "    <tr>\n",
       "      <th>SO2v2=1-f603332.8487</th>\n",
       "      <td>0</td>\n",
       "      <td>0</td>\n",
       "      <td>0</td>\n",
       "    </tr>\n",
       "    <tr>\n",
       "      <th>SO2v2=1-f604022.2577</th>\n",
       "      <td>0</td>\n",
       "      <td>0</td>\n",
       "      <td>0</td>\n",
       "    </tr>\n",
       "    <tr>\n",
       "      <th>H2C34S-f605935.8198</th>\n",
       "      <td>0</td>\n",
       "      <td>0</td>\n",
       "      <td>0</td>\n",
       "    </tr>\n",
       "    <tr>\n",
       "      <th>SO2v2=1-f605850.4063</th>\n",
       "      <td>0</td>\n",
       "      <td>0</td>\n",
       "      <td>0</td>\n",
       "    </tr>\n",
       "    <tr>\n",
       "      <th>H213CS-f602149.9892</th>\n",
       "      <td>0</td>\n",
       "      <td>0</td>\n",
       "      <td>0</td>\n",
       "    </tr>\n",
       "    <tr>\n",
       "      <th>SO2v2=1-f604728.5953</th>\n",
       "      <td>0</td>\n",
       "      <td>0</td>\n",
       "      <td>0</td>\n",
       "    </tr>\n",
       "  </tbody>\n",
       "</table>\n",
       "</div>"
      ],
      "text/plain": [
       "                      Precision  Recall  F-Score\n",
       "SO2v2=1-f605781.546           0       0        0\n",
       "SO2v2=1-f603981.474           0       0        0\n",
       "H213CO-f602083.584            0       0        0\n",
       "SO2v2=1-f604315.0048          0       0        0\n",
       "SO2v2=1-f605984.3296          0       0        0\n",
       "SO2v2=1-f602454.6493          0       0        0\n",
       "SO2v2=1-f604398.1207          0       0        0\n",
       "H2C34S-f605585.4505           0       0        0\n",
       "H2C34S-f604710.9998           0       0        0\n",
       "H13CNv=0-f604267.914          0       0        0\n",
       "H2C34S-f605200.1552           0       0        0\n",
       "H2C18O-f603231.51             0       0        0\n",
       "SO2v2=1-f603332.8487          0       0        0\n",
       "SO2v2=1-f604022.2577          0       0        0\n",
       "H2C34S-f605935.8198           0       0        0\n",
       "SO2v2=1-f605850.4063          0       0        0\n",
       "H213CS-f602149.9892           0       0        0\n",
       "SO2v2=1-f604728.5953          0       0        0"
      ]
     },
     "execution_count": 13,
     "metadata": {},
     "output_type": "execute_result"
    }
   ],
   "source": [
    "results[0]"
   ]
  },
  {
   "cell_type": "markdown",
   "metadata": {},
   "source": [
    "# Testing Band 7"
   ]
  },
  {
   "cell_type": "markdown",
   "metadata": {},
   "source": [
    "### Generate Datacubes in Band 7, Fixed Width"
   ]
  },
  {
   "cell_type": "code",
   "execution_count": 12,
   "metadata": {
    "collapsed": true
   },
   "outputs": [],
   "source": [
    "cube_params['freq'] = 277000"
   ]
  },
  {
   "cell_type": "code",
   "execution_count": 13,
   "metadata": {
    "collapsed": true
   },
   "outputs": [],
   "source": [
    "log=open('data/isolist_fixed_width.log', 'w')\n",
    "cube_n = 50\n",
    "cube_name = 'data/cube_fixed_width_'\n",
    "for i in range(0, 25):\n",
    "\n",
    "    # Creation of the cube\n",
    "    gen_cube(isolist[i], cube_params, cube_name + str(cube_n))\n",
    "\n",
    "    log.write(cube_name + ': ' + str(isolist[i]) + '\\n')\n",
    "    cube_n += 1\n",
    "log.close()"
   ]
  },
  {
   "cell_type": "markdown",
   "metadata": {},
   "source": [
    "### Generate Datacubes in Band 7, Variable (TO DO: Fix variable width in ASYDO) Width"
   ]
  },
  {
   "cell_type": "code",
   "execution_count": 16,
   "metadata": {
    "collapsed": false
   },
   "outputs": [],
   "source": [
    "log=open('data/isolist_fixed_width.log', 'w')\n",
    "cube_n = 75\n",
    "cube_name = 'data/cube_variable_width_'\n",
    "for i in range(0, 25):\n",
    "\n",
    "    # Creation of the cube\n",
    "    gen_cube_variable_width(isolist[i], cube_params, cube_name + str(cube_n))\n",
    "\n",
    "    log.write(cube_name + ': ' + str(isolist[i]) + '\\n')\n",
    "    cube_n += 1\n",
    "log.close()"
   ]
  },
  {
   "cell_type": "markdown",
   "metadata": {},
   "source": [
    "## Creation of Dictionary"
   ]
  },
  {
   "cell_type": "code",
   "execution_count": 14,
   "metadata": {
    "collapsed": true
   },
   "outputs": [],
   "source": [
    "dictionary = gen_words(molist, cube_params)\n",
    "save_dictionary(dictionary, 'band_7')"
   ]
  },
  {
   "cell_type": "code",
   "execution_count": null,
   "metadata": {
    "collapsed": true
   },
   "outputs": [],
   "source": [
    "dictionary = load_dictionary('band_7')"
   ]
  },
  {
   "cell_type": "markdown",
   "metadata": {},
   "source": [
    "### Recalibration of the Dictionary"
   ]
  },
  {
   "cell_type": "code",
   "execution_count": null,
   "metadata": {
    "collapsed": true
   },
   "outputs": [],
   "source": [
    "for i in range(0, 50):\n",
    "    # #\n",
    "    file_path = cube_name + str(cube_n) + '.fits'\n",
    "    \n",
    "    train_pixel = (1, 1)\n",
    "    dictionary_recal = recal_words(file_path, dictionary, cube_params)\n",
    "    \n",
    "    X = get_values_filtered_normalized(file_path, train_pixel, cube_params)\n",
    "\n",
    "    y_train = get_fortran_array(np.asmatrix(X))\n",
    "    dictionary_recal_fa = np.asfortranarray(dictionary_recal,\n",
    "                                            dtype= np.double)"
   ]
  },
  {
   "cell_type": "markdown",
   "metadata": {},
   "source": [
    "### Training"
   ]
  },
  {
   "cell_type": "code",
   "execution_count": null,
   "metadata": {
    "collapsed": true
   },
   "outputs": [],
   "source": [
    "for i in range(50, 100):\n",
    "    param = {\n",
    "      'lambda1' : 25,\n",
    "      # 'L': 1,\n",
    "      'pos' : True,\n",
    "      'mode' : 0,\n",
    "      'ols' : True,\n",
    "      'numThreads' : -1}\n",
    "    \n",
    "    alpha = spams.lasso(y_train, dictionary_recal_fa, **param).toarray()\n",
    "    total = np.inner(dictionary_recal_fa, alpha.T)\n",
    "    save_prediction(alpha, cube_name + str(cube_n))"
   ]
  },
  {
   "cell_type": "code",
   "execution_count": null,
   "metadata": {
    "collapsed": true
   },
   "outputs": [],
   "source": [
    "for i in range(50, 100):\n",
    "    prediction[i] = save_prediction(alpha, cube_name + str(cube_n))"
   ]
  },
  {
   "cell_type": "markdown",
   "metadata": {},
   "source": [
    "### Testing"
   ]
  },
  {
   "cell_type": "code",
   "execution_count": null,
   "metadata": {
    "collapsed": true
   },
   "outputs": [],
   "source": [
    "results = []\n",
    "for i in range(50, 100):\n",
    "    confusion_matrix[i], results[i] = test(dictionary_recal, alpha, file_path, cube_params)"
   ]
  },
  {
   "cell_type": "code",
   "execution_count": null,
   "metadata": {
    "collapsed": true
   },
   "outputs": [],
   "source": [
    "confusion_matrix[50]"
   ]
  },
  {
   "cell_type": "code",
   "execution_count": null,
   "metadata": {
    "collapsed": true
   },
   "outputs": [],
   "source": [
    "results[50]"
   ]
  },
  {
   "cell_type": "code",
   "execution_count": 2,
   "metadata": {
    "collapsed": true
   },
   "outputs": [],
   "source": [
    "from astropy.io import fits"
   ]
  },
  {
   "cell_type": "code",
   "execution_count": null,
   "metadata": {
    "collapsed": true
   },
   "outputs": [],
   "source": []
  }
 ],
 "metadata": {
  "kernelspec": {
   "display_name": "Python 2",
   "language": "python",
   "name": "python2"
  },
  "language_info": {
   "codemirror_mode": {
    "name": "ipython",
    "version": 2
   },
   "file_extension": ".py",
   "mimetype": "text/x-python",
   "name": "python",
   "nbconvert_exporter": "python",
   "pygments_lexer": "ipython2",
   "version": "2.7.10"
  }
 },
 "nbformat": 4,
 "nbformat_minor": 0
}
